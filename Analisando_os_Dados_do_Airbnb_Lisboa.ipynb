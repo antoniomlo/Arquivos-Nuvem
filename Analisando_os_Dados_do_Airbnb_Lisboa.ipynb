{
  "cells": [
    {
      "cell_type": "markdown",
      "metadata": {
        "id": "view-in-github",
        "colab_type": "text"
      },
      "source": [
        "<a href=\"https://colab.research.google.com/github/antoniomlo/Arquivos-Nuvem/blob/main/Analisando_os_Dados_do_Airbnb_Lisboa.ipynb\" target=\"_parent\"><img src=\"https://colab.research.google.com/assets/colab-badge.svg\" alt=\"Open In Colab\"/></a>"
      ]
    },
    {
      "cell_type": "markdown",
      "metadata": {
        "id": "kLI0gJtzDGuQ"
      },
      "source": [
        "<h2><b>Projeto Airbnb</b><h2>\n",
        "\n",
        "*by [Antonio Melo](https://www.linkedin.com/in/antoniomlo/)*\n",
        "\n",
        "# **Análise dos Dados do Airbnb - Lisboa**\n",
        "\n",
        "<img alt=\"Analisando Airbnb\" width=\"10%\" src=\"https://marcas-logos.net/wp-content/uploads/2020/03/Airbnb-logo.jpg\">\n",
        "\n",
        "  O [Airbnb](https://www.airbnb.com.br/) já é considerado como a **maior empresa hoteleira da atualidade** mesmo sem possuir **nenhum hotel**.\n",
        "\n",
        "  O Airbnb possui uma plataforma inovadora no quesito hospedagem, deixando a opção  quem quer viajar de se hospedar em casas inteiras ou até mesmo quartos compartilhados, tornando a interação entre hóspede e anfitrião bem mais flexível. \n",
        "\n",
        "   A Startup fundada 14 anos atrás, em outubro de 2021 já contava com **mais de 1 Bilhão** de pessoas hospedadas ao redor de todo o mundo, desafiando as redes hoteleiras tradicionais.\n",
        "\n",
        "  Uma das iniciativas do Airbnb é disponibilizar dados do site, para algumas das principais cidades do mundo. Por meio do portal [Inside Airbnb](http://insideairbnb.com/get-the-data.html), é possível baixar uma grande quantidade de dados para desenvolver projetos e soluções de *Data Science*.\n",
        "<center><img alt=\"Analisando Airbnb\" width=\"80%\" src=\"https://live.staticflickr.com/5232/13990659588_8a29d67e62_h.jpg\"></center>\n",
        "\n",
        "**Neste *notebook*, irei analisar os dados referentes à cidade de Lisboa, e ver quais insights podem ser extraídos a partir de dados brutos.**"
      ]
    },
    {
      "cell_type": "markdown",
      "metadata": {
        "id": "0zxQHhIUDF_2"
      },
      "source": [
        "## **Obtenção dos Dados**\n"
      ]
    },
    {
      "cell_type": "markdown",
      "metadata": {
        "id": "YLCHNHmK6ndr"
      },
      "source": [
        "Para começar, irei importar as bibliotecas necessarias para a analise dos dados/gráficos e colocar as devidas especificações das fontes."
      ]
    },
    {
      "cell_type": "code",
      "execution_count": null,
      "metadata": {
        "id": "Vhp2wMPgJ6zX"
      },
      "outputs": [],
      "source": [
        "# Importando as bibliotecas\n",
        "import pandas as pd\n",
        "import matplotlib.pyplot as plt\n",
        "import numpy as np"
      ]
    },
    {
      "cell_type": "code",
      "execution_count": null,
      "metadata": {
        "id": "tUmoAT8DLQ5T"
      },
      "outputs": [],
      "source": [
        "# Importando o arquivo csv que iremos colocar no DataFrame\n",
        "df = pd.read_csv('http://data.insideairbnb.com/portugal/lisbon/lisbon/2021-10-15/visualisations/listings.csv')"
      ]
    },
    {
      "cell_type": "markdown",
      "metadata": {
        "id": "qb5By2nIMS6m"
      },
      "source": [
        "## **Análise dos Dados**\n"
      ]
    },
    {
      "cell_type": "markdown",
      "metadata": {
        "id": "RYgvuebKNg8-"
      },
      "source": [
        "**Dicionário das variáveis**\n",
        "\n",
        "* `id` - Número de ID do imovel\n",
        "* `name` - Nome da propriedade anunciada\n",
        "* `host_id` - Número de ID do proprietario\n",
        "* `host_name` - Nome do proprietario\n",
        "* `neighbourhood_group` - Coluna ausente de valor válido\n",
        "* `neighbourhood` - Nome do Distrito\n",
        "* `latitude\t` - Coordenada da latitude da propriedade\n",
        "* `longitude` - Coordenada da latitude da propriedade\n",
        "* `room_type` - Tipo de quarto \n",
        "* `price` - Preço do aluguel \n",
        "* `minimum_nights` - Minimo de Noites para reserva\n",
        "* `number_of_reviews` - Numero de feedbacks da propriedade\n",
        "* `last_review` - Data do ultimo feedback \n",
        "* `reviews_per_month` - Número de feedback por mês\n",
        "* `calculated_host_listings_count` - Quantidade de imóveis do mesmo proprietario\n",
        "* `availability_365` - Número de dias de disponibilidade dentro de 365 dias\n",
        "\n",
        "\n",
        "Antes de iniciar qualquer análise, irei verificar a cara do nosso *dataset*, analisando as 5 primeiras entradas."
      ]
    },
    {
      "cell_type": "code",
      "execution_count": null,
      "metadata": {
        "colab": {
          "base_uri": "https://localhost:8080/",
          "height": 530
        },
        "id": "2iS_dae7YQtO",
        "outputId": "6e4b2235-abce-4099-d3f9-c9012b70ef2c"
      },
      "outputs": [
        {
          "output_type": "execute_result",
          "data": {
            "text/html": [
              "\n",
              "  <div id=\"df-68ecc527-e3c9-4539-adc4-cc48454ade95\">\n",
              "    <div class=\"colab-df-container\">\n",
              "      <div>\n",
              "<style scoped>\n",
              "    .dataframe tbody tr th:only-of-type {\n",
              "        vertical-align: middle;\n",
              "    }\n",
              "\n",
              "    .dataframe tbody tr th {\n",
              "        vertical-align: top;\n",
              "    }\n",
              "\n",
              "    .dataframe thead th {\n",
              "        text-align: right;\n",
              "    }\n",
              "</style>\n",
              "<table border=\"1\" class=\"dataframe\">\n",
              "  <thead>\n",
              "    <tr style=\"text-align: right;\">\n",
              "      <th></th>\n",
              "      <th>id</th>\n",
              "      <th>name</th>\n",
              "      <th>host_id</th>\n",
              "      <th>host_name</th>\n",
              "      <th>neighbourhood_group</th>\n",
              "      <th>neighbourhood</th>\n",
              "      <th>latitude</th>\n",
              "      <th>longitude</th>\n",
              "      <th>room_type</th>\n",
              "      <th>price</th>\n",
              "      <th>minimum_nights</th>\n",
              "      <th>number_of_reviews</th>\n",
              "      <th>last_review</th>\n",
              "      <th>reviews_per_month</th>\n",
              "      <th>calculated_host_listings_count</th>\n",
              "      <th>availability_365</th>\n",
              "      <th>number_of_reviews_ltm</th>\n",
              "      <th>license</th>\n",
              "    </tr>\n",
              "  </thead>\n",
              "  <tbody>\n",
              "    <tr>\n",
              "      <th>0</th>\n",
              "      <td>6499</td>\n",
              "      <td>Belém 1 Bedroom Historical Apartment</td>\n",
              "      <td>14455</td>\n",
              "      <td>Bruno</td>\n",
              "      <td>Lisboa</td>\n",
              "      <td>Belm</td>\n",
              "      <td>38.69750</td>\n",
              "      <td>-9.19768</td>\n",
              "      <td>Entire home/apt</td>\n",
              "      <td>40</td>\n",
              "      <td>3</td>\n",
              "      <td>30</td>\n",
              "      <td>2021-09-18</td>\n",
              "      <td>0.35</td>\n",
              "      <td>1</td>\n",
              "      <td>161</td>\n",
              "      <td>4</td>\n",
              "      <td>NaN</td>\n",
              "    </tr>\n",
              "    <tr>\n",
              "      <th>1</th>\n",
              "      <td>25659</td>\n",
              "      <td>Heart of Alfama Lisbon Center - Cœur de l'Alfama</td>\n",
              "      <td>107347</td>\n",
              "      <td>Ellie</td>\n",
              "      <td>Lisboa</td>\n",
              "      <td>Santa Maria Maior</td>\n",
              "      <td>38.71241</td>\n",
              "      <td>-9.12706</td>\n",
              "      <td>Entire home/apt</td>\n",
              "      <td>45</td>\n",
              "      <td>2</td>\n",
              "      <td>122</td>\n",
              "      <td>2019-11-08</td>\n",
              "      <td>1.35</td>\n",
              "      <td>1</td>\n",
              "      <td>296</td>\n",
              "      <td>9</td>\n",
              "      <td>56539/AL.</td>\n",
              "    </tr>\n",
              "    <tr>\n",
              "      <th>2</th>\n",
              "      <td>29248</td>\n",
              "      <td>Apartamento Alfama com vista para o rio!</td>\n",
              "      <td>125768</td>\n",
              "      <td>Bárbara</td>\n",
              "      <td>Lisboa</td>\n",
              "      <td>Santa Maria Maior</td>\n",
              "      <td>38.71082</td>\n",
              "      <td>-9.12719</td>\n",
              "      <td>Entire home/apt</td>\n",
              "      <td>54</td>\n",
              "      <td>3</td>\n",
              "      <td>333</td>\n",
              "      <td>2019-10-29</td>\n",
              "      <td>2.73</td>\n",
              "      <td>1</td>\n",
              "      <td>170</td>\n",
              "      <td>10</td>\n",
              "      <td>23535/AL</td>\n",
              "    </tr>\n",
              "    <tr>\n",
              "      <th>3</th>\n",
              "      <td>29396</td>\n",
              "      <td>Alfama Hill - Boutique apartment</td>\n",
              "      <td>126415</td>\n",
              "      <td>Mónica</td>\n",
              "      <td>Lisboa</td>\n",
              "      <td>Santa Maria Maior</td>\n",
              "      <td>38.71156</td>\n",
              "      <td>-9.12987</td>\n",
              "      <td>Entire home/apt</td>\n",
              "      <td>51</td>\n",
              "      <td>2</td>\n",
              "      <td>290</td>\n",
              "      <td>2021-10-01</td>\n",
              "      <td>2.81</td>\n",
              "      <td>1</td>\n",
              "      <td>299</td>\n",
              "      <td>34</td>\n",
              "      <td>28737/AL</td>\n",
              "    </tr>\n",
              "    <tr>\n",
              "      <th>4</th>\n",
              "      <td>29720</td>\n",
              "      <td>TheHOUSE - Your luxury home</td>\n",
              "      <td>128075</td>\n",
              "      <td>Francisco</td>\n",
              "      <td>Lisboa</td>\n",
              "      <td>Estrela</td>\n",
              "      <td>38.71108</td>\n",
              "      <td>-9.15979</td>\n",
              "      <td>Entire home/apt</td>\n",
              "      <td>1114</td>\n",
              "      <td>2</td>\n",
              "      <td>59</td>\n",
              "      <td>2021-09-04</td>\n",
              "      <td>0.86</td>\n",
              "      <td>1</td>\n",
              "      <td>323</td>\n",
              "      <td>4</td>\n",
              "      <td>55695/AL</td>\n",
              "    </tr>\n",
              "  </tbody>\n",
              "</table>\n",
              "</div>\n",
              "      <button class=\"colab-df-convert\" onclick=\"convertToInteractive('df-68ecc527-e3c9-4539-adc4-cc48454ade95')\"\n",
              "              title=\"Convert this dataframe to an interactive table.\"\n",
              "              style=\"display:none;\">\n",
              "        \n",
              "  <svg xmlns=\"http://www.w3.org/2000/svg\" height=\"24px\"viewBox=\"0 0 24 24\"\n",
              "       width=\"24px\">\n",
              "    <path d=\"M0 0h24v24H0V0z\" fill=\"none\"/>\n",
              "    <path d=\"M18.56 5.44l.94 2.06.94-2.06 2.06-.94-2.06-.94-.94-2.06-.94 2.06-2.06.94zm-11 1L8.5 8.5l.94-2.06 2.06-.94-2.06-.94L8.5 2.5l-.94 2.06-2.06.94zm10 10l.94 2.06.94-2.06 2.06-.94-2.06-.94-.94-2.06-.94 2.06-2.06.94z\"/><path d=\"M17.41 7.96l-1.37-1.37c-.4-.4-.92-.59-1.43-.59-.52 0-1.04.2-1.43.59L10.3 9.45l-7.72 7.72c-.78.78-.78 2.05 0 2.83L4 21.41c.39.39.9.59 1.41.59.51 0 1.02-.2 1.41-.59l7.78-7.78 2.81-2.81c.8-.78.8-2.07 0-2.86zM5.41 20L4 18.59l7.72-7.72 1.47 1.35L5.41 20z\"/>\n",
              "  </svg>\n",
              "      </button>\n",
              "      \n",
              "  <style>\n",
              "    .colab-df-container {\n",
              "      display:flex;\n",
              "      flex-wrap:wrap;\n",
              "      gap: 12px;\n",
              "    }\n",
              "\n",
              "    .colab-df-convert {\n",
              "      background-color: #E8F0FE;\n",
              "      border: none;\n",
              "      border-radius: 50%;\n",
              "      cursor: pointer;\n",
              "      display: none;\n",
              "      fill: #1967D2;\n",
              "      height: 32px;\n",
              "      padding: 0 0 0 0;\n",
              "      width: 32px;\n",
              "    }\n",
              "\n",
              "    .colab-df-convert:hover {\n",
              "      background-color: #E2EBFA;\n",
              "      box-shadow: 0px 1px 2px rgba(60, 64, 67, 0.3), 0px 1px 3px 1px rgba(60, 64, 67, 0.15);\n",
              "      fill: #174EA6;\n",
              "    }\n",
              "\n",
              "    [theme=dark] .colab-df-convert {\n",
              "      background-color: #3B4455;\n",
              "      fill: #D2E3FC;\n",
              "    }\n",
              "\n",
              "    [theme=dark] .colab-df-convert:hover {\n",
              "      background-color: #434B5C;\n",
              "      box-shadow: 0px 1px 3px 1px rgba(0, 0, 0, 0.15);\n",
              "      filter: drop-shadow(0px 1px 2px rgba(0, 0, 0, 0.3));\n",
              "      fill: #FFFFFF;\n",
              "    }\n",
              "  </style>\n",
              "\n",
              "      <script>\n",
              "        const buttonEl =\n",
              "          document.querySelector('#df-68ecc527-e3c9-4539-adc4-cc48454ade95 button.colab-df-convert');\n",
              "        buttonEl.style.display =\n",
              "          google.colab.kernel.accessAllowed ? 'block' : 'none';\n",
              "\n",
              "        async function convertToInteractive(key) {\n",
              "          const element = document.querySelector('#df-68ecc527-e3c9-4539-adc4-cc48454ade95');\n",
              "          const dataTable =\n",
              "            await google.colab.kernel.invokeFunction('convertToInteractive',\n",
              "                                                     [key], {});\n",
              "          if (!dataTable) return;\n",
              "\n",
              "          const docLinkHtml = 'Like what you see? Visit the ' +\n",
              "            '<a target=\"_blank\" href=https://colab.research.google.com/notebooks/data_table.ipynb>data table notebook</a>'\n",
              "            + ' to learn more about interactive tables.';\n",
              "          element.innerHTML = '';\n",
              "          dataTable['output_type'] = 'display_data';\n",
              "          await google.colab.output.renderOutput(dataTable, element);\n",
              "          const docLink = document.createElement('div');\n",
              "          docLink.innerHTML = docLinkHtml;\n",
              "          element.appendChild(docLink);\n",
              "        }\n",
              "      </script>\n",
              "    </div>\n",
              "  </div>\n",
              "  "
            ],
            "text/plain": [
              "      id  ...    license\n",
              "0   6499  ...        NaN\n",
              "1  25659  ...  56539/AL.\n",
              "2  29248  ...   23535/AL\n",
              "3  29396  ...   28737/AL\n",
              "4  29720  ...   55695/AL\n",
              "\n",
              "[5 rows x 18 columns]"
            ]
          },
          "metadata": {},
          "execution_count": 28
        }
      ],
      "source": [
        "# Obtendo as 5 primeiras entradas\n",
        "df.head()"
      ]
    },
    {
      "cell_type": "markdown",
      "metadata": {
        "id": "6-B_qtEaYEd-"
      },
      "source": [
        "### **Quantos atributos (variáveis) e quantas entradas o conjunto de dados possui? Quais os tipos das variáveis?**"
      ]
    },
    {
      "cell_type": "code",
      "execution_count": null,
      "metadata": {
        "colab": {
          "base_uri": "https://localhost:8080/"
        },
        "id": "TFRK0tniLV-G",
        "outputId": "20d58476-1f4b-46da-dae5-a9d607913acb"
      },
      "outputs": [
        {
          "output_type": "stream",
          "name": "stdout",
          "text": [
            "(18761, 18)\n"
          ]
        },
        {
          "output_type": "execute_result",
          "data": {
            "text/plain": [
              "id                                  int64\n",
              "name                               object\n",
              "host_id                             int64\n",
              "host_name                          object\n",
              "neighbourhood_group                object\n",
              "neighbourhood                      object\n",
              "latitude                          float64\n",
              "longitude                         float64\n",
              "room_type                          object\n",
              "price                               int64\n",
              "minimum_nights                      int64\n",
              "number_of_reviews                   int64\n",
              "last_review                        object\n",
              "reviews_per_month                 float64\n",
              "calculated_host_listings_count      int64\n",
              "availability_365                    int64\n",
              "number_of_reviews_ltm               int64\n",
              "license                            object\n",
              "dtype: object"
            ]
          },
          "metadata": {},
          "execution_count": 29
        }
      ],
      "source": [
        "# Identificando o volume de dados do DataFrame\n",
        "print(df.shape)\n",
        "\n",
        "# Verificando os tipos de variáveis presentes\n",
        "df.dtypes"
      ]
    },
    {
      "cell_type": "markdown",
      "metadata": {
        "id": "8OcVQriU7qyf"
      },
      "source": [
        "Após essa análise, podemos ver que esse Dataframe possui 18761 linhas e 18 colunas. Além disso, as váriaveis estão classificadas da seguinte maneira: int, que são os valores inteiros, float, que são os valores decimais, e object, que são as palavras."
      ]
    },
    {
      "cell_type": "markdown",
      "metadata": {
        "id": "yz1urSUGW9iE"
      },
      "source": [
        "### **Qual a porcentagem de valores ausentes no *dataset*?**\n",
        "Os valores ausentes dizem muito sobre a qualidade do dataset. Visando apresentar um dataset de qualidade, irei verificar se tem valores ausentes e decidir a partir desses se devo retirá-los ou não."
      ]
    },
    {
      "cell_type": "code",
      "execution_count": null,
      "metadata": {
        "colab": {
          "base_uri": "https://localhost:8080/"
        },
        "id": "plk2FjbCXOqP",
        "outputId": "d0bc0c0c-10c7-46ca-a690-22f2566f38ec"
      },
      "outputs": [
        {
          "output_type": "execute_result",
          "data": {
            "text/plain": [
              "reviews_per_month                 14.647407\n",
              "last_review                       14.647407\n",
              "license                            9.903523\n",
              "host_name                          0.090614\n",
              "name                               0.042642\n",
              "longitude                          0.000000\n",
              "host_id                            0.000000\n",
              "neighbourhood_group                0.000000\n",
              "neighbourhood                      0.000000\n",
              "latitude                           0.000000\n",
              "room_type                          0.000000\n",
              "number_of_reviews_ltm              0.000000\n",
              "price                              0.000000\n",
              "minimum_nights                     0.000000\n",
              "number_of_reviews                  0.000000\n",
              "calculated_host_listings_count     0.000000\n",
              "availability_365                   0.000000\n",
              "id                                 0.000000\n",
              "dtype: float64"
            ]
          },
          "metadata": {},
          "execution_count": 30
        }
      ],
      "source": [
        "# Ordenando em ordem decrescente as variáveis por seus valores ausentes\n",
        "(df.isnull().sum() / df.shape[0]).sort_values(ascending=False) * 100"
      ]
    },
    {
      "cell_type": "markdown",
      "metadata": {
        "id": "BcL0uP3ytljp"
      },
      "source": [
        "Após a leitura, é possível perceber que aproximadamente 15% dos valores de `reviews_per_month ` e `last_review` estão ausentes e aproximadamente 10% de `license` também estão ausentes. Tendo em vista que nenhum deles possui informações tão relevantes para a análise essa análise, iremos excluir suas colunas.\n",
        "\n",
        "Em relação as outras entradas ausentes, como representam menos de 0,1% iremos excluir suas linhas."
      ]
    },
    {
      "cell_type": "code",
      "execution_count": null,
      "metadata": {
        "id": "sIM7QjeytkuZ"
      },
      "outputs": [],
      "source": [
        "df = df.drop(columns=['license','reviews_per_month','last_review'])\n",
        "df = df.dropna(axis=0)"
      ]
    },
    {
      "cell_type": "markdown",
      "metadata": {
        "id": "6EyXhW5j0XMK"
      },
      "source": [
        "Agora irei checar se a exclusão está de acordo com o esperado.\n"
      ]
    },
    {
      "cell_type": "code",
      "execution_count": null,
      "metadata": {
        "colab": {
          "base_uri": "https://localhost:8080/"
        },
        "id": "ZCZnC9Uqz2af",
        "outputId": "5a36b7a5-fde7-41d1-db45-440a24714ff9"
      },
      "outputs": [
        {
          "output_type": "stream",
          "name": "stdout",
          "text": [
            "(18736, 15)\n"
          ]
        },
        {
          "output_type": "execute_result",
          "data": {
            "text/plain": [
              "number_of_reviews_ltm             0.0\n",
              "availability_365                  0.0\n",
              "calculated_host_listings_count    0.0\n",
              "number_of_reviews                 0.0\n",
              "minimum_nights                    0.0\n",
              "price                             0.0\n",
              "room_type                         0.0\n",
              "longitude                         0.0\n",
              "latitude                          0.0\n",
              "neighbourhood                     0.0\n",
              "neighbourhood_group               0.0\n",
              "host_name                         0.0\n",
              "host_id                           0.0\n",
              "name                              0.0\n",
              "id                                0.0\n",
              "dtype: float64"
            ]
          },
          "metadata": {},
          "execution_count": 32
        }
      ],
      "source": [
        "print(df.shape)\n",
        "(df.isnull().sum() / df.shape[0]).sort_values(ascending=False) * 100"
      ]
    },
    {
      "cell_type": "markdown",
      "metadata": {
        "id": "8p8D9AzR-KPD"
      },
      "source": [
        "Após esse processo, o novo dataframe está com 18736 linhas e 15 colunas e sem nenhum valor ausente. Agora podemos dar continuidade a análise e observar a quantidade de *outliers* que o dataframe possui."
      ]
    },
    {
      "cell_type": "markdown",
      "metadata": {
        "id": "iHXvvHIxaoNc"
      },
      "source": [
        "### **Qual o tipo de distribuição das variáveis?** "
      ]
    },
    {
      "cell_type": "code",
      "execution_count": null,
      "metadata": {
        "colab": {
          "base_uri": "https://localhost:8080/",
          "height": 878
        },
        "id": "q2wWSfeRbmBo",
        "outputId": "b359af33-ca07-4a90-f7e7-ce9d9e39d8ac"
      },
      "outputs": [
        {
          "output_type": "display_data",
          "data": {
            "image/png": "[encoded data removed]",
            "text/plain": [
              "<Figure size 1584x1080 with 12 Axes>"
            ]
          },
          "metadata": {
            "needs_background": "light"
          }
        }
      ],
      "source": [
        "# Plotando o histograma das variáveis numéricas\n",
        "df.hist(bins=12, figsize=(22,15), grid=False, color= '#ff4d00',ec = \"w\");\n"
      ]
    },
    {
      "cell_type": "markdown",
      "metadata": {
        "id": "daD6U_hi-9mm"
      },
      "source": [
        "Após analisar os histogramas, é notável que `minimum_nights` e `price` estão com valores suspeitos, tendo em vista que possuem como valores maximos 1000 noites mínimas para aluguel e 11499 euros por díaria. \n",
        "\n",
        "Logo, vamos analisar esses duas colunas mais afundo."
      ]
    },
    {
      "cell_type": "markdown",
      "metadata": {
        "id": "7oD0EDemy7YR"
      },
      "source": [
        "## **Há Outliers presentes?**"
      ]
    },
    {
      "cell_type": "markdown",
      "metadata": {
        "id": "fBGZh19vCyhM"
      },
      "source": [
        "Para analisar se existem outliers iremos usar dois métodos:\n",
        "\n",
        "* Resumo estatístico com o `describe()`\n",
        "* Plotar `boxplots` para a variável.\n"
      ]
    },
    {
      "cell_type": "code",
      "execution_count": null,
      "metadata": {
        "colab": {
          "base_uri": "https://localhost:8080/"
        },
        "id": "B8L2Obady7LZ",
        "outputId": "c2974a2e-9db2-4c22-c39e-bd8c6f2e8dfb"
      },
      "outputs": [
        {
          "output_type": "stream",
          "name": "stdout",
          "text": [
            "       minimum_nights     price\n",
            "count        18736.00  18736.00\n",
            "mean             4.08    104.57\n",
            "std             18.05    199.76\n",
            "min              1.00      0.00\n",
            "25%              2.00     50.00\n",
            "50%              2.00     74.00\n",
            "75%              3.00    110.00\n",
            "max           1000.00  11499.00\n"
          ]
        }
      ],
      "source": [
        "print(df[['minimum_nights', 'price']].describe().round(2))"
      ]
    },
    {
      "cell_type": "markdown",
      "metadata": {
        "id": "5F6A_T3pACUC"
      },
      "source": [
        "Com a obtenção desses dados, podemos analisar mais profundamente se há outliers. Na variável `minimum_nights` por exemplo, podemos observar que a mediana (`std`), a média (`mean`) e com 75% de seus valores estando abaixo de 3 noite, estão coerentes. Contudo, ao analizar o valor máximo(`max`), é perceptível que é um valor totalmente fora da curva, considerado um outlier. \n",
        "\n",
        "Na coluna `price ocorre a mesma situação porem de forma mais agressiva. É possível notar que a diferença entre 75% dos valores e o valor máximo é enorme, deixando a entender que é mais um caso de outlier. Para melhor visualização desses outliers, irei plotar o boxplot de ambos a seguir."
      ]
    },
    {
      "cell_type": "markdown",
      "metadata": {
        "id": "cNYO5MmW2NFQ"
      },
      "source": [
        "### **Boxplot da variável** `minimun_nights`"
      ]
    },
    {
      "cell_type": "code",
      "execution_count": null,
      "metadata": {
        "colab": {
          "base_uri": "https://localhost:8080/",
          "height": 212
        },
        "id": "AXvT4yrP0mAw",
        "outputId": "0625e518-096c-4f10-d1f2-0c8896d95483"
      },
      "outputs": [
        {
          "output_type": "display_data",
          "data": {
            "image/png": "[encoded data removed]",
            "text/plain": [
              "<Figure size 1080x144 with 1 Axes>"
            ]
          },
          "metadata": {
            "needs_background": "light"
          }
        },
        {
          "output_type": "stream",
          "name": "stdout",
          "text": [
            "Acima de 10 noites: \n",
            "721 entradas\n",
            "3.85%\n"
          ]
        }
      ],
      "source": [
        "df.minimum_nights.plot(kind='box', vert=False, figsize=(15,2))\n",
        "plt.show()\n",
        "\n",
        "# Buscando entradas acima de 10 noites\n",
        "print('Acima de 10 noites: ')\n",
        "print('{} entradas'.format(len(df[df.minimum_nights > 10])))\n",
        "print(\"{:.2f}%\".format((len(df[df.minimum_nights > 10]) / df.shape[0])*100))"
      ]
    },
    {
      "cell_type": "markdown",
      "metadata": {
        "id": "ZJ2ITlMhBqxw"
      },
      "source": [
        "Com os dados acima, note que existem alguns valores bem incopatíveis com o \"normal\". Por exemplo o valor máximo que é de 1000 noites."
      ]
    },
    {
      "cell_type": "markdown",
      "metadata": {
        "id": "R_NYuglLvpRD"
      },
      "source": [
        "### **Boxplot da variável** `price`\n"
      ]
    },
    {
      "cell_type": "code",
      "execution_count": null,
      "metadata": {
        "colab": {
          "base_uri": "https://localhost:8080/",
          "height": 266
        },
        "id": "mVk8eq1U2MuA",
        "outputId": "7b6d15b1-5ffd-4d16-d0ff-9e18503cc670"
      },
      "outputs": [
        {
          "output_type": "display_data",
          "data": {
            "image/png": "[encoded data removed]",
            "text/plain": [
              "<Figure size 1584x216 with 1 Axes>"
            ]
          },
          "metadata": {
            "needs_background": "light"
          }
        },
        {
          "output_type": "stream",
          "name": "stdout",
          "text": [
            "Acima de €250:\n",
            "908 entradas\n",
            "4.85%\n"
          ]
        }
      ],
      "source": [
        "df.price.plot(kind='box', vert=False, figsize=(22,3))\n",
        "plt.show()\n",
        "\n",
        "# Buscando valores acima de 250 euros\n",
        "print('Acima de €250:')\n",
        "print('{} entradas'.format(len(df[df.price > 250])))\n",
        "print('{:.2f}%'.format((len(df[df.price > 250])/df.shape[0])*100))"
      ]
    },
    {
      "cell_type": "markdown",
      "metadata": {
        "id": "wsLpWY9HFz9h"
      },
      "source": [
        "Com os dados acima, note que temos alguns valores bem incopatíveis com o \"normal\". Por exemplo o valor máximo que é de **€11499**, que seria algo por volta de **R$74000**, na cotação do dia 30/11/2021."
      ]
    },
    {
      "cell_type": "markdown",
      "metadata": {
        "id": "B1C0R577Gka4"
      },
      "source": [
        "Após a verificação dos outliers do nosso dataframe, iremos trabalhar na exclusão ou tratamento desses valores discrepantes. Apesar dos valores acima de **10 noites** serem baixos, irei exclui-los mesmo assim, juntamente com os valores acima de **€250** por noite, para que o nosso dataframe siga um bom padrão qualitativo. "
      ]
    },
    {
      "cell_type": "markdown",
      "metadata": {
        "id": "bljOawg5-eIV"
      },
      "source": [
        "### **Excluindo os outliers**\n"
      ]
    },
    {
      "cell_type": "code",
      "execution_count": null,
      "metadata": {
        "colab": {
          "base_uri": "https://localhost:8080/",
          "height": 878
        },
        "id": "J7oX4GGh-gcm",
        "outputId": "22db2bf4-d8c9-495a-bbe3-3d90c3abcdd4"
      },
      "outputs": [
        {
          "output_type": "display_data",
          "data": {
            "image/png": "[encoded data removed]",
            "text/plain": [
              "<Figure size 1584x1080 with 12 Axes>"
            ]
          },
          "metadata": {
            "needs_background": "light"
          }
        }
      ],
      "source": [
        "# Definindo o novo dataset sem outliers\n",
        "df_clean = df.copy()\n",
        "df_clean.drop(df_clean[df_clean.price > 250].index, axis=0, inplace=True)\n",
        "df_clean.drop(df_clean[df_clean.minimum_nights > 10].index, axis=0, inplace=True)\n",
        "\n",
        "# Plotando o gráfico\n",
        "df_clean.hist(bins=12, figsize=(22,15), grid=False, color= '#ff4d00',ec = \"w\");"
      ]
    },
    {
      "cell_type": "markdown",
      "metadata": {
        "id": "4bCPiXS3RyIq"
      },
      "source": [
        "Agora que temos os dados mais limpos, conseguimos extrair as informações mais valiosas facilmente. Nesse novo histograma, é possível notar que a maior quantidade de imóveis em Lisboa estão entre 25 e 100 euros. "
      ]
    },
    {
      "cell_type": "markdown",
      "metadata": {
        "id": "8CPnuR2xNK1t"
      },
      "source": [
        "## **Média de preços e de noites hospedadas**"
      ]
    },
    {
      "cell_type": "markdown",
      "metadata": {
        "id": "J5ReD7OjOkFr"
      },
      "source": [
        "A seguir vamos obter a média de preços e a de noites que os usuários costumam ficar hospedados na capital."
      ]
    },
    {
      "cell_type": "code",
      "execution_count": null,
      "metadata": {
        "colab": {
          "base_uri": "https://localhost:8080/"
        },
        "id": "NrrNmpEcNm_F",
        "outputId": "6636cb94-4c13-4077-ab82-88128efc52c5"
      },
      "outputs": [
        {
          "output_type": "stream",
          "name": "stdout",
          "text": [
            "Média de preço em Lisboa: €82.39\n",
            "Média de noites hospedadas: 2 noites\n"
          ]
        }
      ],
      "source": [
        "# Mostrando a média de preços e de noites \n",
        "print('Média de preço em Lisboa: €{:.2f}'.format(df_clean['price'].mean()))\n",
        "print('Média de noites hospedadas: {:.0f} noites'.format(df_clean['minimum_nights'].mean()))\n"
      ]
    },
    {
      "cell_type": "markdown",
      "metadata": {
        "id": "IXn2oIo5qx-w"
      },
      "source": [
        "## **Qual o tipo de imóvel mais alugado no Airbnb**"
      ]
    },
    {
      "cell_type": "markdown",
      "metadata": {
        "id": "elLCtfxHRArR"
      },
      "source": [
        "Nessa análise, iremos ver qual o tipo de imóvel mais alugado em Lisboa. Para isso, iremos analisar a variável `room_type`e mostrar abaixo essa classificação."
      ]
    },
    {
      "cell_type": "code",
      "execution_count": null,
      "metadata": {
        "colab": {
          "base_uri": "https://localhost:8080/",
          "height": 328
        },
        "id": "TBy7EuchQqqv",
        "outputId": "bd6b8de7-ef17-4fc2-9249-3f9246e8be9f"
      },
      "outputs": [
        {
          "output_type": "display_data",
          "data": {
            "image/png": "[encoded data removed]",
            "text/plain": [
              "<Figure size 1584x360 with 2 Axes>"
            ]
          },
          "metadata": {
            "needs_background": "light"
          }
        }
      ],
      "source": [
        "# Deinindo as variáveis \n",
        "x = df_clean.room_type.value_counts(ascending=False)\n",
        "s = df_clean.room_type.value_counts(ascending=False)/df_clean.shape[0] * 100 \n",
        "\n",
        "fig, ax = plt.subplots(nrows=1, ncols=2,figsize=(22, 5))\n",
        "\n",
        "# Definindo as cores\n",
        "mylabels = [\"Entire home/apt \", \"Private room\", \"Hotel room\", \"Shared room\"]\n",
        "mycolors = [\"#ff4d00\",\"#666\",\"#666\",\"#666\"]\n",
        "tit = \"#666\"\n",
        "\n",
        "# Plotando o gráfico 1 e o seu título\n",
        "ax[0].set_title('Tipo de Imóveis por Quantidade', fontsize= 22, fontweight= 600, color = tit)\n",
        "ax[0].barh(mylabels, x , color = mycolors, height=0.8, tick_label= mylabels)\n",
        "\n",
        "# Removendo grid\n",
        "ax[0].spines['right'].set_visible(False)\n",
        "ax[0].spines['top'].set_visible(False)\n",
        "ax[0].spines['left'].set_visible(False)\n",
        "\n",
        "ax[1].spines['right'].set_visible(False)\n",
        "ax[1].spines['top'].set_visible(False)\n",
        "ax[1].spines['left'].set_visible(False)\n",
        "\n",
        "# Plotando o gráfico 2 e o seu título\n",
        "ax[1].set_title('Tipos de Imóveis por Porcentagem', fontsize= 22, fontweight= 600, color = tit)\n",
        "ax[1].barh(mylabels, s , color = mycolors, height=0.8, tick_label= mylabels)\n",
        "\n",
        "fig.tight_layout();"
      ]
    },
    {
      "cell_type": "markdown",
      "metadata": {
        "id": "1ClRp8W8RMlq"
      },
      "source": [
        "<h1><b>Legenda<h1>\n",
        "\n",
        "**Entire home/apt - Casa inteiro/Apartamento - 75,1%**\n",
        "\n",
        "**Private room - Quarto Privado - 21,7%**\n",
        "\n",
        "**Shared room -  Quarto Compartilhado - 1,7%**\n",
        " \n",
        "**Hotel room - Quarto de Hotel - 1,5%**"
      ]
    },
    {
      "cell_type": "markdown",
      "metadata": {
        "id": "YJUmTfuY44JA"
      },
      "source": [
        "## **Quantas regiões existem no dataset ?**"
      ]
    },
    {
      "cell_type": "code",
      "execution_count": null,
      "metadata": {
        "id": "izGwWXo64-cZ"
      },
      "outputs": [],
      "source": [
        "# Obtendo os dados das regiões\n",
        "df_clean.neighbourhood_group.value_counts().shape"
      ]
    },
    {
      "cell_type": "markdown",
      "metadata": {
        "id": "IR2QLvpH8bri"
      },
      "source": [
        "O distrito de Lisboa possui 16 regiões. Como estou analisando a cidade de Lisboa, abaixo irei fazer uma análise para ver os bairros mais caros e os mais baratos da capital."
      ]
    },
    {
      "cell_type": "markdown",
      "metadata": {
        "id": "MFa5NbnLJMcd"
      },
      "source": [
        "### **Quais os Bairros mais caros de Lisboa ?**\n",
        "\n"
      ]
    },
    {
      "cell_type": "code",
      "execution_count": null,
      "metadata": {
        "id": "MD_xa143JZpi"
      },
      "outputs": [],
      "source": [
        "#Definindo cores\n",
        "tit = \"#666\"\n",
        "mycolors = [\"#ff4d00\",\"#666\",\"#666\",\"#666\",\"#666\",\"#666\",\"#666\",\"#666\",\"#666\",\"#666\"]\n",
        "\n",
        "# Plotando o gráfico e o seu título\n",
        "fig, ax = plt.subplots(figsize=(5, 7))\n",
        "\n",
        "\n",
        "# Vendo preços por bairros, na média\n",
        "ax = df_clean[df_clean.neighbourhood_group == 'Lisboa'].groupby(['neighbourhood']).price.mean().sort_values(ascending=False)[:10].plot.barh(color = mycolors)\n",
        "\n",
        "# Plotando o título\n",
        "plt.text(-2, 10, 'Bairros Mais Caros de Lisboa', fontsize=22, color=tit, weight=500)\n",
        "\n",
        "initialx=0\n",
        "\n",
        "# Removendo o grid\n",
        "ax.spines['right'].set_visible(False)\n",
        "ax.spines['left'].set_visible(False)\n",
        "ax.spines['top'].set_visible(False)\n",
        "ax.spines['bottom'].set_visible(False)\n",
        "\n",
        "# Removendo os titulos\n",
        "ax.set_ylabel('')    \n",
        "ax.set_xlabel('')\n",
        "\n",
        "plt.tick_params(\n",
        "axis='both',         \n",
        "which='both',     \n",
        "bottom=False,      \n",
        "top=False,         \n",
        "labelbottom=False) \n",
        "    \n",
        "# Adicionando labels\n",
        "for p in ax.patches:\n",
        "  ax.text(p.get_width(),initialx+p.get_height()/8,' € {:1.0f}'.format(p.get_width()))\n",
        "  initialx+=1\n",
        "plt.show()"
      ]
    },
    {
      "cell_type": "markdown",
      "metadata": {
        "id": "UzTUv6RE27Lf"
      },
      "source": [
        "### **Quais os bairros mais baratos do dataset ?**\n",
        "\n"
      ]
    },
    {
      "cell_type": "code",
      "execution_count": null,
      "metadata": {
        "colab": {
          "base_uri": "https://localhost:8080/",
          "height": 445
        },
        "id": "oqqupwY628Ml",
        "outputId": "e483261c-f005-4e32-ca3c-4b718aa9d642"
      },
      "outputs": [
        {
          "output_type": "display_data",
          "data": {
            "image/png": "[encoded data removed]",
            "text/plain": [
              "<Figure size 360x504 with 1 Axes>"
            ]
          },
          "metadata": {
            "needs_background": "light"
          }
        }
      ],
      "source": [
        "#Definindo cores\n",
        "tit = \"#666\"\n",
        "mycolors = [\"#ff4d00\",\"#666\",\"#666\",\"#666\",\"#666\",\"#666\",\"#666\",\"#666\",\"#666\",\"#666\"]\n",
        "\n",
        "# Plotando o gráfico e o seu título\n",
        "fig, ax = plt.subplots(figsize=(5, 7))\n",
        "\n",
        "\n",
        "# Vendo preços por bairros, na média\n",
        "ax = df_clean[df_clean.neighbourhood_group == 'Lisboa'].groupby(['neighbourhood']).price.mean().sort_values(ascending=True)[:10].plot.barh(color = mycolors)\n",
        "\n",
        "# Plotando o título\n",
        "plt.text(-2, 10, 'Bairros Mais Baratos de Lisboa', fontsize=22, color=tit, weight=500)\n",
        "\n",
        "initialx=0\n",
        "\n",
        "# Removendo o grid\n",
        "ax.spines['right'].set_visible(False)\n",
        "ax.spines['left'].set_visible(False)\n",
        "ax.spines['top'].set_visible(False)\n",
        "ax.spines['bottom'].set_visible(False)\n",
        "\n",
        "# Removendo os titulos\n",
        "ax.set_ylabel('')    \n",
        "ax.set_xlabel('')\n",
        "\n",
        "plt.tick_params(\n",
        "axis='both',         \n",
        "which='both',     \n",
        "bottom=False,      \n",
        "top=False,         \n",
        "labelbottom=False) \n",
        "    \n",
        "# Adicionando labels\n",
        "for p in ax.patches:\n",
        "  ax.text(p.get_width(),initialx+p.get_height()/8,' € {:1.0f}'.format(p.get_width()))\n",
        "  initialx+=1\n",
        "plt.show()"
      ]
    },
    {
      "cell_type": "markdown",
      "metadata": {
        "id": "ScwyCkigtZTw"
      },
      "source": [
        "## **Por que a região do Parque das Nações tem a maior média de preços?**\n"
      ]
    },
    {
      "cell_type": "markdown",
      "metadata": {
        "id": "yywbYVxzvZI6"
      },
      "source": [
        "\n",
        "<center><img alt=\"Analisando Airbnb\" width=\"80%\" src=\"https://i.pinimg.com/564x/52/54/f6/5254f650b122fec87e773e80dbad1e05.jpg\"></center>\n",
        "\n"
      ]
    },
    {
      "cell_type": "markdown",
      "source": [
        "Para fazer essa análise, irei ver a quantidade de imóveis que a região possui."
      ],
      "metadata": {
        "id": "z_-eGQrPTw2O"
      }
    },
    {
      "cell_type": "code",
      "execution_count": null,
      "metadata": {
        "id": "ttdMKbOOteH9"
      },
      "outputs": [],
      "source": [
        "# Métricas da região\n",
        "print('Quantidade de imóveis no Parque das Nações: {} imóveis'.format(df_clean[df_clean.neighbourhood == \"Parque das Naes\"].shape[0]))\n",
        "print('Quanto custa a diária mais barata do Parque das Nações: €{:.2f}'.format(df_clean[df_clean.neighbourhood == \"Parque das Naes\"].price.mean()))"
      ]
    },
    {
      "cell_type": "markdown",
      "metadata": {
        "id": "klZkZo1eONoV"
      },
      "source": [
        "O bairro Parque das Nações possui 205 imóveis e se torna o mais caro por ter um dos metros quadrados mais caros da cidade, custando de 4 a 5mil euros por metro quadrado. Nele estão: Uma das estações masi bonitas do mundo , a Estação Oriente, um Teleférico e o Oceanário, o aquário da  cidade."
      ]
    },
    {
      "cell_type": "markdown",
      "source": [
        "## **Será que é possível se hospedar no bairro mais caro da cidade pagando pouco?**"
      ],
      "metadata": {
        "id": "qWtTeSSriy13"
      }
    },
    {
      "cell_type": "markdown",
      "source": [
        "Para isso irei ver a quantidade de imóveis de imóveis com preço abaixo de 25%."
      ],
      "metadata": {
        "id": "qFGnHdbWjASS"
      }
    },
    {
      "cell_type": "code",
      "source": [
        "df_clean[df_clean.neighbourhood == 'Parque das Naes'].price.describe().round(2)"
      ],
      "metadata": {
        "id": "_daNb42Xiycm"
      },
      "execution_count": null,
      "outputs": []
    },
    {
      "cell_type": "markdown",
      "source": [
        "Com esses dados, é possivel afirmar que é possível sim ficar no bairro mais caro pagando pouco, tendo em cista que 25% dos valores estão abaixo de 70 euros e o imóvel mais barato custa 28 euros por noite."
      ],
      "metadata": {
        "id": "hQSe_bIck9sR"
      }
    },
    {
      "cell_type": "markdown",
      "metadata": {
        "id": "kUYzgohEQMtB"
      },
      "source": [
        "## **Grafico baseado na latitude e longitude em relaçao ao preço**"
      ]
    },
    {
      "cell_type": "markdown",
      "source": [
        "Para finalizar essa análise, irei plotar um heatmap dos imóveis em suas respectivas localidades em relação aos seus preços."
      ],
      "metadata": {
        "id": "X7kzjvMhisDK"
      }
    },
    {
      "cell_type": "code",
      "execution_count": null,
      "metadata": {
        "id": "UxVJqJ_3W59I"
      },
      "outputs": [],
      "source": [
        "# Plotando os imóveis pela latitude-longitude\n",
        "df_clean.plot(kind=\"scatter\", x='longitude', y='latitude', alpha=0.6, c=df_clean['price'], s=4,\n",
        "              cmap=plt.get_cmap('jet'), figsize=(10,8));"
      ]
    },
    {
      "cell_type": "markdown",
      "source": [
        "Apos a leitura desses dados, é possível observar que a maior quantidade de imóveis se localiza na região da capital (***Lisboa***, na parte inferior do centro) e tem seus preços, em sua maioria, nas faixas azúis. Logo, vemos que é possível se hospedar na capital por menos de **€100** e ficar no centro da maioria dos pontos turísticos mostrados na foto abaixo."
      ],
      "metadata": {
        "id": "GSdciHoXb73J"
      }
    },
    {
      "cell_type": "markdown",
      "source": [
        "\n",
        "<center><img alt=\"Analisando Airbnb\" width=\"50%\" src=\"https://s7a5n8m2.stackpathcdn.com/wp-content/uploads/2015/07/mapa.gif\"></center>\n",
        "\n"
      ],
      "metadata": {
        "id": "68ZktksXc_aL"
      }
    },
    {
      "cell_type": "markdown",
      "metadata": {
        "id": "GkvAg623RjoR"
      },
      "source": [
        "# **Conclusões**\n",
        "Após análise feita acima, é possível visualizar diversos parâmetros do Airbnb do distrito de Lisboa, como por exemplos as localidades mais caras  para passsar a noite, a média de preços das regiões, um mapa de calor mostrando onde se encontram os imóveis e seus respectivos preços e muito mais.\n",
        "\n",
        "Vale ressaltar que essa análise foi feita de forma superficial, contando apenas com os principais parâmetros, tornando-a mais resumida, tendo como objetivo principal a visualização de dados a partir de um arquivo csv.\n",
        "\n"
      ]
    }
  ],
  "metadata": {
    "colab": {
      "collapsed_sections": [],
      "name": "Analisando os Dados do Airbnb Lisboa.ipynb",
      "provenance": [],
      "include_colab_link": true
    },
    "kernelspec": {
      "display_name": "Python 3",
      "name": "python3"
    }
  },
  "nbformat": 4,
  "nbformat_minor": 0
}