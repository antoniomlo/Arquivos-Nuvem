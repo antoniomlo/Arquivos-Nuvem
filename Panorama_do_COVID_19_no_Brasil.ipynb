{
  "nbformat": 4,
  "nbformat_minor": 0,
  "metadata": {
    "colab": {
      "name": "Panorama do COVID-19 no Brasil.ipynb",
      "provenance": [],
      "collapsed_sections": [],
      "toc_visible": true,
      "include_colab_link": true
    },
    "kernelspec": {
      "name": "python3",
      "display_name": "Python 3"
    }
  },
  "cells": [
    {
      "cell_type": "markdown",
      "metadata": {
        "id": "view-in-github",
        "colab_type": "text"
      },
      "source": [
        "<a href=\"https://colab.research.google.com/github/antoniomlo/Arquivos-Nuvem/blob/main/Panorama_do_COVID_19_no_Brasil.ipynb\" target=\"_parent\"><img src=\"https://colab.research.google.com/assets/colab-badge.svg\" alt=\"Open In Colab\"/></a>"
      ]
    },
    {
      "cell_type": "markdown",
      "metadata": {
        "id": "-eFQZydM9O9J"
      },
      "source": [
        "## **Projeto COVID-19**\n",
        "\n",
        "*by [Antonio Melo](https://github.com/antoniomlo/Data_Science/blob/main/README.md)*  \n",
        "\n",
        "---\n",
        "  "
      ]
    },
    {
      "cell_type": "markdown",
      "metadata": {
        "id": "kLI0gJtzDGuQ"
      },
      "source": [
        "# **Panorama do COVID-19 no Brasil**\n",
        "A **COVID-19** é uma doença causada por um vírus da família dos coronavírus. Registros da doença iniciaram-se no ano de 2019, mas a identificação do agente causador e as consequências dessa infecção só ocorreram no ano de 2020.\n",
        "\n",
        "Responsável por causar febre, dificuldade respiratória e tosse, essa infecção assemelha-se a uma gripe. Entretanto, **a COVID-19 pode levar a complicações sérias e até mesmo à morte**, devendo ser, portanto, encarada como um grave problema de saúde pública.\n",
        "\n",
        " A transmissão da COVID-19 ocorre de uma pessoa para outra por meio do contato com gotículas respiratórias. Assim sendo, uma das medidas para se prevenir é **evitar locais com aglomerações** de pessoas.\n",
        "\n",
        "<center><img alt=\"Colaboratory logo\" width=\"100%\" src=\"https://github.com/antoniomlo/Arquivos-Nuvem/blob/main/Projeto%20COVID/Panorama%20COVID-19.png?raw=true\"></center>\n",
        "\n",
        "**Neste notebook, ire análisar dados referentes a COVID-19 com o objetivo de elevar a consciência situacional a respeito da doença no Brasil e no mundo.**\n",
        "\n",
        "\n"
      ]
    },
    {
      "cell_type": "markdown",
      "metadata": {
        "id": "0zxQHhIUDF_2"
      },
      "source": [
        "# **Obtenção dos Dados**\n",
        "Para fazer essa análise, utilizei os dados presentes no repositorio do [Our World in Data](https://github.com/owid/covid-19-data/tree/master/public/data), portal que busca mostrar grandes problemas do mundo de forma acessível por meio da disponibilização desses dados com todas as informações necessárias.\n",
        "\n",
        "Antes de inicar a análise, irei importar a base de dados e as devidas bibliotecas necessárias para começar.\n",
        "  "
      ]
    },
    {
      "cell_type": "code",
      "source": [
        "# importar as bibliotecas necessárias\n",
        "import pandas as pd\n",
        "import matplotlib.pyplot as plt\n",
        "\n",
        "# importar o dataset COVID-19 para um DataFrame\n",
        "df = pd.read_csv('https://covid.ourworldindata.org/data/owid-covid-data.csv')"
      ],
      "metadata": {
        "id": "FOMZcu1KRW84"
      },
      "execution_count": 1,
      "outputs": []
    },
    {
      "cell_type": "markdown",
      "source": [
        "# **Análise Geral**"
      ],
      "metadata": {
        "id": "MLD3YQevoX6m"
      }
    },
    {
      "cell_type": "markdown",
      "source": [
        "Nessa etapa irei colocar os seguintes objetivos para avançarmos para a próxima:\n",
        "* **Ver as dimensões do dataset;**\n",
        "* **Visualizar as 5 primeiras entradas;**\n",
        "* **Visualizar os tipos das variáveis presentes;**\n",
        "* **Escrever um pequeno Dicionário das variáveis;**\n",
        "* **Tratar os dados;**\n",
        "\n",
        "\n",
        "\n"
      ],
      "metadata": {
        "id": "W-rGK5G2RtY_"
      }
    },
    {
      "cell_type": "code",
      "source": [
        "# para saber as dimensões do dataset\n",
        "print(df.shape)"
      ],
      "metadata": {
        "colab": {
          "base_uri": "https://localhost:8080/"
        },
        "id": "xQXnyWxZDzRl",
        "outputId": "cd124d16-04e2-464b-edf1-a024acf28935"
      },
      "execution_count": 2,
      "outputs": [
        {
          "output_type": "stream",
          "name": "stdout",
          "text": [
            "(161162, 67)\n"
          ]
        }
      ]
    },
    {
      "cell_type": "markdown",
      "source": [
        "Vemos que esse dataset possui **161162 entradas** e **67 variáveis** diferentes."
      ],
      "metadata": {
        "id": "5Z9DlNqEW_1R"
      }
    },
    {
      "cell_type": "code",
      "source": [
        "# para visualizar as 5 primeiras entradas\n",
        "df.head()"
      ],
      "metadata": {
        "colab": {
          "base_uri": "https://localhost:8080/",
          "height": 356
        },
        "id": "9wGOaW8DBgH_",
        "outputId": "d1a6f07a-57b0-4f45-872e-d1cec03a6413"
      },
      "execution_count": 3,
      "outputs": [
        {
          "output_type": "execute_result",
          "data": {
            "text/html": [
              "\n",
              "  <div id=\"df-9a5bfe60-1a73-426a-9d0a-f2547fd98b76\">\n",
              "    <div class=\"colab-df-container\">\n",
              "      <div>\n",
              "<style scoped>\n",
              "    .dataframe tbody tr th:only-of-type {\n",
              "        vertical-align: middle;\n",
              "    }\n",
              "\n",
              "    .dataframe tbody tr th {\n",
              "        vertical-align: top;\n",
              "    }\n",
              "\n",
              "    .dataframe thead th {\n",
              "        text-align: right;\n",
              "    }\n",
              "</style>\n",
              "<table border=\"1\" class=\"dataframe\">\n",
              "  <thead>\n",
              "    <tr style=\"text-align: right;\">\n",
              "      <th></th>\n",
              "      <th>iso_code</th>\n",
              "      <th>continent</th>\n",
              "      <th>location</th>\n",
              "      <th>date</th>\n",
              "      <th>total_cases</th>\n",
              "      <th>new_cases</th>\n",
              "      <th>new_cases_smoothed</th>\n",
              "      <th>total_deaths</th>\n",
              "      <th>new_deaths</th>\n",
              "      <th>new_deaths_smoothed</th>\n",
              "      <th>total_cases_per_million</th>\n",
              "      <th>new_cases_per_million</th>\n",
              "      <th>new_cases_smoothed_per_million</th>\n",
              "      <th>total_deaths_per_million</th>\n",
              "      <th>new_deaths_per_million</th>\n",
              "      <th>new_deaths_smoothed_per_million</th>\n",
              "      <th>reproduction_rate</th>\n",
              "      <th>icu_patients</th>\n",
              "      <th>icu_patients_per_million</th>\n",
              "      <th>hosp_patients</th>\n",
              "      <th>hosp_patients_per_million</th>\n",
              "      <th>weekly_icu_admissions</th>\n",
              "      <th>weekly_icu_admissions_per_million</th>\n",
              "      <th>weekly_hosp_admissions</th>\n",
              "      <th>weekly_hosp_admissions_per_million</th>\n",
              "      <th>new_tests</th>\n",
              "      <th>total_tests</th>\n",
              "      <th>total_tests_per_thousand</th>\n",
              "      <th>new_tests_per_thousand</th>\n",
              "      <th>new_tests_smoothed</th>\n",
              "      <th>new_tests_smoothed_per_thousand</th>\n",
              "      <th>positive_rate</th>\n",
              "      <th>tests_per_case</th>\n",
              "      <th>tests_units</th>\n",
              "      <th>total_vaccinations</th>\n",
              "      <th>people_vaccinated</th>\n",
              "      <th>people_fully_vaccinated</th>\n",
              "      <th>total_boosters</th>\n",
              "      <th>new_vaccinations</th>\n",
              "      <th>new_vaccinations_smoothed</th>\n",
              "      <th>total_vaccinations_per_hundred</th>\n",
              "      <th>people_vaccinated_per_hundred</th>\n",
              "      <th>people_fully_vaccinated_per_hundred</th>\n",
              "      <th>total_boosters_per_hundred</th>\n",
              "      <th>new_vaccinations_smoothed_per_million</th>\n",
              "      <th>new_people_vaccinated_smoothed</th>\n",
              "      <th>new_people_vaccinated_smoothed_per_hundred</th>\n",
              "      <th>stringency_index</th>\n",
              "      <th>population</th>\n",
              "      <th>population_density</th>\n",
              "      <th>median_age</th>\n",
              "      <th>aged_65_older</th>\n",
              "      <th>aged_70_older</th>\n",
              "      <th>gdp_per_capita</th>\n",
              "      <th>extreme_poverty</th>\n",
              "      <th>cardiovasc_death_rate</th>\n",
              "      <th>diabetes_prevalence</th>\n",
              "      <th>female_smokers</th>\n",
              "      <th>male_smokers</th>\n",
              "      <th>handwashing_facilities</th>\n",
              "      <th>hospital_beds_per_thousand</th>\n",
              "      <th>life_expectancy</th>\n",
              "      <th>human_development_index</th>\n",
              "      <th>excess_mortality_cumulative_absolute</th>\n",
              "      <th>excess_mortality_cumulative</th>\n",
              "      <th>excess_mortality</th>\n",
              "      <th>excess_mortality_cumulative_per_million</th>\n",
              "    </tr>\n",
              "  </thead>\n",
              "  <tbody>\n",
              "    <tr>\n",
              "      <th>0</th>\n",
              "      <td>AFG</td>\n",
              "      <td>Asia</td>\n",
              "      <td>Afghanistan</td>\n",
              "      <td>2020-02-24</td>\n",
              "      <td>5.0</td>\n",
              "      <td>5.0</td>\n",
              "      <td>NaN</td>\n",
              "      <td>NaN</td>\n",
              "      <td>NaN</td>\n",
              "      <td>NaN</td>\n",
              "      <td>0.126</td>\n",
              "      <td>0.126</td>\n",
              "      <td>NaN</td>\n",
              "      <td>NaN</td>\n",
              "      <td>NaN</td>\n",
              "      <td>NaN</td>\n",
              "      <td>NaN</td>\n",
              "      <td>NaN</td>\n",
              "      <td>NaN</td>\n",
              "      <td>NaN</td>\n",
              "      <td>NaN</td>\n",
              "      <td>NaN</td>\n",
              "      <td>NaN</td>\n",
              "      <td>NaN</td>\n",
              "      <td>NaN</td>\n",
              "      <td>NaN</td>\n",
              "      <td>NaN</td>\n",
              "      <td>NaN</td>\n",
              "      <td>NaN</td>\n",
              "      <td>NaN</td>\n",
              "      <td>NaN</td>\n",
              "      <td>NaN</td>\n",
              "      <td>NaN</td>\n",
              "      <td>NaN</td>\n",
              "      <td>NaN</td>\n",
              "      <td>NaN</td>\n",
              "      <td>NaN</td>\n",
              "      <td>NaN</td>\n",
              "      <td>NaN</td>\n",
              "      <td>NaN</td>\n",
              "      <td>NaN</td>\n",
              "      <td>NaN</td>\n",
              "      <td>NaN</td>\n",
              "      <td>NaN</td>\n",
              "      <td>NaN</td>\n",
              "      <td>NaN</td>\n",
              "      <td>NaN</td>\n",
              "      <td>8.33</td>\n",
              "      <td>39835428.0</td>\n",
              "      <td>54.422</td>\n",
              "      <td>18.6</td>\n",
              "      <td>2.581</td>\n",
              "      <td>1.337</td>\n",
              "      <td>1803.987</td>\n",
              "      <td>NaN</td>\n",
              "      <td>597.029</td>\n",
              "      <td>9.59</td>\n",
              "      <td>NaN</td>\n",
              "      <td>NaN</td>\n",
              "      <td>37.746</td>\n",
              "      <td>0.5</td>\n",
              "      <td>64.83</td>\n",
              "      <td>0.511</td>\n",
              "      <td>NaN</td>\n",
              "      <td>NaN</td>\n",
              "      <td>NaN</td>\n",
              "      <td>NaN</td>\n",
              "    </tr>\n",
              "    <tr>\n",
              "      <th>1</th>\n",
              "      <td>AFG</td>\n",
              "      <td>Asia</td>\n",
              "      <td>Afghanistan</td>\n",
              "      <td>2020-02-25</td>\n",
              "      <td>5.0</td>\n",
              "      <td>0.0</td>\n",
              "      <td>NaN</td>\n",
              "      <td>NaN</td>\n",
              "      <td>NaN</td>\n",
              "      <td>NaN</td>\n",
              "      <td>0.126</td>\n",
              "      <td>0.000</td>\n",
              "      <td>NaN</td>\n",
              "      <td>NaN</td>\n",
              "      <td>NaN</td>\n",
              "      <td>NaN</td>\n",
              "      <td>NaN</td>\n",
              "      <td>NaN</td>\n",
              "      <td>NaN</td>\n",
              "      <td>NaN</td>\n",
              "      <td>NaN</td>\n",
              "      <td>NaN</td>\n",
              "      <td>NaN</td>\n",
              "      <td>NaN</td>\n",
              "      <td>NaN</td>\n",
              "      <td>NaN</td>\n",
              "      <td>NaN</td>\n",
              "      <td>NaN</td>\n",
              "      <td>NaN</td>\n",
              "      <td>NaN</td>\n",
              "      <td>NaN</td>\n",
              "      <td>NaN</td>\n",
              "      <td>NaN</td>\n",
              "      <td>NaN</td>\n",
              "      <td>NaN</td>\n",
              "      <td>NaN</td>\n",
              "      <td>NaN</td>\n",
              "      <td>NaN</td>\n",
              "      <td>NaN</td>\n",
              "      <td>NaN</td>\n",
              "      <td>NaN</td>\n",
              "      <td>NaN</td>\n",
              "      <td>NaN</td>\n",
              "      <td>NaN</td>\n",
              "      <td>NaN</td>\n",
              "      <td>NaN</td>\n",
              "      <td>NaN</td>\n",
              "      <td>8.33</td>\n",
              "      <td>39835428.0</td>\n",
              "      <td>54.422</td>\n",
              "      <td>18.6</td>\n",
              "      <td>2.581</td>\n",
              "      <td>1.337</td>\n",
              "      <td>1803.987</td>\n",
              "      <td>NaN</td>\n",
              "      <td>597.029</td>\n",
              "      <td>9.59</td>\n",
              "      <td>NaN</td>\n",
              "      <td>NaN</td>\n",
              "      <td>37.746</td>\n",
              "      <td>0.5</td>\n",
              "      <td>64.83</td>\n",
              "      <td>0.511</td>\n",
              "      <td>NaN</td>\n",
              "      <td>NaN</td>\n",
              "      <td>NaN</td>\n",
              "      <td>NaN</td>\n",
              "    </tr>\n",
              "    <tr>\n",
              "      <th>2</th>\n",
              "      <td>AFG</td>\n",
              "      <td>Asia</td>\n",
              "      <td>Afghanistan</td>\n",
              "      <td>2020-02-26</td>\n",
              "      <td>5.0</td>\n",
              "      <td>0.0</td>\n",
              "      <td>NaN</td>\n",
              "      <td>NaN</td>\n",
              "      <td>NaN</td>\n",
              "      <td>NaN</td>\n",
              "      <td>0.126</td>\n",
              "      <td>0.000</td>\n",
              "      <td>NaN</td>\n",
              "      <td>NaN</td>\n",
              "      <td>NaN</td>\n",
              "      <td>NaN</td>\n",
              "      <td>NaN</td>\n",
              "      <td>NaN</td>\n",
              "      <td>NaN</td>\n",
              "      <td>NaN</td>\n",
              "      <td>NaN</td>\n",
              "      <td>NaN</td>\n",
              "      <td>NaN</td>\n",
              "      <td>NaN</td>\n",
              "      <td>NaN</td>\n",
              "      <td>NaN</td>\n",
              "      <td>NaN</td>\n",
              "      <td>NaN</td>\n",
              "      <td>NaN</td>\n",
              "      <td>NaN</td>\n",
              "      <td>NaN</td>\n",
              "      <td>NaN</td>\n",
              "      <td>NaN</td>\n",
              "      <td>NaN</td>\n",
              "      <td>NaN</td>\n",
              "      <td>NaN</td>\n",
              "      <td>NaN</td>\n",
              "      <td>NaN</td>\n",
              "      <td>NaN</td>\n",
              "      <td>NaN</td>\n",
              "      <td>NaN</td>\n",
              "      <td>NaN</td>\n",
              "      <td>NaN</td>\n",
              "      <td>NaN</td>\n",
              "      <td>NaN</td>\n",
              "      <td>NaN</td>\n",
              "      <td>NaN</td>\n",
              "      <td>8.33</td>\n",
              "      <td>39835428.0</td>\n",
              "      <td>54.422</td>\n",
              "      <td>18.6</td>\n",
              "      <td>2.581</td>\n",
              "      <td>1.337</td>\n",
              "      <td>1803.987</td>\n",
              "      <td>NaN</td>\n",
              "      <td>597.029</td>\n",
              "      <td>9.59</td>\n",
              "      <td>NaN</td>\n",
              "      <td>NaN</td>\n",
              "      <td>37.746</td>\n",
              "      <td>0.5</td>\n",
              "      <td>64.83</td>\n",
              "      <td>0.511</td>\n",
              "      <td>NaN</td>\n",
              "      <td>NaN</td>\n",
              "      <td>NaN</td>\n",
              "      <td>NaN</td>\n",
              "    </tr>\n",
              "    <tr>\n",
              "      <th>3</th>\n",
              "      <td>AFG</td>\n",
              "      <td>Asia</td>\n",
              "      <td>Afghanistan</td>\n",
              "      <td>2020-02-27</td>\n",
              "      <td>5.0</td>\n",
              "      <td>0.0</td>\n",
              "      <td>NaN</td>\n",
              "      <td>NaN</td>\n",
              "      <td>NaN</td>\n",
              "      <td>NaN</td>\n",
              "      <td>0.126</td>\n",
              "      <td>0.000</td>\n",
              "      <td>NaN</td>\n",
              "      <td>NaN</td>\n",
              "      <td>NaN</td>\n",
              "      <td>NaN</td>\n",
              "      <td>NaN</td>\n",
              "      <td>NaN</td>\n",
              "      <td>NaN</td>\n",
              "      <td>NaN</td>\n",
              "      <td>NaN</td>\n",
              "      <td>NaN</td>\n",
              "      <td>NaN</td>\n",
              "      <td>NaN</td>\n",
              "      <td>NaN</td>\n",
              "      <td>NaN</td>\n",
              "      <td>NaN</td>\n",
              "      <td>NaN</td>\n",
              "      <td>NaN</td>\n",
              "      <td>NaN</td>\n",
              "      <td>NaN</td>\n",
              "      <td>NaN</td>\n",
              "      <td>NaN</td>\n",
              "      <td>NaN</td>\n",
              "      <td>NaN</td>\n",
              "      <td>NaN</td>\n",
              "      <td>NaN</td>\n",
              "      <td>NaN</td>\n",
              "      <td>NaN</td>\n",
              "      <td>NaN</td>\n",
              "      <td>NaN</td>\n",
              "      <td>NaN</td>\n",
              "      <td>NaN</td>\n",
              "      <td>NaN</td>\n",
              "      <td>NaN</td>\n",
              "      <td>NaN</td>\n",
              "      <td>NaN</td>\n",
              "      <td>8.33</td>\n",
              "      <td>39835428.0</td>\n",
              "      <td>54.422</td>\n",
              "      <td>18.6</td>\n",
              "      <td>2.581</td>\n",
              "      <td>1.337</td>\n",
              "      <td>1803.987</td>\n",
              "      <td>NaN</td>\n",
              "      <td>597.029</td>\n",
              "      <td>9.59</td>\n",
              "      <td>NaN</td>\n",
              "      <td>NaN</td>\n",
              "      <td>37.746</td>\n",
              "      <td>0.5</td>\n",
              "      <td>64.83</td>\n",
              "      <td>0.511</td>\n",
              "      <td>NaN</td>\n",
              "      <td>NaN</td>\n",
              "      <td>NaN</td>\n",
              "      <td>NaN</td>\n",
              "    </tr>\n",
              "    <tr>\n",
              "      <th>4</th>\n",
              "      <td>AFG</td>\n",
              "      <td>Asia</td>\n",
              "      <td>Afghanistan</td>\n",
              "      <td>2020-02-28</td>\n",
              "      <td>5.0</td>\n",
              "      <td>0.0</td>\n",
              "      <td>NaN</td>\n",
              "      <td>NaN</td>\n",
              "      <td>NaN</td>\n",
              "      <td>NaN</td>\n",
              "      <td>0.126</td>\n",
              "      <td>0.000</td>\n",
              "      <td>NaN</td>\n",
              "      <td>NaN</td>\n",
              "      <td>NaN</td>\n",
              "      <td>NaN</td>\n",
              "      <td>NaN</td>\n",
              "      <td>NaN</td>\n",
              "      <td>NaN</td>\n",
              "      <td>NaN</td>\n",
              "      <td>NaN</td>\n",
              "      <td>NaN</td>\n",
              "      <td>NaN</td>\n",
              "      <td>NaN</td>\n",
              "      <td>NaN</td>\n",
              "      <td>NaN</td>\n",
              "      <td>NaN</td>\n",
              "      <td>NaN</td>\n",
              "      <td>NaN</td>\n",
              "      <td>NaN</td>\n",
              "      <td>NaN</td>\n",
              "      <td>NaN</td>\n",
              "      <td>NaN</td>\n",
              "      <td>NaN</td>\n",
              "      <td>NaN</td>\n",
              "      <td>NaN</td>\n",
              "      <td>NaN</td>\n",
              "      <td>NaN</td>\n",
              "      <td>NaN</td>\n",
              "      <td>NaN</td>\n",
              "      <td>NaN</td>\n",
              "      <td>NaN</td>\n",
              "      <td>NaN</td>\n",
              "      <td>NaN</td>\n",
              "      <td>NaN</td>\n",
              "      <td>NaN</td>\n",
              "      <td>NaN</td>\n",
              "      <td>8.33</td>\n",
              "      <td>39835428.0</td>\n",
              "      <td>54.422</td>\n",
              "      <td>18.6</td>\n",
              "      <td>2.581</td>\n",
              "      <td>1.337</td>\n",
              "      <td>1803.987</td>\n",
              "      <td>NaN</td>\n",
              "      <td>597.029</td>\n",
              "      <td>9.59</td>\n",
              "      <td>NaN</td>\n",
              "      <td>NaN</td>\n",
              "      <td>37.746</td>\n",
              "      <td>0.5</td>\n",
              "      <td>64.83</td>\n",
              "      <td>0.511</td>\n",
              "      <td>NaN</td>\n",
              "      <td>NaN</td>\n",
              "      <td>NaN</td>\n",
              "      <td>NaN</td>\n",
              "    </tr>\n",
              "  </tbody>\n",
              "</table>\n",
              "</div>\n",
              "      <button class=\"colab-df-convert\" onclick=\"convertToInteractive('df-9a5bfe60-1a73-426a-9d0a-f2547fd98b76')\"\n",
              "              title=\"Convert this dataframe to an interactive table.\"\n",
              "              style=\"display:none;\">\n",
              "        \n",
              "  <svg xmlns=\"http://www.w3.org/2000/svg\" height=\"24px\"viewBox=\"0 0 24 24\"\n",
              "       width=\"24px\">\n",
              "    <path d=\"M0 0h24v24H0V0z\" fill=\"none\"/>\n",
              "    <path d=\"M18.56 5.44l.94 2.06.94-2.06 2.06-.94-2.06-.94-.94-2.06-.94 2.06-2.06.94zm-11 1L8.5 8.5l.94-2.06 2.06-.94-2.06-.94L8.5 2.5l-.94 2.06-2.06.94zm10 10l.94 2.06.94-2.06 2.06-.94-2.06-.94-.94-2.06-.94 2.06-2.06.94z\"/><path d=\"M17.41 7.96l-1.37-1.37c-.4-.4-.92-.59-1.43-.59-.52 0-1.04.2-1.43.59L10.3 9.45l-7.72 7.72c-.78.78-.78 2.05 0 2.83L4 21.41c.39.39.9.59 1.41.59.51 0 1.02-.2 1.41-.59l7.78-7.78 2.81-2.81c.8-.78.8-2.07 0-2.86zM5.41 20L4 18.59l7.72-7.72 1.47 1.35L5.41 20z\"/>\n",
              "  </svg>\n",
              "      </button>\n",
              "      \n",
              "  <style>\n",
              "    .colab-df-container {\n",
              "      display:flex;\n",
              "      flex-wrap:wrap;\n",
              "      gap: 12px;\n",
              "    }\n",
              "\n",
              "    .colab-df-convert {\n",
              "      background-color: #E8F0FE;\n",
              "      border: none;\n",
              "      border-radius: 50%;\n",
              "      cursor: pointer;\n",
              "      display: none;\n",
              "      fill: #1967D2;\n",
              "      height: 32px;\n",
              "      padding: 0 0 0 0;\n",
              "      width: 32px;\n",
              "    }\n",
              "\n",
              "    .colab-df-convert:hover {\n",
              "      background-color: #E2EBFA;\n",
              "      box-shadow: 0px 1px 2px rgba(60, 64, 67, 0.3), 0px 1px 3px 1px rgba(60, 64, 67, 0.15);\n",
              "      fill: #174EA6;\n",
              "    }\n",
              "\n",
              "    [theme=dark] .colab-df-convert {\n",
              "      background-color: #3B4455;\n",
              "      fill: #D2E3FC;\n",
              "    }\n",
              "\n",
              "    [theme=dark] .colab-df-convert:hover {\n",
              "      background-color: #434B5C;\n",
              "      box-shadow: 0px 1px 3px 1px rgba(0, 0, 0, 0.15);\n",
              "      filter: drop-shadow(0px 1px 2px rgba(0, 0, 0, 0.3));\n",
              "      fill: #FFFFFF;\n",
              "    }\n",
              "  </style>\n",
              "\n",
              "      <script>\n",
              "        const buttonEl =\n",
              "          document.querySelector('#df-9a5bfe60-1a73-426a-9d0a-f2547fd98b76 button.colab-df-convert');\n",
              "        buttonEl.style.display =\n",
              "          google.colab.kernel.accessAllowed ? 'block' : 'none';\n",
              "\n",
              "        async function convertToInteractive(key) {\n",
              "          const element = document.querySelector('#df-9a5bfe60-1a73-426a-9d0a-f2547fd98b76');\n",
              "          const dataTable =\n",
              "            await google.colab.kernel.invokeFunction('convertToInteractive',\n",
              "                                                     [key], {});\n",
              "          if (!dataTable) return;\n",
              "\n",
              "          const docLinkHtml = 'Like what you see? Visit the ' +\n",
              "            '<a target=\"_blank\" href=https://colab.research.google.com/notebooks/data_table.ipynb>data table notebook</a>'\n",
              "            + ' to learn more about interactive tables.';\n",
              "          element.innerHTML = '';\n",
              "          dataTable['output_type'] = 'display_data';\n",
              "          await google.colab.output.renderOutput(dataTable, element);\n",
              "          const docLink = document.createElement('div');\n",
              "          docLink.innerHTML = docLinkHtml;\n",
              "          element.appendChild(docLink);\n",
              "        }\n",
              "      </script>\n",
              "    </div>\n",
              "  </div>\n",
              "  "
            ],
            "text/plain": [
              "  iso_code continent  ... excess_mortality excess_mortality_cumulative_per_million\n",
              "0      AFG      Asia  ...              NaN                                     NaN\n",
              "1      AFG      Asia  ...              NaN                                     NaN\n",
              "2      AFG      Asia  ...              NaN                                     NaN\n",
              "3      AFG      Asia  ...              NaN                                     NaN\n",
              "4      AFG      Asia  ...              NaN                                     NaN\n",
              "\n",
              "[5 rows x 67 columns]"
            ]
          },
          "metadata": {},
          "execution_count": 3
        }
      ]
    },
    {
      "cell_type": "code",
      "source": [
        "# para visualizar os tipos das variáveis\n",
        "df.dtypes"
      ],
      "metadata": {
        "colab": {
          "base_uri": "https://localhost:8080/"
        },
        "id": "csf3lAE7CXJa",
        "outputId": "772b7826-16de-4d70-e851-4dd274a3efcc"
      },
      "execution_count": 4,
      "outputs": [
        {
          "output_type": "execute_result",
          "data": {
            "text/plain": [
              "iso_code                                    object\n",
              "continent                                   object\n",
              "location                                    object\n",
              "date                                        object\n",
              "total_cases                                float64\n",
              "                                            ...   \n",
              "human_development_index                    float64\n",
              "excess_mortality_cumulative_absolute       float64\n",
              "excess_mortality_cumulative                float64\n",
              "excess_mortality                           float64\n",
              "excess_mortality_cumulative_per_million    float64\n",
              "Length: 67, dtype: object"
            ]
          },
          "metadata": {},
          "execution_count": 4
        }
      ]
    },
    {
      "cell_type": "markdown",
      "source": [
        "## **Dicionário das Variáveis**"
      ],
      "metadata": {
        "id": "Oo9Xfnue-uxd"
      }
    },
    {
      "cell_type": "markdown",
      "source": [
        "Como o dataset possui 67 variáveis diferentes, nessa etapa irei escrever **apenas as variáveis que irei utilizar no decorrer da Análise Exploratória**. Contudo, caso queira saber o que cada uma significa irei disponibilizar o link para o [Dicionário](https://github.com/owid/covid-19-data/tree/master/public/data) completo."
      ],
      "metadata": {
        "id": "31HPzsZ3XauG"
      }
    },
    {
      "cell_type": "markdown",
      "source": [
        "## **Tratamento de Dados**\n"
      ],
      "metadata": {
        "id": "ydr8lt2PoAdW"
      }
    },
    {
      "cell_type": "markdown",
      "source": [
        "Essa é uma etapa primordial de qualquer projeto. Antes de iniciar a Análise Exploratória é importantíssimo tratar os dados para que a análise seja feita da forma mais fiel possível. Logo, irei iniciar esse processo com a transformação das variáveis necessárias. "
      ],
      "metadata": {
        "id": "XWSGqhAQYQ6a"
      }
    },
    {
      "cell_type": "markdown",
      "source": [
        "### **Transformação de Variáveis**"
      ],
      "metadata": {
        "id": "9c2ZHP_UoTkw"
      }
    },
    {
      "cell_type": "markdown",
      "source": [
        "Como foi observado acima, a variável `date`, que seria a data, está em formato de `objeto`. Abaixo irei transforma-la em formato de `data` para facilitar as pesquisas que serão feitas baseadas na data."
      ],
      "metadata": {
        "id": "MsgSAFx0YxJT"
      }
    },
    {
      "cell_type": "code",
      "source": [
        "# transformando em data\n",
        "df.date = pd.to_datetime(df.date, format='%Y/%m/%d')"
      ],
      "metadata": {
        "id": "jzMkyyVaDhGW"
      },
      "execution_count": 5,
      "outputs": []
    },
    {
      "cell_type": "markdown",
      "source": [
        "### **Valores Nulos**\n"
      ],
      "metadata": {
        "id": "tkSGPpHfolIX"
      }
    },
    {
      "cell_type": "markdown",
      "source": [
        "Aqui irei analisar a **porcentagem (%) de valores nulos** de cada variável e excluir algumas que não irei utilizar. Volto a falar, para saber o significado de todas as variáveis basta apertar no link disponibilizado na seção do **Dicionário das Váriáveis** acima."
      ],
      "metadata": {
        "id": "Tvne1BfXZp-b"
      }
    },
    {
      "cell_type": "code",
      "source": [
        "# visualizando a quantidade de valores nulos\n",
        "(df.isnull().sum() / df.shape[0]).sort_values(ascending=False) * 100"
      ],
      "metadata": {
        "colab": {
          "base_uri": "https://localhost:8080/"
        },
        "id": "9VvOIwC9Caf1",
        "outputId": "eb10ae66-43bb-44bf-bdfb-94a6c396fe53"
      },
      "execution_count": 6,
      "outputs": [
        {
          "output_type": "execute_result",
          "data": {
            "text/plain": [
              "weekly_icu_admissions_per_million          96.782740\n",
              "weekly_icu_admissions                      96.782740\n",
              "excess_mortality_cumulative_per_million    96.569291\n",
              "excess_mortality_cumulative                96.569291\n",
              "excess_mortality_cumulative_absolute       96.569291\n",
              "                                             ...    \n",
              "total_cases                                 1.791986\n",
              "population                                  0.653380\n",
              "date                                        0.000000\n",
              "location                                    0.000000\n",
              "iso_code                                    0.000000\n",
              "Length: 67, dtype: float64"
            ]
          },
          "metadata": {},
          "execution_count": 6
        }
      ]
    },
    {
      "cell_type": "code",
      "source": [
        "# excluindoo variáveis\n",
        "df = df.drop(columns=['weekly_icu_admissions','weekly_icu_admissions_per_million','weekly_hosp_admissions_per_million',\n",
        "                      'weekly_hosp_admissions','excess_mortality','excess_mortality_cumulative_absolute','excess_mortality_cumulative',\n",
        "                      'total_boosters_per_hundred','total_boosters','excess_mortality_cumulative_per_million','icu_patients_per_million',\n",
        "                      'icu_patients','hosp_patients_per_million','hosp_patients'])"
      ],
      "metadata": {
        "id": "FN8LaaRCNOSD"
      },
      "execution_count": 7,
      "outputs": []
    },
    {
      "cell_type": "code",
      "source": [
        "dfp = df.drop(df.index[[64655\t,48549,153845,8614,49300,108530,87406,135124,1446]])"
      ],
      "metadata": {
        "id": "4mLvIp9OQWNd"
      },
      "execution_count": 8,
      "outputs": []
    },
    {
      "cell_type": "code",
      "source": [
        "print(df.shape)"
      ],
      "metadata": {
        "colab": {
          "base_uri": "https://localhost:8080/"
        },
        "id": "DOVaiSiFau41",
        "outputId": "ec12a494-75cb-4eb8-fca2-43a2b0efd198"
      },
      "execution_count": 9,
      "outputs": [
        {
          "output_type": "stream",
          "name": "stdout",
          "text": [
            "(161162, 53)\n"
          ]
        }
      ]
    },
    {
      "cell_type": "markdown",
      "source": [
        "Após o Tratamento de Dados o dataset ficou com **53 variáveis** e está pronto para ser utilizado na próxima etapa.\n",
        "\n",
        "**Vamos nessa?**"
      ],
      "metadata": {
        "id": "_hPjfFiYa6rJ"
      }
    },
    {
      "cell_type": "markdown",
      "metadata": {
        "id": "qb5By2nIMS6m"
      },
      "source": [
        "# **Análise Exploratória** \n",
        "\n",
        "Essa é a etapa principal do projeto. A ***Análise Exploratória***... Nela irei mostrar alguns pontos principais da pandemia, como por exemplo:\n",
        "\n",
        "*   **Número de Casos**\n",
        "*   **Número de Mortes**\n",
        "*   **Andamento da Vacinação**\n",
        "*   **Análise do Brasil em relação ao mundo**\n",
        "\n",
        "Vale ressaltar tambmém que para essa análise irei usar os **dados da COVID-19 até o dia  09/02/2022.**\n",
        "\n",
        "Dentro de cada tópico, irei mostrar informações mais detalhadas sobre. Sem mais delongas, **vamos começar...**\n",
        "\n"
      ]
    },
    {
      "cell_type": "markdown",
      "source": [
        "## **Casos**"
      ],
      "metadata": {
        "id": "7yS7kY1N41VL"
      }
    },
    {
      "cell_type": "markdown",
      "source": [
        "Nesta seção irei fazer uma mostrar os dados referentes ao número de casos da COVID-19 mundialmente falando e também um ranking dos países com mais casos."
      ],
      "metadata": {
        "id": "ZpLTABh_dXmx"
      }
    },
    {
      "cell_type": "markdown",
      "source": [
        "### **Visão Geral**"
      ],
      "metadata": {
        "id": "SodMWitg49ve"
      }
    },
    {
      "cell_type": "code",
      "source": [
        "# buscando o número total de casos\n",
        "dfp.loc[dfp.date == '2022-02-09',['location','total_cases']].sort_values('total_cases', ascending=False)[:1]"
      ],
      "metadata": {
        "colab": {
          "base_uri": "https://localhost:8080/",
          "height": 81
        },
        "id": "OIrLQZFFOHK7",
        "outputId": "49e42d61-12db-4e64-c4d0-9263654bf66c"
      },
      "execution_count": 10,
      "outputs": [
        {
          "output_type": "execute_result",
          "data": {
            "text/html": [
              "\n",
              "  <div id=\"df-e91b1913-9e3a-4c41-a946-a7bef86a2377\">\n",
              "    <div class=\"colab-df-container\">\n",
              "      <div>\n",
              "<style scoped>\n",
              "    .dataframe tbody tr th:only-of-type {\n",
              "        vertical-align: middle;\n",
              "    }\n",
              "\n",
              "    .dataframe tbody tr th {\n",
              "        vertical-align: top;\n",
              "    }\n",
              "\n",
              "    .dataframe thead th {\n",
              "        text-align: right;\n",
              "    }\n",
              "</style>\n",
              "<table border=\"1\" class=\"dataframe\">\n",
              "  <thead>\n",
              "    <tr style=\"text-align: right;\">\n",
              "      <th></th>\n",
              "      <th>location</th>\n",
              "      <th>total_cases</th>\n",
              "    </tr>\n",
              "  </thead>\n",
              "  <tbody>\n",
              "    <tr>\n",
              "      <th>159096</th>\n",
              "      <td>World</td>\n",
              "      <td>403305027.0</td>\n",
              "    </tr>\n",
              "  </tbody>\n",
              "</table>\n",
              "</div>\n",
              "      <button class=\"colab-df-convert\" onclick=\"convertToInteractive('df-e91b1913-9e3a-4c41-a946-a7bef86a2377')\"\n",
              "              title=\"Convert this dataframe to an interactive table.\"\n",
              "              style=\"display:none;\">\n",
              "        \n",
              "  <svg xmlns=\"http://www.w3.org/2000/svg\" height=\"24px\"viewBox=\"0 0 24 24\"\n",
              "       width=\"24px\">\n",
              "    <path d=\"M0 0h24v24H0V0z\" fill=\"none\"/>\n",
              "    <path d=\"M18.56 5.44l.94 2.06.94-2.06 2.06-.94-2.06-.94-.94-2.06-.94 2.06-2.06.94zm-11 1L8.5 8.5l.94-2.06 2.06-.94-2.06-.94L8.5 2.5l-.94 2.06-2.06.94zm10 10l.94 2.06.94-2.06 2.06-.94-2.06-.94-.94-2.06-.94 2.06-2.06.94z\"/><path d=\"M17.41 7.96l-1.37-1.37c-.4-.4-.92-.59-1.43-.59-.52 0-1.04.2-1.43.59L10.3 9.45l-7.72 7.72c-.78.78-.78 2.05 0 2.83L4 21.41c.39.39.9.59 1.41.59.51 0 1.02-.2 1.41-.59l7.78-7.78 2.81-2.81c.8-.78.8-2.07 0-2.86zM5.41 20L4 18.59l7.72-7.72 1.47 1.35L5.41 20z\"/>\n",
              "  </svg>\n",
              "      </button>\n",
              "      \n",
              "  <style>\n",
              "    .colab-df-container {\n",
              "      display:flex;\n",
              "      flex-wrap:wrap;\n",
              "      gap: 12px;\n",
              "    }\n",
              "\n",
              "    .colab-df-convert {\n",
              "      background-color: #E8F0FE;\n",
              "      border: none;\n",
              "      border-radius: 50%;\n",
              "      cursor: pointer;\n",
              "      display: none;\n",
              "      fill: #1967D2;\n",
              "      height: 32px;\n",
              "      padding: 0 0 0 0;\n",
              "      width: 32px;\n",
              "    }\n",
              "\n",
              "    .colab-df-convert:hover {\n",
              "      background-color: #E2EBFA;\n",
              "      box-shadow: 0px 1px 2px rgba(60, 64, 67, 0.3), 0px 1px 3px 1px rgba(60, 64, 67, 0.15);\n",
              "      fill: #174EA6;\n",
              "    }\n",
              "\n",
              "    [theme=dark] .colab-df-convert {\n",
              "      background-color: #3B4455;\n",
              "      fill: #D2E3FC;\n",
              "    }\n",
              "\n",
              "    [theme=dark] .colab-df-convert:hover {\n",
              "      background-color: #434B5C;\n",
              "      box-shadow: 0px 1px 3px 1px rgba(0, 0, 0, 0.15);\n",
              "      filter: drop-shadow(0px 1px 2px rgba(0, 0, 0, 0.3));\n",
              "      fill: #FFFFFF;\n",
              "    }\n",
              "  </style>\n",
              "\n",
              "      <script>\n",
              "        const buttonEl =\n",
              "          document.querySelector('#df-e91b1913-9e3a-4c41-a946-a7bef86a2377 button.colab-df-convert');\n",
              "        buttonEl.style.display =\n",
              "          google.colab.kernel.accessAllowed ? 'block' : 'none';\n",
              "\n",
              "        async function convertToInteractive(key) {\n",
              "          const element = document.querySelector('#df-e91b1913-9e3a-4c41-a946-a7bef86a2377');\n",
              "          const dataTable =\n",
              "            await google.colab.kernel.invokeFunction('convertToInteractive',\n",
              "                                                     [key], {});\n",
              "          if (!dataTable) return;\n",
              "\n",
              "          const docLinkHtml = 'Like what you see? Visit the ' +\n",
              "            '<a target=\"_blank\" href=https://colab.research.google.com/notebooks/data_table.ipynb>data table notebook</a>'\n",
              "            + ' to learn more about interactive tables.';\n",
              "          element.innerHTML = '';\n",
              "          dataTable['output_type'] = 'display_data';\n",
              "          await google.colab.output.renderOutput(dataTable, element);\n",
              "          const docLink = document.createElement('div');\n",
              "          docLink.innerHTML = docLinkHtml;\n",
              "          element.appendChild(docLink);\n",
              "        }\n",
              "      </script>\n",
              "    </div>\n",
              "  </div>\n",
              "  "
            ],
            "text/plain": [
              "       location  total_cases\n",
              "159096    World  403305027.0"
            ]
          },
          "metadata": {},
          "execution_count": 10
        }
      ]
    },
    {
      "cell_type": "markdown",
      "source": [
        "Com o código acima, podemos observar que no mundo o total de casos até a respectiva data (02-02-2022) foi de aproximadamente **403 Milhões**."
      ],
      "metadata": {
        "id": "dr1Tcnyb4N_C"
      }
    },
    {
      "cell_type": "markdown",
      "source": [
        "### **Países com Mais Casos**"
      ],
      "metadata": {
        "id": "KWOUrJQ35CPe"
      }
    },
    {
      "cell_type": "code",
      "source": [
        "# países com o maior numero de casos\n",
        "dfp.loc[dfp.date == '2022-02-09',['location','total_cases']].sort_values('total_cases', ascending=False)[1:6]"
      ],
      "metadata": {
        "colab": {
          "base_uri": "https://localhost:8080/",
          "height": 206
        },
        "id": "UYTkMWgyPedh",
        "outputId": "394b0925-d8b0-47af-d57a-406a77a1f8ca"
      },
      "execution_count": 11,
      "outputs": [
        {
          "output_type": "execute_result",
          "data": {
            "text/html": [
              "\n",
              "  <div id=\"df-27a6e03b-4406-4335-98ad-d6fa96be1c35\">\n",
              "    <div class=\"colab-df-container\">\n",
              "      <div>\n",
              "<style scoped>\n",
              "    .dataframe tbody tr th:only-of-type {\n",
              "        vertical-align: middle;\n",
              "    }\n",
              "\n",
              "    .dataframe tbody tr th {\n",
              "        vertical-align: top;\n",
              "    }\n",
              "\n",
              "    .dataframe thead th {\n",
              "        text-align: right;\n",
              "    }\n",
              "</style>\n",
              "<table border=\"1\" class=\"dataframe\">\n",
              "  <thead>\n",
              "    <tr style=\"text-align: right;\">\n",
              "      <th></th>\n",
              "      <th>location</th>\n",
              "      <th>total_cases</th>\n",
              "    </tr>\n",
              "  </thead>\n",
              "  <tbody>\n",
              "    <tr>\n",
              "      <th>153093</th>\n",
              "      <td>United States</td>\n",
              "      <td>77281158.0</td>\n",
              "    </tr>\n",
              "    <tr>\n",
              "      <th>68279</th>\n",
              "      <td>India</td>\n",
              "      <td>42478060.0</td>\n",
              "    </tr>\n",
              "    <tr>\n",
              "      <th>21358</th>\n",
              "      <td>Brazil</td>\n",
              "      <td>26972914.0</td>\n",
              "    </tr>\n",
              "    <tr>\n",
              "      <th>52928</th>\n",
              "      <td>France</td>\n",
              "      <td>21091589.0</td>\n",
              "    </tr>\n",
              "    <tr>\n",
              "      <th>152341</th>\n",
              "      <td>United Kingdom</td>\n",
              "      <td>18045697.0</td>\n",
              "    </tr>\n",
              "  </tbody>\n",
              "</table>\n",
              "</div>\n",
              "      <button class=\"colab-df-convert\" onclick=\"convertToInteractive('df-27a6e03b-4406-4335-98ad-d6fa96be1c35')\"\n",
              "              title=\"Convert this dataframe to an interactive table.\"\n",
              "              style=\"display:none;\">\n",
              "        \n",
              "  <svg xmlns=\"http://www.w3.org/2000/svg\" height=\"24px\"viewBox=\"0 0 24 24\"\n",
              "       width=\"24px\">\n",
              "    <path d=\"M0 0h24v24H0V0z\" fill=\"none\"/>\n",
              "    <path d=\"M18.56 5.44l.94 2.06.94-2.06 2.06-.94-2.06-.94-.94-2.06-.94 2.06-2.06.94zm-11 1L8.5 8.5l.94-2.06 2.06-.94-2.06-.94L8.5 2.5l-.94 2.06-2.06.94zm10 10l.94 2.06.94-2.06 2.06-.94-2.06-.94-.94-2.06-.94 2.06-2.06.94z\"/><path d=\"M17.41 7.96l-1.37-1.37c-.4-.4-.92-.59-1.43-.59-.52 0-1.04.2-1.43.59L10.3 9.45l-7.72 7.72c-.78.78-.78 2.05 0 2.83L4 21.41c.39.39.9.59 1.41.59.51 0 1.02-.2 1.41-.59l7.78-7.78 2.81-2.81c.8-.78.8-2.07 0-2.86zM5.41 20L4 18.59l7.72-7.72 1.47 1.35L5.41 20z\"/>\n",
              "  </svg>\n",
              "      </button>\n",
              "      \n",
              "  <style>\n",
              "    .colab-df-container {\n",
              "      display:flex;\n",
              "      flex-wrap:wrap;\n",
              "      gap: 12px;\n",
              "    }\n",
              "\n",
              "    .colab-df-convert {\n",
              "      background-color: #E8F0FE;\n",
              "      border: none;\n",
              "      border-radius: 50%;\n",
              "      cursor: pointer;\n",
              "      display: none;\n",
              "      fill: #1967D2;\n",
              "      height: 32px;\n",
              "      padding: 0 0 0 0;\n",
              "      width: 32px;\n",
              "    }\n",
              "\n",
              "    .colab-df-convert:hover {\n",
              "      background-color: #E2EBFA;\n",
              "      box-shadow: 0px 1px 2px rgba(60, 64, 67, 0.3), 0px 1px 3px 1px rgba(60, 64, 67, 0.15);\n",
              "      fill: #174EA6;\n",
              "    }\n",
              "\n",
              "    [theme=dark] .colab-df-convert {\n",
              "      background-color: #3B4455;\n",
              "      fill: #D2E3FC;\n",
              "    }\n",
              "\n",
              "    [theme=dark] .colab-df-convert:hover {\n",
              "      background-color: #434B5C;\n",
              "      box-shadow: 0px 1px 3px 1px rgba(0, 0, 0, 0.15);\n",
              "      filter: drop-shadow(0px 1px 2px rgba(0, 0, 0, 0.3));\n",
              "      fill: #FFFFFF;\n",
              "    }\n",
              "  </style>\n",
              "\n",
              "      <script>\n",
              "        const buttonEl =\n",
              "          document.querySelector('#df-27a6e03b-4406-4335-98ad-d6fa96be1c35 button.colab-df-convert');\n",
              "        buttonEl.style.display =\n",
              "          google.colab.kernel.accessAllowed ? 'block' : 'none';\n",
              "\n",
              "        async function convertToInteractive(key) {\n",
              "          const element = document.querySelector('#df-27a6e03b-4406-4335-98ad-d6fa96be1c35');\n",
              "          const dataTable =\n",
              "            await google.colab.kernel.invokeFunction('convertToInteractive',\n",
              "                                                     [key], {});\n",
              "          if (!dataTable) return;\n",
              "\n",
              "          const docLinkHtml = 'Like what you see? Visit the ' +\n",
              "            '<a target=\"_blank\" href=https://colab.research.google.com/notebooks/data_table.ipynb>data table notebook</a>'\n",
              "            + ' to learn more about interactive tables.';\n",
              "          element.innerHTML = '';\n",
              "          dataTable['output_type'] = 'display_data';\n",
              "          await google.colab.output.renderOutput(dataTable, element);\n",
              "          const docLink = document.createElement('div');\n",
              "          docLink.innerHTML = docLinkHtml;\n",
              "          element.appendChild(docLink);\n",
              "        }\n",
              "      </script>\n",
              "    </div>\n",
              "  </div>\n",
              "  "
            ],
            "text/plain": [
              "              location  total_cases\n",
              "153093   United States   77281158.0\n",
              "68279            India   42478060.0\n",
              "21358           Brazil   26972914.0\n",
              "52928           France   21091589.0\n",
              "152341  United Kingdom   18045697.0"
            ]
          },
          "metadata": {},
          "execution_count": 11
        }
      ]
    },
    {
      "cell_type": "markdown",
      "source": [
        "Aqui acima, temos os **5 países com o maior número de casos do mundo.** Como podemos ver, os Estados Unidos lidera essa lista com aproximadamente **77 Milhões** de casos, enquanto o Brasil está com **27 Milhões**, ficando em terceiro lugar dessa lista até a respectiva data. Para facilitar a visualização desses dados, irei plotar um gráfico em barra abaixo."
      ],
      "metadata": {
        "id": "zDre8YWsLBxa"
      }
    },
    {
      "cell_type": "code",
      "source": [
        "top_casos = dfp.loc[dfp.date == '2022-02-09',['location','total_cases']].sort_values('total_cases', ascending=False)[1:6]"
      ],
      "metadata": {
        "id": "DgAcaw-P8T6o"
      },
      "execution_count": 12,
      "outputs": []
    },
    {
      "cell_type": "code",
      "source": [
        "mycolor = ['#162942','#D9D9D9','#D9D9D9','#D9D9D9','#D9D9D9']\n",
        "\n",
        "fig, ax = plt.subplots(figsize=(8,6), dpi=70)\n",
        "\n",
        "ax.spines['bottom'].set_visible(False)\n",
        "ax.spines['top'].set_visible(False)\n",
        "ax.spines['right'].set_visible(False)\n",
        "ax.spines['left'].set_visible(False)\n",
        "\n",
        "ax.set_yticklabels(labels=[], set_visible=False)\n",
        "ax.set_yticks(ticks=[])\n",
        "\n",
        "ax.bar('location', 'total_cases', data = top_casos, color=mycolor);\n",
        "\n",
        "ax.text(-0.45, 90000000,'Ranking de Casos',fontsize=20, fontweight='bold',color='#58555A')\n",
        "ax.text(-0.45, 80000000,'Abaixo estão os valores aproximados em milhões\\ndos 5 países com maior numero de casos de COVID-19 no mundo.',fontsize=12, color='#76777e')\n",
        "\n",
        "ax.text(-0.25, 55000000,'77 Mi',fontsize=16, fontweight='bold', color='w')\n",
        "ax.text(0.825, 20000000,'42 Mi',fontsize=12, fontweight='semibold', color='#58555A')\n",
        "ax.text(1.825, 11000000,'27 Mi',fontsize=12, fontweight='semibold', color='#58555A')\n",
        "ax.text(2.825, 7500000,'20 Mi',fontsize=12, fontweight='semibold', color='#58555A')\n",
        "ax.text(3.825, 6000000,'18 Mi',fontsize=12, fontweight='semibold', color='#58555A')\n",
        "\n",
        "plt.tight_layout()"
      ],
      "metadata": {
        "colab": {
          "base_uri": "https://localhost:8080/",
          "height": 431
        },
        "id": "HjrLMOLU8S3s",
        "outputId": "83356d91-21aa-457e-f533-bbf92d4b2b96"
      },
      "execution_count": 13,
      "outputs": [
        {
          "output_type": "display_data",
          "data": {
            "image/png": "[encoded data removed]",
            "text/plain": [
              "<Figure size 560x420 with 1 Axes>"
            ]
          },
          "metadata": {
            "needs_background": "light"
          }
        }
      ]
    },
    {
      "cell_type": "markdown",
      "source": [
        "## **Mortes**"
      ],
      "metadata": {
        "id": "V_Ew13pT5R-r"
      }
    },
    {
      "cell_type": "markdown",
      "source": [
        "**Por ser uma doença muito letal**, a COVID-19 vem deixando estrago por onde passa. O número de mortos já está muito alto porem ainda não sei exatamente... **Vamos Descobrir juntos?**\n",
        "\n",
        " Nesta etapa irei analisar o número de mortes mundialmente e mostrar os países que mais foram afetados em relação as mortes."
      ],
      "metadata": {
        "id": "jKFiqJynU5lO"
      }
    },
    {
      "cell_type": "markdown",
      "source": [
        "### **Visão Geral**"
      ],
      "metadata": {
        "id": "ipZZYvNn5Wb1"
      }
    },
    {
      "cell_type": "code",
      "source": [
        "dfp.loc[dfp.date == '2022-02-09',['location','total_deaths']].sort_values('total_deaths', ascending=False)[:1]"
      ],
      "metadata": {
        "colab": {
          "base_uri": "https://localhost:8080/",
          "height": 81
        },
        "id": "ZNjUrQb0b2Gq",
        "outputId": "4fa3042f-4633-4421-99c8-757464aa0696"
      },
      "execution_count": 14,
      "outputs": [
        {
          "output_type": "execute_result",
          "data": {
            "text/html": [
              "\n",
              "  <div id=\"df-8d1de6f8-2bba-45d0-9db2-940a0bf1939e\">\n",
              "    <div class=\"colab-df-container\">\n",
              "      <div>\n",
              "<style scoped>\n",
              "    .dataframe tbody tr th:only-of-type {\n",
              "        vertical-align: middle;\n",
              "    }\n",
              "\n",
              "    .dataframe tbody tr th {\n",
              "        vertical-align: top;\n",
              "    }\n",
              "\n",
              "    .dataframe thead th {\n",
              "        text-align: right;\n",
              "    }\n",
              "</style>\n",
              "<table border=\"1\" class=\"dataframe\">\n",
              "  <thead>\n",
              "    <tr style=\"text-align: right;\">\n",
              "      <th></th>\n",
              "      <th>location</th>\n",
              "      <th>total_deaths</th>\n",
              "    </tr>\n",
              "  </thead>\n",
              "  <tbody>\n",
              "    <tr>\n",
              "      <th>159096</th>\n",
              "      <td>World</td>\n",
              "      <td>5778017.0</td>\n",
              "    </tr>\n",
              "  </tbody>\n",
              "</table>\n",
              "</div>\n",
              "      <button class=\"colab-df-convert\" onclick=\"convertToInteractive('df-8d1de6f8-2bba-45d0-9db2-940a0bf1939e')\"\n",
              "              title=\"Convert this dataframe to an interactive table.\"\n",
              "              style=\"display:none;\">\n",
              "        \n",
              "  <svg xmlns=\"http://www.w3.org/2000/svg\" height=\"24px\"viewBox=\"0 0 24 24\"\n",
              "       width=\"24px\">\n",
              "    <path d=\"M0 0h24v24H0V0z\" fill=\"none\"/>\n",
              "    <path d=\"M18.56 5.44l.94 2.06.94-2.06 2.06-.94-2.06-.94-.94-2.06-.94 2.06-2.06.94zm-11 1L8.5 8.5l.94-2.06 2.06-.94-2.06-.94L8.5 2.5l-.94 2.06-2.06.94zm10 10l.94 2.06.94-2.06 2.06-.94-2.06-.94-.94-2.06-.94 2.06-2.06.94z\"/><path d=\"M17.41 7.96l-1.37-1.37c-.4-.4-.92-.59-1.43-.59-.52 0-1.04.2-1.43.59L10.3 9.45l-7.72 7.72c-.78.78-.78 2.05 0 2.83L4 21.41c.39.39.9.59 1.41.59.51 0 1.02-.2 1.41-.59l7.78-7.78 2.81-2.81c.8-.78.8-2.07 0-2.86zM5.41 20L4 18.59l7.72-7.72 1.47 1.35L5.41 20z\"/>\n",
              "  </svg>\n",
              "      </button>\n",
              "      \n",
              "  <style>\n",
              "    .colab-df-container {\n",
              "      display:flex;\n",
              "      flex-wrap:wrap;\n",
              "      gap: 12px;\n",
              "    }\n",
              "\n",
              "    .colab-df-convert {\n",
              "      background-color: #E8F0FE;\n",
              "      border: none;\n",
              "      border-radius: 50%;\n",
              "      cursor: pointer;\n",
              "      display: none;\n",
              "      fill: #1967D2;\n",
              "      height: 32px;\n",
              "      padding: 0 0 0 0;\n",
              "      width: 32px;\n",
              "    }\n",
              "\n",
              "    .colab-df-convert:hover {\n",
              "      background-color: #E2EBFA;\n",
              "      box-shadow: 0px 1px 2px rgba(60, 64, 67, 0.3), 0px 1px 3px 1px rgba(60, 64, 67, 0.15);\n",
              "      fill: #174EA6;\n",
              "    }\n",
              "\n",
              "    [theme=dark] .colab-df-convert {\n",
              "      background-color: #3B4455;\n",
              "      fill: #D2E3FC;\n",
              "    }\n",
              "\n",
              "    [theme=dark] .colab-df-convert:hover {\n",
              "      background-color: #434B5C;\n",
              "      box-shadow: 0px 1px 3px 1px rgba(0, 0, 0, 0.15);\n",
              "      filter: drop-shadow(0px 1px 2px rgba(0, 0, 0, 0.3));\n",
              "      fill: #FFFFFF;\n",
              "    }\n",
              "  </style>\n",
              "\n",
              "      <script>\n",
              "        const buttonEl =\n",
              "          document.querySelector('#df-8d1de6f8-2bba-45d0-9db2-940a0bf1939e button.colab-df-convert');\n",
              "        buttonEl.style.display =\n",
              "          google.colab.kernel.accessAllowed ? 'block' : 'none';\n",
              "\n",
              "        async function convertToInteractive(key) {\n",
              "          const element = document.querySelector('#df-8d1de6f8-2bba-45d0-9db2-940a0bf1939e');\n",
              "          const dataTable =\n",
              "            await google.colab.kernel.invokeFunction('convertToInteractive',\n",
              "                                                     [key], {});\n",
              "          if (!dataTable) return;\n",
              "\n",
              "          const docLinkHtml = 'Like what you see? Visit the ' +\n",
              "            '<a target=\"_blank\" href=https://colab.research.google.com/notebooks/data_table.ipynb>data table notebook</a>'\n",
              "            + ' to learn more about interactive tables.';\n",
              "          element.innerHTML = '';\n",
              "          dataTable['output_type'] = 'display_data';\n",
              "          await google.colab.output.renderOutput(dataTable, element);\n",
              "          const docLink = document.createElement('div');\n",
              "          docLink.innerHTML = docLinkHtml;\n",
              "          element.appendChild(docLink);\n",
              "        }\n",
              "      </script>\n",
              "    </div>\n",
              "  </div>\n",
              "  "
            ],
            "text/plain": [
              "       location  total_deaths\n",
              "159096    World     5778017.0"
            ]
          },
          "metadata": {},
          "execution_count": 14
        }
      ]
    },
    {
      "cell_type": "markdown",
      "source": [
        "Com o código acima, podemos observar que no mundo o total de mortes até a respectiva data (09-02-2022) foi de aproximadamente **5.8 Milhões**."
      ],
      "metadata": {
        "id": "BDrua7O8b-30"
      }
    },
    {
      "cell_type": "markdown",
      "source": [
        "### **Países com Mais Mortes**"
      ],
      "metadata": {
        "id": "T8f3VxJMb3l9"
      }
    },
    {
      "cell_type": "code",
      "source": [
        "dfp.loc[dfp.date == '2022-02-09',['location','total_deaths']].sort_values('total_deaths', ascending=False)[1:6]"
      ],
      "metadata": {
        "colab": {
          "base_uri": "https://localhost:8080/",
          "height": 206
        },
        "id": "tNZD2LCxcAfM",
        "outputId": "d1c0739d-ff2c-46f4-f352-796822976ece"
      },
      "execution_count": 15,
      "outputs": [
        {
          "output_type": "execute_result",
          "data": {
            "text/html": [
              "\n",
              "  <div id=\"df-9b6d7f03-def1-455f-8640-0b4d88e4e66c\">\n",
              "    <div class=\"colab-df-container\">\n",
              "      <div>\n",
              "<style scoped>\n",
              "    .dataframe tbody tr th:only-of-type {\n",
              "        vertical-align: middle;\n",
              "    }\n",
              "\n",
              "    .dataframe tbody tr th {\n",
              "        vertical-align: top;\n",
              "    }\n",
              "\n",
              "    .dataframe thead th {\n",
              "        text-align: right;\n",
              "    }\n",
              "</style>\n",
              "<table border=\"1\" class=\"dataframe\">\n",
              "  <thead>\n",
              "    <tr style=\"text-align: right;\">\n",
              "      <th></th>\n",
              "      <th>location</th>\n",
              "      <th>total_deaths</th>\n",
              "    </tr>\n",
              "  </thead>\n",
              "  <tbody>\n",
              "    <tr>\n",
              "      <th>153093</th>\n",
              "      <td>United States</td>\n",
              "      <td>912255.0</td>\n",
              "    </tr>\n",
              "    <tr>\n",
              "      <th>21358</th>\n",
              "      <td>Brazil</td>\n",
              "      <td>635421.0</td>\n",
              "    </tr>\n",
              "    <tr>\n",
              "      <th>68279</th>\n",
              "      <td>India</td>\n",
              "      <td>506520.0</td>\n",
              "    </tr>\n",
              "    <tr>\n",
              "      <th>120656</th>\n",
              "      <td>Russia</td>\n",
              "      <td>330609.0</td>\n",
              "    </tr>\n",
              "    <tr>\n",
              "      <th>95751</th>\n",
              "      <td>Mexico</td>\n",
              "      <td>310627.0</td>\n",
              "    </tr>\n",
              "  </tbody>\n",
              "</table>\n",
              "</div>\n",
              "      <button class=\"colab-df-convert\" onclick=\"convertToInteractive('df-9b6d7f03-def1-455f-8640-0b4d88e4e66c')\"\n",
              "              title=\"Convert this dataframe to an interactive table.\"\n",
              "              style=\"display:none;\">\n",
              "        \n",
              "  <svg xmlns=\"http://www.w3.org/2000/svg\" height=\"24px\"viewBox=\"0 0 24 24\"\n",
              "       width=\"24px\">\n",
              "    <path d=\"M0 0h24v24H0V0z\" fill=\"none\"/>\n",
              "    <path d=\"M18.56 5.44l.94 2.06.94-2.06 2.06-.94-2.06-.94-.94-2.06-.94 2.06-2.06.94zm-11 1L8.5 8.5l.94-2.06 2.06-.94-2.06-.94L8.5 2.5l-.94 2.06-2.06.94zm10 10l.94 2.06.94-2.06 2.06-.94-2.06-.94-.94-2.06-.94 2.06-2.06.94z\"/><path d=\"M17.41 7.96l-1.37-1.37c-.4-.4-.92-.59-1.43-.59-.52 0-1.04.2-1.43.59L10.3 9.45l-7.72 7.72c-.78.78-.78 2.05 0 2.83L4 21.41c.39.39.9.59 1.41.59.51 0 1.02-.2 1.41-.59l7.78-7.78 2.81-2.81c.8-.78.8-2.07 0-2.86zM5.41 20L4 18.59l7.72-7.72 1.47 1.35L5.41 20z\"/>\n",
              "  </svg>\n",
              "      </button>\n",
              "      \n",
              "  <style>\n",
              "    .colab-df-container {\n",
              "      display:flex;\n",
              "      flex-wrap:wrap;\n",
              "      gap: 12px;\n",
              "    }\n",
              "\n",
              "    .colab-df-convert {\n",
              "      background-color: #E8F0FE;\n",
              "      border: none;\n",
              "      border-radius: 50%;\n",
              "      cursor: pointer;\n",
              "      display: none;\n",
              "      fill: #1967D2;\n",
              "      height: 32px;\n",
              "      padding: 0 0 0 0;\n",
              "      width: 32px;\n",
              "    }\n",
              "\n",
              "    .colab-df-convert:hover {\n",
              "      background-color: #E2EBFA;\n",
              "      box-shadow: 0px 1px 2px rgba(60, 64, 67, 0.3), 0px 1px 3px 1px rgba(60, 64, 67, 0.15);\n",
              "      fill: #174EA6;\n",
              "    }\n",
              "\n",
              "    [theme=dark] .colab-df-convert {\n",
              "      background-color: #3B4455;\n",
              "      fill: #D2E3FC;\n",
              "    }\n",
              "\n",
              "    [theme=dark] .colab-df-convert:hover {\n",
              "      background-color: #434B5C;\n",
              "      box-shadow: 0px 1px 3px 1px rgba(0, 0, 0, 0.15);\n",
              "      filter: drop-shadow(0px 1px 2px rgba(0, 0, 0, 0.3));\n",
              "      fill: #FFFFFF;\n",
              "    }\n",
              "  </style>\n",
              "\n",
              "      <script>\n",
              "        const buttonEl =\n",
              "          document.querySelector('#df-9b6d7f03-def1-455f-8640-0b4d88e4e66c button.colab-df-convert');\n",
              "        buttonEl.style.display =\n",
              "          google.colab.kernel.accessAllowed ? 'block' : 'none';\n",
              "\n",
              "        async function convertToInteractive(key) {\n",
              "          const element = document.querySelector('#df-9b6d7f03-def1-455f-8640-0b4d88e4e66c');\n",
              "          const dataTable =\n",
              "            await google.colab.kernel.invokeFunction('convertToInteractive',\n",
              "                                                     [key], {});\n",
              "          if (!dataTable) return;\n",
              "\n",
              "          const docLinkHtml = 'Like what you see? Visit the ' +\n",
              "            '<a target=\"_blank\" href=https://colab.research.google.com/notebooks/data_table.ipynb>data table notebook</a>'\n",
              "            + ' to learn more about interactive tables.';\n",
              "          element.innerHTML = '';\n",
              "          dataTable['output_type'] = 'display_data';\n",
              "          await google.colab.output.renderOutput(dataTable, element);\n",
              "          const docLink = document.createElement('div');\n",
              "          docLink.innerHTML = docLinkHtml;\n",
              "          element.appendChild(docLink);\n",
              "        }\n",
              "      </script>\n",
              "    </div>\n",
              "  </div>\n",
              "  "
            ],
            "text/plain": [
              "             location  total_deaths\n",
              "153093  United States      912255.0\n",
              "21358          Brazil      635421.0\n",
              "68279           India      506520.0\n",
              "120656         Russia      330609.0\n",
              "95751          Mexico      310627.0"
            ]
          },
          "metadata": {},
          "execution_count": 15
        }
      ]
    },
    {
      "cell_type": "markdown",
      "source": [
        "Aqui acima, temos os **5 países com o maior número de mortes do mundo.** Como podemos ver, os Estados Unidos lidera essa lista com aproximadamente **912 Mil** de mortes, enquanto o Brasil está com **635 Mil**, ficando em segundo lugar dessa lista até a respectiva data. Para facilitar a visualização desses dados, irei plotar um gráfico em barra abaixo."
      ],
      "metadata": {
        "id": "f6fJz8EyZ6UT"
      }
    },
    {
      "cell_type": "code",
      "source": [
        "top_mortes = dfp.loc[dfp.date == '2022-02-09',['location','total_deaths']].sort_values('total_deaths', ascending=False)[1:6]"
      ],
      "metadata": {
        "id": "m7VGMeiYMhYu"
      },
      "execution_count": 16,
      "outputs": []
    },
    {
      "cell_type": "code",
      "source": [
        "mycolor = ['#162942','#D9D9D9','#D9D9D9','#D9D9D9','#D9D9D9']\n",
        "\n",
        "fig, ax = plt.subplots(figsize=(8,6), dpi=70)\n",
        "\n",
        "ax.spines['bottom'].set_visible(False)\n",
        "ax.spines['top'].set_visible(False)\n",
        "ax.spines['right'].set_visible(False)\n",
        "ax.spines['left'].set_visible(False)\n",
        "\n",
        "ax.set_yticklabels(labels=[], set_visible=False)\n",
        "ax.set_yticks(ticks=[])\n",
        "\n",
        "ax.bar('location', 'total_deaths', data = top_mortes, color=mycolor);\n",
        "\n",
        "ax.text(-0.45, 1200000,'Ranking de Mortes',fontsize=20, fontweight='bold',color='#58555A')\n",
        "ax.text(-0.45, 1050000,'Abaixo estão os valores aproximados em milhar\\ndos 5 países com maior numero de mortes de COVID-19 no mundo.',fontsize=12, color='#76777e')\n",
        "\n",
        "ax.text(-0.31, 550000,'895 Mil',fontsize=16, fontweight='bold', color='w')\n",
        "ax.text(0.78, 280000,'629 Mil',fontsize=12, fontweight='semibold', color='#58555A')\n",
        "ax.text(1.78, 240000,'499 Mil',fontsize=12, fontweight='semibold', color='#58555A')\n",
        "ax.text(2.78, 150000,'326 Mil',fontsize=12, fontweight='semibold', color='#58555A')\n",
        "ax.text(3.78, 120000,'307 Mil',fontsize=12, fontweight='semibold', color='#58555A')\n",
        "\n",
        "plt.tight_layout()"
      ],
      "metadata": {
        "colab": {
          "base_uri": "https://localhost:8080/",
          "height": 422
        },
        "id": "EgTafzkRy3E3",
        "outputId": "30c5479a-6bbd-441a-b540-7b8afd479cd3"
      },
      "execution_count": 17,
      "outputs": [
        {
          "output_type": "display_data",
          "data": {
            "image/png": "[encoded data removed]",
            "text/plain": [
              "<Figure size 560x420 with 1 Axes>"
            ]
          },
          "metadata": {
            "needs_background": "light"
          }
        }
      ]
    },
    {
      "cell_type": "markdown",
      "source": [
        "### **Média Móvel de Mortos**"
      ],
      "metadata": {
        "id": "CQLKT0EI6l9o"
      }
    },
    {
      "cell_type": "code",
      "source": [
        "dev = pd.read_csv('https://covid.ourworldindata.org/data/owid-covid-data.csv', index_col=\"date\", parse_dates=True)\n",
        "\n",
        "df_br = dev.loc[dev.location == 'Brazil'].sort_values(by=\"new_deaths_smoothed\")\n",
        "df_us = dev.loc[dev.location == 'United States'].sort_values(by=\"new_deaths_smoothed\")\n",
        "df_ind = dev.loc[dev.location == 'India'].sort_values(by=\"new_deaths_smoothed\")\n",
        "\n",
        "fig, ax = plt.subplots(nrows=1, ncols=1, figsize=(18,6), dpi=72)\n",
        "df_br.loc['2020-03-26':'2022-02-09',\"new_deaths_smoothed\"].plot(kind=\"line\", ax=ax, label=\"BRA\",color=\"#162942\", linewidth=2)\n",
        "df_us.loc['2020-02-26':'2022-02-09',\"new_deaths_smoothed\"].plot(kind='line', ax=ax, linewidth=2, label=\"USA\",color=\"#88A3CE\")\n",
        "df_ind.loc['2020-02-26':'2022-02-09',\"new_deaths_smoothed\"].plot(kind='line', ax=ax,linewidth=2, label=\"IND\",color=\"#88A3CE\")\n",
        "\n",
        "ax.set_xlabel(\"\")\n",
        "\n",
        "ax.spines['top'].set_visible(False)\n",
        "ax.spines['right'].set_visible(False)\n",
        "ax.spines['left'].set_visible(False)\n",
        "\n",
        "ax.text(0, 1.2,'Média Móvel de Mortos',transform=ax.transAxes, fontsize=24, fontweight='bold',color='#58555A')\n",
        "ax.text(0, 1.12,'Média móvel dos 3 países com mais mortes por COVID-19 até 09/12/2021',transform=ax.transAxes,fontsize=12, color='#76777e')\n",
        "\n",
        "plt.text(0.97, 0.55,  \"USA\", transform=ax.transAxes, fontsize=12, fontweight='bold', color=\"#88A3CE\")\n",
        "plt.text(0.97, 0.2,  \"BRA\", transform=ax.transAxes, fontsize=12, fontweight='bold', color=\"#162942\")\n",
        "plt.text(0.97, 0.3,  \"IND\", transform=ax.transAxes, fontsize=12, fontweight='bold', color=\"#88A3CE\")\n",
        "\n",
        "\n",
        "\n",
        "\n",
        "plt.show()"
      ],
      "metadata": {
        "colab": {
          "base_uri": "https://localhost:8080/",
          "height": 438
        },
        "id": "v--sH2kgr-5n",
        "outputId": "6c213fcf-11a1-4538-aea6-27b659810095"
      },
      "execution_count": 48,
      "outputs": [
        {
          "output_type": "display_data",
          "data": {
            "image/png": "[encoded data removed]",
            "text/plain": [
              "<Figure size 1296x432 with 1 Axes>"
            ]
          },
          "metadata": {
            "needs_background": "light"
          }
        }
      ]
    },
    {
      "cell_type": "code",
      "source": [
        "dfp.loc[dfp.date == '2022-02-09',['location','new_deaths_smoothed']].sort_values('new_deaths_smoothed', ascending=False)[1:6]"
      ],
      "metadata": {
        "colab": {
          "base_uri": "https://localhost:8080/",
          "height": 206
        },
        "id": "wSMgkQLvya5A",
        "outputId": "b322bb24-96c7-48d6-a51d-4f69999482f2"
      },
      "execution_count": 19,
      "outputs": [
        {
          "output_type": "execute_result",
          "data": {
            "text/html": [
              "\n",
              "  <div id=\"df-db15d43b-2d3e-4979-b0aa-4f21852a16e9\">\n",
              "    <div class=\"colab-df-container\">\n",
              "      <div>\n",
              "<style scoped>\n",
              "    .dataframe tbody tr th:only-of-type {\n",
              "        vertical-align: middle;\n",
              "    }\n",
              "\n",
              "    .dataframe tbody tr th {\n",
              "        vertical-align: top;\n",
              "    }\n",
              "\n",
              "    .dataframe thead th {\n",
              "        text-align: right;\n",
              "    }\n",
              "</style>\n",
              "<table border=\"1\" class=\"dataframe\">\n",
              "  <thead>\n",
              "    <tr style=\"text-align: right;\">\n",
              "      <th></th>\n",
              "      <th>location</th>\n",
              "      <th>new_deaths_smoothed</th>\n",
              "    </tr>\n",
              "  </thead>\n",
              "  <tbody>\n",
              "    <tr>\n",
              "      <th>153093</th>\n",
              "      <td>United States</td>\n",
              "      <td>2412.429</td>\n",
              "    </tr>\n",
              "    <tr>\n",
              "      <th>68279</th>\n",
              "      <td>India</td>\n",
              "      <td>1076.714</td>\n",
              "    </tr>\n",
              "    <tr>\n",
              "      <th>21358</th>\n",
              "      <td>Brazil</td>\n",
              "      <td>874.286</td>\n",
              "    </tr>\n",
              "    <tr>\n",
              "      <th>120656</th>\n",
              "      <td>Russia</td>\n",
              "      <td>660.429</td>\n",
              "    </tr>\n",
              "    <tr>\n",
              "      <th>95751</th>\n",
              "      <td>Mexico</td>\n",
              "      <td>529.571</td>\n",
              "    </tr>\n",
              "  </tbody>\n",
              "</table>\n",
              "</div>\n",
              "      <button class=\"colab-df-convert\" onclick=\"convertToInteractive('df-db15d43b-2d3e-4979-b0aa-4f21852a16e9')\"\n",
              "              title=\"Convert this dataframe to an interactive table.\"\n",
              "              style=\"display:none;\">\n",
              "        \n",
              "  <svg xmlns=\"http://www.w3.org/2000/svg\" height=\"24px\"viewBox=\"0 0 24 24\"\n",
              "       width=\"24px\">\n",
              "    <path d=\"M0 0h24v24H0V0z\" fill=\"none\"/>\n",
              "    <path d=\"M18.56 5.44l.94 2.06.94-2.06 2.06-.94-2.06-.94-.94-2.06-.94 2.06-2.06.94zm-11 1L8.5 8.5l.94-2.06 2.06-.94-2.06-.94L8.5 2.5l-.94 2.06-2.06.94zm10 10l.94 2.06.94-2.06 2.06-.94-2.06-.94-.94-2.06-.94 2.06-2.06.94z\"/><path d=\"M17.41 7.96l-1.37-1.37c-.4-.4-.92-.59-1.43-.59-.52 0-1.04.2-1.43.59L10.3 9.45l-7.72 7.72c-.78.78-.78 2.05 0 2.83L4 21.41c.39.39.9.59 1.41.59.51 0 1.02-.2 1.41-.59l7.78-7.78 2.81-2.81c.8-.78.8-2.07 0-2.86zM5.41 20L4 18.59l7.72-7.72 1.47 1.35L5.41 20z\"/>\n",
              "  </svg>\n",
              "      </button>\n",
              "      \n",
              "  <style>\n",
              "    .colab-df-container {\n",
              "      display:flex;\n",
              "      flex-wrap:wrap;\n",
              "      gap: 12px;\n",
              "    }\n",
              "\n",
              "    .colab-df-convert {\n",
              "      background-color: #E8F0FE;\n",
              "      border: none;\n",
              "      border-radius: 50%;\n",
              "      cursor: pointer;\n",
              "      display: none;\n",
              "      fill: #1967D2;\n",
              "      height: 32px;\n",
              "      padding: 0 0 0 0;\n",
              "      width: 32px;\n",
              "    }\n",
              "\n",
              "    .colab-df-convert:hover {\n",
              "      background-color: #E2EBFA;\n",
              "      box-shadow: 0px 1px 2px rgba(60, 64, 67, 0.3), 0px 1px 3px 1px rgba(60, 64, 67, 0.15);\n",
              "      fill: #174EA6;\n",
              "    }\n",
              "\n",
              "    [theme=dark] .colab-df-convert {\n",
              "      background-color: #3B4455;\n",
              "      fill: #D2E3FC;\n",
              "    }\n",
              "\n",
              "    [theme=dark] .colab-df-convert:hover {\n",
              "      background-color: #434B5C;\n",
              "      box-shadow: 0px 1px 3px 1px rgba(0, 0, 0, 0.15);\n",
              "      filter: drop-shadow(0px 1px 2px rgba(0, 0, 0, 0.3));\n",
              "      fill: #FFFFFF;\n",
              "    }\n",
              "  </style>\n",
              "\n",
              "      <script>\n",
              "        const buttonEl =\n",
              "          document.querySelector('#df-db15d43b-2d3e-4979-b0aa-4f21852a16e9 button.colab-df-convert');\n",
              "        buttonEl.style.display =\n",
              "          google.colab.kernel.accessAllowed ? 'block' : 'none';\n",
              "\n",
              "        async function convertToInteractive(key) {\n",
              "          const element = document.querySelector('#df-db15d43b-2d3e-4979-b0aa-4f21852a16e9');\n",
              "          const dataTable =\n",
              "            await google.colab.kernel.invokeFunction('convertToInteractive',\n",
              "                                                     [key], {});\n",
              "          if (!dataTable) return;\n",
              "\n",
              "          const docLinkHtml = 'Like what you see? Visit the ' +\n",
              "            '<a target=\"_blank\" href=https://colab.research.google.com/notebooks/data_table.ipynb>data table notebook</a>'\n",
              "            + ' to learn more about interactive tables.';\n",
              "          element.innerHTML = '';\n",
              "          dataTable['output_type'] = 'display_data';\n",
              "          await google.colab.output.renderOutput(dataTable, element);\n",
              "          const docLink = document.createElement('div');\n",
              "          docLink.innerHTML = docLinkHtml;\n",
              "          element.appendChild(docLink);\n",
              "        }\n",
              "      </script>\n",
              "    </div>\n",
              "  </div>\n",
              "  "
            ],
            "text/plain": [
              "             location  new_deaths_smoothed\n",
              "153093  United States             2412.429\n",
              "68279           India             1076.714\n",
              "21358          Brazil              874.286\n",
              "120656         Russia              660.429\n",
              "95751          Mexico              529.571"
            ]
          },
          "metadata": {},
          "execution_count": 19
        }
      ]
    },
    {
      "cell_type": "markdown",
      "source": [
        "Esta medida significa a média do número de mortes nos últimos 7 dias. "
      ],
      "metadata": {
        "id": "W3v4mdnnab4w"
      }
    },
    {
      "cell_type": "markdown",
      "source": [
        "Com esses dados é possível notar que mesmo após mais de 2 anos de pandemia **a média de mortes por semana nos Estados Unidos ainda permanece altíssima** em relação aos demais (aproximadamente **2412 mortes na última semana** ). Brasil por sua vez, segue em terceiro lugar com uma média móvel de **874 mortes.**"
      ],
      "metadata": {
        "id": "-1fjGmALanVF"
      }
    },
    {
      "cell_type": "markdown",
      "source": [
        "## **Relação entre Mortes e Casos**"
      ],
      "metadata": {
        "id": "T3fqjQbzXbsk"
      }
    },
    {
      "cell_type": "markdown",
      "source": [
        "Essa seção é apenas uma curiosidade para mostrar quantos % dos casos de COVID-19 terminaram em mortes até a respectiva data."
      ],
      "metadata": {
        "id": "ZVkb_xiGbXy9"
      }
    },
    {
      "cell_type": "code",
      "source": [
        "print(f'{(5777952.0 / 403258184.0 * 100):2f}%')"
      ],
      "metadata": {
        "colab": {
          "base_uri": "https://localhost:8080/"
        },
        "id": "ZWbmwCwabuB5",
        "outputId": "82e96d78-acee-4a56-f0be-0d7959a8da93"
      },
      "execution_count": 20,
      "outputs": [
        {
          "output_type": "stream",
          "name": "stdout",
          "text": [
            "1.432817%\n"
          ]
        }
      ]
    },
    {
      "cell_type": "markdown",
      "source": [
        "**Apenas 1,43% dos casos terminaram em mortes por COVID-19.**"
      ],
      "metadata": {
        "id": "gxDIl0N3dFBU"
      }
    },
    {
      "cell_type": "markdown",
      "source": [
        "## **Vacinação**"
      ],
      "metadata": {
        "id": "nSA4mJTQ6rGT"
      }
    },
    {
      "cell_type": "markdown",
      "source": [
        "### **Visão Geral**\n",
        "\n"
      ],
      "metadata": {
        "id": "Fd2QAPer643A"
      }
    },
    {
      "cell_type": "markdown",
      "source": [
        "Nessa seção irei abordar uma análise da vacinação pelo mundo. Aqui você irá encontrar dados em relação ao número total de vacinas aplicadas, o ranking dos países que mais aplicaram a primeira dose e os que mais tem pessoas completamentes vacinadas. "
      ],
      "metadata": {
        "id": "obVlOMPPGZgg"
      }
    },
    {
      "cell_type": "code",
      "source": [
        "df.loc[df.date == '2022-02-09',['location','total_vaccinations','population','people_fully_vaccinated']].sort_values('total_vaccinations', ascending=False)[:1]"
      ],
      "metadata": {
        "colab": {
          "base_uri": "https://localhost:8080/",
          "height": 81
        },
        "id": "6LT1mEiMAYaC",
        "outputId": "d2afd262-264b-4798-852c-17337aef6f5a"
      },
      "execution_count": 21,
      "outputs": [
        {
          "output_type": "execute_result",
          "data": {
            "text/html": [
              "\n",
              "  <div id=\"df-a910303a-3930-445a-a870-eda2369829e7\">\n",
              "    <div class=\"colab-df-container\">\n",
              "      <div>\n",
              "<style scoped>\n",
              "    .dataframe tbody tr th:only-of-type {\n",
              "        vertical-align: middle;\n",
              "    }\n",
              "\n",
              "    .dataframe tbody tr th {\n",
              "        vertical-align: top;\n",
              "    }\n",
              "\n",
              "    .dataframe thead th {\n",
              "        text-align: right;\n",
              "    }\n",
              "</style>\n",
              "<table border=\"1\" class=\"dataframe\">\n",
              "  <thead>\n",
              "    <tr style=\"text-align: right;\">\n",
              "      <th></th>\n",
              "      <th>location</th>\n",
              "      <th>total_vaccinations</th>\n",
              "      <th>population</th>\n",
              "      <th>people_fully_vaccinated</th>\n",
              "    </tr>\n",
              "  </thead>\n",
              "  <tbody>\n",
              "    <tr>\n",
              "      <th>159096</th>\n",
              "      <td>World</td>\n",
              "      <td>1.024708e+10</td>\n",
              "      <td>7.874966e+09</td>\n",
              "      <td>4.228048e+09</td>\n",
              "    </tr>\n",
              "  </tbody>\n",
              "</table>\n",
              "</div>\n",
              "      <button class=\"colab-df-convert\" onclick=\"convertToInteractive('df-a910303a-3930-445a-a870-eda2369829e7')\"\n",
              "              title=\"Convert this dataframe to an interactive table.\"\n",
              "              style=\"display:none;\">\n",
              "        \n",
              "  <svg xmlns=\"http://www.w3.org/2000/svg\" height=\"24px\"viewBox=\"0 0 24 24\"\n",
              "       width=\"24px\">\n",
              "    <path d=\"M0 0h24v24H0V0z\" fill=\"none\"/>\n",
              "    <path d=\"M18.56 5.44l.94 2.06.94-2.06 2.06-.94-2.06-.94-.94-2.06-.94 2.06-2.06.94zm-11 1L8.5 8.5l.94-2.06 2.06-.94-2.06-.94L8.5 2.5l-.94 2.06-2.06.94zm10 10l.94 2.06.94-2.06 2.06-.94-2.06-.94-.94-2.06-.94 2.06-2.06.94z\"/><path d=\"M17.41 7.96l-1.37-1.37c-.4-.4-.92-.59-1.43-.59-.52 0-1.04.2-1.43.59L10.3 9.45l-7.72 7.72c-.78.78-.78 2.05 0 2.83L4 21.41c.39.39.9.59 1.41.59.51 0 1.02-.2 1.41-.59l7.78-7.78 2.81-2.81c.8-.78.8-2.07 0-2.86zM5.41 20L4 18.59l7.72-7.72 1.47 1.35L5.41 20z\"/>\n",
              "  </svg>\n",
              "      </button>\n",
              "      \n",
              "  <style>\n",
              "    .colab-df-container {\n",
              "      display:flex;\n",
              "      flex-wrap:wrap;\n",
              "      gap: 12px;\n",
              "    }\n",
              "\n",
              "    .colab-df-convert {\n",
              "      background-color: #E8F0FE;\n",
              "      border: none;\n",
              "      border-radius: 50%;\n",
              "      cursor: pointer;\n",
              "      display: none;\n",
              "      fill: #1967D2;\n",
              "      height: 32px;\n",
              "      padding: 0 0 0 0;\n",
              "      width: 32px;\n",
              "    }\n",
              "\n",
              "    .colab-df-convert:hover {\n",
              "      background-color: #E2EBFA;\n",
              "      box-shadow: 0px 1px 2px rgba(60, 64, 67, 0.3), 0px 1px 3px 1px rgba(60, 64, 67, 0.15);\n",
              "      fill: #174EA6;\n",
              "    }\n",
              "\n",
              "    [theme=dark] .colab-df-convert {\n",
              "      background-color: #3B4455;\n",
              "      fill: #D2E3FC;\n",
              "    }\n",
              "\n",
              "    [theme=dark] .colab-df-convert:hover {\n",
              "      background-color: #434B5C;\n",
              "      box-shadow: 0px 1px 3px 1px rgba(0, 0, 0, 0.15);\n",
              "      filter: drop-shadow(0px 1px 2px rgba(0, 0, 0, 0.3));\n",
              "      fill: #FFFFFF;\n",
              "    }\n",
              "  </style>\n",
              "\n",
              "      <script>\n",
              "        const buttonEl =\n",
              "          document.querySelector('#df-a910303a-3930-445a-a870-eda2369829e7 button.colab-df-convert');\n",
              "        buttonEl.style.display =\n",
              "          google.colab.kernel.accessAllowed ? 'block' : 'none';\n",
              "\n",
              "        async function convertToInteractive(key) {\n",
              "          const element = document.querySelector('#df-a910303a-3930-445a-a870-eda2369829e7');\n",
              "          const dataTable =\n",
              "            await google.colab.kernel.invokeFunction('convertToInteractive',\n",
              "                                                     [key], {});\n",
              "          if (!dataTable) return;\n",
              "\n",
              "          const docLinkHtml = 'Like what you see? Visit the ' +\n",
              "            '<a target=\"_blank\" href=https://colab.research.google.com/notebooks/data_table.ipynb>data table notebook</a>'\n",
              "            + ' to learn more about interactive tables.';\n",
              "          element.innerHTML = '';\n",
              "          dataTable['output_type'] = 'display_data';\n",
              "          await google.colab.output.renderOutput(dataTable, element);\n",
              "          const docLink = document.createElement('div');\n",
              "          docLink.innerHTML = docLinkHtml;\n",
              "          element.appendChild(docLink);\n",
              "        }\n",
              "      </script>\n",
              "    </div>\n",
              "  </div>\n",
              "  "
            ],
            "text/plain": [
              "       location  total_vaccinations    population  people_fully_vaccinated\n",
              "159096    World        1.024708e+10  7.874966e+09             4.228048e+09"
            ]
          },
          "metadata": {},
          "execution_count": 21
        }
      ]
    },
    {
      "cell_type": "code",
      "source": [
        "print('Ranking Vacinação - Completamente Vacinados')\t\n",
        "print('Mundo - {:.2f}%'.format(4227825552.0 /7874965730.0* 100))\t"
      ],
      "metadata": {
        "colab": {
          "base_uri": "https://localhost:8080/"
        },
        "id": "ulQn4TznCP0o",
        "outputId": "fc34f4c5-60fb-464f-dfd4-c3b4c9d957eb"
      },
      "execution_count": 22,
      "outputs": [
        {
          "output_type": "stream",
          "name": "stdout",
          "text": [
            "Ranking Vacinação - Completamente Vacinados\n",
            "Mundo - 53.69%\n"
          ]
        }
      ]
    },
    {
      "cell_type": "markdown",
      "source": [
        "No mundo foram aplicadas ao todo, incluindo primeira, segunda e terceira dose, aproximadamente **10 Bilhões de vacinas** contra a COVID-19."
      ],
      "metadata": {
        "id": "-zpNWRmRF9KR"
      }
    },
    {
      "cell_type": "markdown",
      "source": [
        "### **Primeira Dose**"
      ],
      "metadata": {
        "id": "jZfBBanl6txq"
      }
    },
    {
      "cell_type": "code",
      "source": [
        "dfp.loc[dfp.date == '2022-02-09',['location','people_vaccinated','population']].sort_values('people_vaccinated', ascending=False)[1:6]"
      ],
      "metadata": {
        "colab": {
          "base_uri": "https://localhost:8080/",
          "height": 206
        },
        "id": "ZBdYiVJmqYP5",
        "outputId": "40545698-c56d-4ce3-a5e3-77a40f102367"
      },
      "execution_count": 23,
      "outputs": [
        {
          "output_type": "execute_result",
          "data": {
            "text/html": [
              "\n",
              "  <div id=\"df-054079be-39ab-4db2-8f23-1a27d89c0d12\">\n",
              "    <div class=\"colab-df-container\">\n",
              "      <div>\n",
              "<style scoped>\n",
              "    .dataframe tbody tr th:only-of-type {\n",
              "        vertical-align: middle;\n",
              "    }\n",
              "\n",
              "    .dataframe tbody tr th {\n",
              "        vertical-align: top;\n",
              "    }\n",
              "\n",
              "    .dataframe thead th {\n",
              "        text-align: right;\n",
              "    }\n",
              "</style>\n",
              "<table border=\"1\" class=\"dataframe\">\n",
              "  <thead>\n",
              "    <tr style=\"text-align: right;\">\n",
              "      <th></th>\n",
              "      <th>location</th>\n",
              "      <th>people_vaccinated</th>\n",
              "      <th>population</th>\n",
              "    </tr>\n",
              "  </thead>\n",
              "  <tbody>\n",
              "    <tr>\n",
              "      <th>68279</th>\n",
              "      <td>India</td>\n",
              "      <td>954257234.0</td>\n",
              "      <td>1.393409e+09</td>\n",
              "    </tr>\n",
              "    <tr>\n",
              "      <th>153093</th>\n",
              "      <td>United States</td>\n",
              "      <td>251744689.0</td>\n",
              "      <td>3.329151e+08</td>\n",
              "    </tr>\n",
              "    <tr>\n",
              "      <th>68991</th>\n",
              "      <td>Indonesia</td>\n",
              "      <td>187290007.0</td>\n",
              "      <td>2.763618e+08</td>\n",
              "    </tr>\n",
              "    <tr>\n",
              "      <th>21358</th>\n",
              "      <td>Brazil</td>\n",
              "      <td>172995877.0</td>\n",
              "      <td>2.139934e+08</td>\n",
              "    </tr>\n",
              "    <tr>\n",
              "      <th>112468</th>\n",
              "      <td>Pakistan</td>\n",
              "      <td>113907970.0</td>\n",
              "      <td>2.251999e+08</td>\n",
              "    </tr>\n",
              "  </tbody>\n",
              "</table>\n",
              "</div>\n",
              "      <button class=\"colab-df-convert\" onclick=\"convertToInteractive('df-054079be-39ab-4db2-8f23-1a27d89c0d12')\"\n",
              "              title=\"Convert this dataframe to an interactive table.\"\n",
              "              style=\"display:none;\">\n",
              "        \n",
              "  <svg xmlns=\"http://www.w3.org/2000/svg\" height=\"24px\"viewBox=\"0 0 24 24\"\n",
              "       width=\"24px\">\n",
              "    <path d=\"M0 0h24v24H0V0z\" fill=\"none\"/>\n",
              "    <path d=\"M18.56 5.44l.94 2.06.94-2.06 2.06-.94-2.06-.94-.94-2.06-.94 2.06-2.06.94zm-11 1L8.5 8.5l.94-2.06 2.06-.94-2.06-.94L8.5 2.5l-.94 2.06-2.06.94zm10 10l.94 2.06.94-2.06 2.06-.94-2.06-.94-.94-2.06-.94 2.06-2.06.94z\"/><path d=\"M17.41 7.96l-1.37-1.37c-.4-.4-.92-.59-1.43-.59-.52 0-1.04.2-1.43.59L10.3 9.45l-7.72 7.72c-.78.78-.78 2.05 0 2.83L4 21.41c.39.39.9.59 1.41.59.51 0 1.02-.2 1.41-.59l7.78-7.78 2.81-2.81c.8-.78.8-2.07 0-2.86zM5.41 20L4 18.59l7.72-7.72 1.47 1.35L5.41 20z\"/>\n",
              "  </svg>\n",
              "      </button>\n",
              "      \n",
              "  <style>\n",
              "    .colab-df-container {\n",
              "      display:flex;\n",
              "      flex-wrap:wrap;\n",
              "      gap: 12px;\n",
              "    }\n",
              "\n",
              "    .colab-df-convert {\n",
              "      background-color: #E8F0FE;\n",
              "      border: none;\n",
              "      border-radius: 50%;\n",
              "      cursor: pointer;\n",
              "      display: none;\n",
              "      fill: #1967D2;\n",
              "      height: 32px;\n",
              "      padding: 0 0 0 0;\n",
              "      width: 32px;\n",
              "    }\n",
              "\n",
              "    .colab-df-convert:hover {\n",
              "      background-color: #E2EBFA;\n",
              "      box-shadow: 0px 1px 2px rgba(60, 64, 67, 0.3), 0px 1px 3px 1px rgba(60, 64, 67, 0.15);\n",
              "      fill: #174EA6;\n",
              "    }\n",
              "\n",
              "    [theme=dark] .colab-df-convert {\n",
              "      background-color: #3B4455;\n",
              "      fill: #D2E3FC;\n",
              "    }\n",
              "\n",
              "    [theme=dark] .colab-df-convert:hover {\n",
              "      background-color: #434B5C;\n",
              "      box-shadow: 0px 1px 3px 1px rgba(0, 0, 0, 0.15);\n",
              "      filter: drop-shadow(0px 1px 2px rgba(0, 0, 0, 0.3));\n",
              "      fill: #FFFFFF;\n",
              "    }\n",
              "  </style>\n",
              "\n",
              "      <script>\n",
              "        const buttonEl =\n",
              "          document.querySelector('#df-054079be-39ab-4db2-8f23-1a27d89c0d12 button.colab-df-convert');\n",
              "        buttonEl.style.display =\n",
              "          google.colab.kernel.accessAllowed ? 'block' : 'none';\n",
              "\n",
              "        async function convertToInteractive(key) {\n",
              "          const element = document.querySelector('#df-054079be-39ab-4db2-8f23-1a27d89c0d12');\n",
              "          const dataTable =\n",
              "            await google.colab.kernel.invokeFunction('convertToInteractive',\n",
              "                                                     [key], {});\n",
              "          if (!dataTable) return;\n",
              "\n",
              "          const docLinkHtml = 'Like what you see? Visit the ' +\n",
              "            '<a target=\"_blank\" href=https://colab.research.google.com/notebooks/data_table.ipynb>data table notebook</a>'\n",
              "            + ' to learn more about interactive tables.';\n",
              "          element.innerHTML = '';\n",
              "          dataTable['output_type'] = 'display_data';\n",
              "          await google.colab.output.renderOutput(dataTable, element);\n",
              "          const docLink = document.createElement('div');\n",
              "          docLink.innerHTML = docLinkHtml;\n",
              "          element.appendChild(docLink);\n",
              "        }\n",
              "      </script>\n",
              "    </div>\n",
              "  </div>\n",
              "  "
            ],
            "text/plain": [
              "             location  people_vaccinated    population\n",
              "68279           India        954257234.0  1.393409e+09\n",
              "153093  United States        251744689.0  3.329151e+08\n",
              "68991       Indonesia        187290007.0  2.763618e+08\n",
              "21358          Brazil        172995877.0  2.139934e+08\n",
              "112468       Pakistan        113907970.0  2.251999e+08"
            ]
          },
          "metadata": {},
          "execution_count": 23
        }
      ]
    },
    {
      "cell_type": "markdown",
      "source": [
        "Ranking esse que é por número de vacinação, não por porcentagem da população vacinada. O dado abaixo é apenas uma curiosidade, para informar a porcentagem da população dos países que mais aplicaram vacinas está vacinada com a primeira dose."
      ],
      "metadata": {
        "id": "l0lYuaagY0Pe"
      }
    },
    {
      "cell_type": "code",
      "source": [
        "print('Ranking Vacinação - Primeira Dose')\t\n",
        "print('Brasil - {:.2f}%'.format(172995877.0 /213993441.0* 100))\t\n",
        "print('Estados Unidos - {:.2f}%'.format(251467303.0 /332915074.0* 100))\t\n",
        "print('India - {:.2f}%'.format(954257234.0\t /1393409033.0* 100))\t\n",
        "print('Indonesia - {:.2f}%'.format(187290007.0\t /276361788.0* 100))\t\n",
        "print('Pakistan - {:.2f}%'.format(113907970.0\t /225199929.0* 100))\t\n"
      ],
      "metadata": {
        "colab": {
          "base_uri": "https://localhost:8080/"
        },
        "id": "Rc4UPmNIQw8e",
        "outputId": "3eb5dcdc-8208-43bd-de2e-3cd467e91e67"
      },
      "execution_count": 24,
      "outputs": [
        {
          "output_type": "stream",
          "name": "stdout",
          "text": [
            "Ranking Vacinação - Primeira Dose\n",
            "Brasil - 80.84%\n",
            "Estados Unidos - 75.53%\n",
            "India - 68.48%\n",
            "Indonesia - 67.77%\n",
            "Pakistan - 50.58%\n"
          ]
        }
      ]
    },
    {
      "cell_type": "markdown",
      "source": [
        "### **Completamente Vacinados**\n",
        "\n"
      ],
      "metadata": {
        "id": "EnQOH67O6zyV"
      }
    },
    {
      "cell_type": "code",
      "source": [
        "dfp.loc[dfp.date == '2022-02-09',['location','people_fully_vaccinated','population']].sort_values('people_fully_vaccinated', ascending=False)[1:6]"
      ],
      "metadata": {
        "colab": {
          "base_uri": "https://localhost:8080/",
          "height": 206
        },
        "id": "EEg7BeHTrFmR",
        "outputId": "98f1b228-e0be-4389-800d-aa27ef7ff53e"
      },
      "execution_count": 25,
      "outputs": [
        {
          "output_type": "execute_result",
          "data": {
            "text/html": [
              "\n",
              "  <div id=\"df-f2b8ef07-4827-4fdd-abd4-9a97360c8adc\">\n",
              "    <div class=\"colab-df-container\">\n",
              "      <div>\n",
              "<style scoped>\n",
              "    .dataframe tbody tr th:only-of-type {\n",
              "        vertical-align: middle;\n",
              "    }\n",
              "\n",
              "    .dataframe tbody tr th {\n",
              "        vertical-align: top;\n",
              "    }\n",
              "\n",
              "    .dataframe thead th {\n",
              "        text-align: right;\n",
              "    }\n",
              "</style>\n",
              "<table border=\"1\" class=\"dataframe\">\n",
              "  <thead>\n",
              "    <tr style=\"text-align: right;\">\n",
              "      <th></th>\n",
              "      <th>location</th>\n",
              "      <th>people_fully_vaccinated</th>\n",
              "      <th>population</th>\n",
              "    </tr>\n",
              "  </thead>\n",
              "  <tbody>\n",
              "    <tr>\n",
              "      <th>68279</th>\n",
              "      <td>India</td>\n",
              "      <td>740575198.0</td>\n",
              "      <td>1.393409e+09</td>\n",
              "    </tr>\n",
              "    <tr>\n",
              "      <th>153093</th>\n",
              "      <td>United States</td>\n",
              "      <td>212770937.0</td>\n",
              "      <td>3.329151e+08</td>\n",
              "    </tr>\n",
              "    <tr>\n",
              "      <th>21358</th>\n",
              "      <td>Brazil</td>\n",
              "      <td>151496825.0</td>\n",
              "      <td>2.139934e+08</td>\n",
              "    </tr>\n",
              "    <tr>\n",
              "      <th>68991</th>\n",
              "      <td>Indonesia</td>\n",
              "      <td>132667991.0</td>\n",
              "      <td>2.763618e+08</td>\n",
              "    </tr>\n",
              "    <tr>\n",
              "      <th>75499</th>\n",
              "      <td>Japan</td>\n",
              "      <td>99951484.0</td>\n",
              "      <td>1.260508e+08</td>\n",
              "    </tr>\n",
              "  </tbody>\n",
              "</table>\n",
              "</div>\n",
              "      <button class=\"colab-df-convert\" onclick=\"convertToInteractive('df-f2b8ef07-4827-4fdd-abd4-9a97360c8adc')\"\n",
              "              title=\"Convert this dataframe to an interactive table.\"\n",
              "              style=\"display:none;\">\n",
              "        \n",
              "  <svg xmlns=\"http://www.w3.org/2000/svg\" height=\"24px\"viewBox=\"0 0 24 24\"\n",
              "       width=\"24px\">\n",
              "    <path d=\"M0 0h24v24H0V0z\" fill=\"none\"/>\n",
              "    <path d=\"M18.56 5.44l.94 2.06.94-2.06 2.06-.94-2.06-.94-.94-2.06-.94 2.06-2.06.94zm-11 1L8.5 8.5l.94-2.06 2.06-.94-2.06-.94L8.5 2.5l-.94 2.06-2.06.94zm10 10l.94 2.06.94-2.06 2.06-.94-2.06-.94-.94-2.06-.94 2.06-2.06.94z\"/><path d=\"M17.41 7.96l-1.37-1.37c-.4-.4-.92-.59-1.43-.59-.52 0-1.04.2-1.43.59L10.3 9.45l-7.72 7.72c-.78.78-.78 2.05 0 2.83L4 21.41c.39.39.9.59 1.41.59.51 0 1.02-.2 1.41-.59l7.78-7.78 2.81-2.81c.8-.78.8-2.07 0-2.86zM5.41 20L4 18.59l7.72-7.72 1.47 1.35L5.41 20z\"/>\n",
              "  </svg>\n",
              "      </button>\n",
              "      \n",
              "  <style>\n",
              "    .colab-df-container {\n",
              "      display:flex;\n",
              "      flex-wrap:wrap;\n",
              "      gap: 12px;\n",
              "    }\n",
              "\n",
              "    .colab-df-convert {\n",
              "      background-color: #E8F0FE;\n",
              "      border: none;\n",
              "      border-radius: 50%;\n",
              "      cursor: pointer;\n",
              "      display: none;\n",
              "      fill: #1967D2;\n",
              "      height: 32px;\n",
              "      padding: 0 0 0 0;\n",
              "      width: 32px;\n",
              "    }\n",
              "\n",
              "    .colab-df-convert:hover {\n",
              "      background-color: #E2EBFA;\n",
              "      box-shadow: 0px 1px 2px rgba(60, 64, 67, 0.3), 0px 1px 3px 1px rgba(60, 64, 67, 0.15);\n",
              "      fill: #174EA6;\n",
              "    }\n",
              "\n",
              "    [theme=dark] .colab-df-convert {\n",
              "      background-color: #3B4455;\n",
              "      fill: #D2E3FC;\n",
              "    }\n",
              "\n",
              "    [theme=dark] .colab-df-convert:hover {\n",
              "      background-color: #434B5C;\n",
              "      box-shadow: 0px 1px 3px 1px rgba(0, 0, 0, 0.15);\n",
              "      filter: drop-shadow(0px 1px 2px rgba(0, 0, 0, 0.3));\n",
              "      fill: #FFFFFF;\n",
              "    }\n",
              "  </style>\n",
              "\n",
              "      <script>\n",
              "        const buttonEl =\n",
              "          document.querySelector('#df-f2b8ef07-4827-4fdd-abd4-9a97360c8adc button.colab-df-convert');\n",
              "        buttonEl.style.display =\n",
              "          google.colab.kernel.accessAllowed ? 'block' : 'none';\n",
              "\n",
              "        async function convertToInteractive(key) {\n",
              "          const element = document.querySelector('#df-f2b8ef07-4827-4fdd-abd4-9a97360c8adc');\n",
              "          const dataTable =\n",
              "            await google.colab.kernel.invokeFunction('convertToInteractive',\n",
              "                                                     [key], {});\n",
              "          if (!dataTable) return;\n",
              "\n",
              "          const docLinkHtml = 'Like what you see? Visit the ' +\n",
              "            '<a target=\"_blank\" href=https://colab.research.google.com/notebooks/data_table.ipynb>data table notebook</a>'\n",
              "            + ' to learn more about interactive tables.';\n",
              "          element.innerHTML = '';\n",
              "          dataTable['output_type'] = 'display_data';\n",
              "          await google.colab.output.renderOutput(dataTable, element);\n",
              "          const docLink = document.createElement('div');\n",
              "          docLink.innerHTML = docLinkHtml;\n",
              "          element.appendChild(docLink);\n",
              "        }\n",
              "      </script>\n",
              "    </div>\n",
              "  </div>\n",
              "  "
            ],
            "text/plain": [
              "             location  people_fully_vaccinated    population\n",
              "68279           India              740575198.0  1.393409e+09\n",
              "153093  United States              212770937.0  3.329151e+08\n",
              "21358          Brazil              151496825.0  2.139934e+08\n",
              "68991       Indonesia              132667991.0  2.763618e+08\n",
              "75499           Japan               99951484.0  1.260508e+08"
            ]
          },
          "metadata": {},
          "execution_count": 25
        }
      ]
    },
    {
      "cell_type": "code",
      "source": [
        "print('Ranking Vacinação - Completamente Vacinados')\t\n",
        "print('Japão - {:.2f}%'.format(99837916.0 /126050796.0* 100))\t\n",
        "print('Brasil - {:.2f}%'.format(151496825.0 /213993441.0* 100))\t\n",
        "print('Estados Unidos - {:.2f}%'.format(212468219.0 /332915074.0* 100))\t\n",
        "print('India - {:.2f}%'.format(740575198.0 /1393409033.0* 100))\t\n",
        "print('Indonesia - {:.2f}%'.format(132667991.0 /276361788.0* 100))\t"
      ],
      "metadata": {
        "colab": {
          "base_uri": "https://localhost:8080/"
        },
        "id": "EQWnm6niS_ld",
        "outputId": "7b9de52c-978f-4ef2-87cb-53e663ccd1d6"
      },
      "execution_count": 26,
      "outputs": [
        {
          "output_type": "stream",
          "name": "stdout",
          "text": [
            "Ranking Vacinação - Completamente Vacinados\n",
            "Japão - 79.20%\n",
            "Brasil - 70.80%\n",
            "Estados Unidos - 63.82%\n",
            "India - 53.15%\n",
            "Indonesia - 48.01%\n"
          ]
        }
      ]
    },
    {
      "cell_type": "markdown",
      "metadata": {
        "id": "SViA5VZ7DYLA"
      },
      "source": [
        "## **Análise Exploratória - Brasil**\n",
        "\n",
        "Nessa etapa irei analisar dados da COVID-19 em relação ao Brasil. Para isso, irei exibir estatísticas como o 1º Caso no país, a 1ª Morte e dados sobre a vacinação."
      ]
    },
    {
      "cell_type": "code",
      "source": [
        "df_br = df.loc[df.location == \"Brazil\"].copy()"
      ],
      "metadata": {
        "id": "c9_pys7KsKzi"
      },
      "execution_count": 50,
      "outputs": []
    },
    {
      "cell_type": "markdown",
      "source": [
        "### **1º Caso no Brasil**"
      ],
      "metadata": {
        "id": "om4mQ17jsRIX"
      }
    },
    {
      "cell_type": "code",
      "source": [
        "df_br.loc[df_br.new_cases == 1][:1]"
      ],
      "metadata": {
        "colab": {
          "base_uri": "https://localhost:8080/",
          "height": 162
        },
        "id": "jpzDqE6osbal",
        "outputId": "fcf2a6e8-eab9-4524-8ca1-4ec700459199"
      },
      "execution_count": 28,
      "outputs": [
        {
          "output_type": "execute_result",
          "data": {
            "text/html": [
              "\n",
              "  <div id=\"df-68a47826-bca4-4fb5-86d1-5ee1a15320d1\">\n",
              "    <div class=\"colab-df-container\">\n",
              "      <div>\n",
              "<style scoped>\n",
              "    .dataframe tbody tr th:only-of-type {\n",
              "        vertical-align: middle;\n",
              "    }\n",
              "\n",
              "    .dataframe tbody tr th {\n",
              "        vertical-align: top;\n",
              "    }\n",
              "\n",
              "    .dataframe thead th {\n",
              "        text-align: right;\n",
              "    }\n",
              "</style>\n",
              "<table border=\"1\" class=\"dataframe\">\n",
              "  <thead>\n",
              "    <tr style=\"text-align: right;\">\n",
              "      <th></th>\n",
              "      <th>iso_code</th>\n",
              "      <th>continent</th>\n",
              "      <th>location</th>\n",
              "      <th>date</th>\n",
              "      <th>total_cases</th>\n",
              "      <th>new_cases</th>\n",
              "      <th>new_cases_smoothed</th>\n",
              "      <th>total_deaths</th>\n",
              "      <th>new_deaths</th>\n",
              "      <th>new_deaths_smoothed</th>\n",
              "      <th>total_cases_per_million</th>\n",
              "      <th>new_cases_per_million</th>\n",
              "      <th>new_cases_smoothed_per_million</th>\n",
              "      <th>total_deaths_per_million</th>\n",
              "      <th>new_deaths_per_million</th>\n",
              "      <th>new_deaths_smoothed_per_million</th>\n",
              "      <th>reproduction_rate</th>\n",
              "      <th>new_tests</th>\n",
              "      <th>total_tests</th>\n",
              "      <th>total_tests_per_thousand</th>\n",
              "      <th>new_tests_per_thousand</th>\n",
              "      <th>new_tests_smoothed</th>\n",
              "      <th>new_tests_smoothed_per_thousand</th>\n",
              "      <th>positive_rate</th>\n",
              "      <th>tests_per_case</th>\n",
              "      <th>tests_units</th>\n",
              "      <th>total_vaccinations</th>\n",
              "      <th>people_vaccinated</th>\n",
              "      <th>people_fully_vaccinated</th>\n",
              "      <th>new_vaccinations</th>\n",
              "      <th>new_vaccinations_smoothed</th>\n",
              "      <th>total_vaccinations_per_hundred</th>\n",
              "      <th>people_vaccinated_per_hundred</th>\n",
              "      <th>people_fully_vaccinated_per_hundred</th>\n",
              "      <th>new_vaccinations_smoothed_per_million</th>\n",
              "      <th>new_people_vaccinated_smoothed</th>\n",
              "      <th>new_people_vaccinated_smoothed_per_hundred</th>\n",
              "      <th>stringency_index</th>\n",
              "      <th>population</th>\n",
              "      <th>population_density</th>\n",
              "      <th>median_age</th>\n",
              "      <th>aged_65_older</th>\n",
              "      <th>aged_70_older</th>\n",
              "      <th>gdp_per_capita</th>\n",
              "      <th>extreme_poverty</th>\n",
              "      <th>cardiovasc_death_rate</th>\n",
              "      <th>diabetes_prevalence</th>\n",
              "      <th>female_smokers</th>\n",
              "      <th>male_smokers</th>\n",
              "      <th>handwashing_facilities</th>\n",
              "      <th>hospital_beds_per_thousand</th>\n",
              "      <th>life_expectancy</th>\n",
              "      <th>human_development_index</th>\n",
              "    </tr>\n",
              "  </thead>\n",
              "  <tbody>\n",
              "    <tr>\n",
              "      <th>20644</th>\n",
              "      <td>BRA</td>\n",
              "      <td>South America</td>\n",
              "      <td>Brazil</td>\n",
              "      <td>2020-02-26</td>\n",
              "      <td>1.0</td>\n",
              "      <td>1.0</td>\n",
              "      <td>NaN</td>\n",
              "      <td>NaN</td>\n",
              "      <td>NaN</td>\n",
              "      <td>NaN</td>\n",
              "      <td>0.005</td>\n",
              "      <td>0.005</td>\n",
              "      <td>NaN</td>\n",
              "      <td>NaN</td>\n",
              "      <td>NaN</td>\n",
              "      <td>NaN</td>\n",
              "      <td>NaN</td>\n",
              "      <td>NaN</td>\n",
              "      <td>NaN</td>\n",
              "      <td>NaN</td>\n",
              "      <td>NaN</td>\n",
              "      <td>NaN</td>\n",
              "      <td>NaN</td>\n",
              "      <td>NaN</td>\n",
              "      <td>NaN</td>\n",
              "      <td>NaN</td>\n",
              "      <td>NaN</td>\n",
              "      <td>NaN</td>\n",
              "      <td>NaN</td>\n",
              "      <td>NaN</td>\n",
              "      <td>NaN</td>\n",
              "      <td>NaN</td>\n",
              "      <td>NaN</td>\n",
              "      <td>NaN</td>\n",
              "      <td>NaN</td>\n",
              "      <td>NaN</td>\n",
              "      <td>NaN</td>\n",
              "      <td>5.56</td>\n",
              "      <td>213993441.0</td>\n",
              "      <td>25.04</td>\n",
              "      <td>33.5</td>\n",
              "      <td>8.552</td>\n",
              "      <td>5.06</td>\n",
              "      <td>14103.452</td>\n",
              "      <td>3.4</td>\n",
              "      <td>177.961</td>\n",
              "      <td>8.11</td>\n",
              "      <td>10.1</td>\n",
              "      <td>17.9</td>\n",
              "      <td>NaN</td>\n",
              "      <td>2.2</td>\n",
              "      <td>75.88</td>\n",
              "      <td>0.765</td>\n",
              "    </tr>\n",
              "  </tbody>\n",
              "</table>\n",
              "</div>\n",
              "      <button class=\"colab-df-convert\" onclick=\"convertToInteractive('df-68a47826-bca4-4fb5-86d1-5ee1a15320d1')\"\n",
              "              title=\"Convert this dataframe to an interactive table.\"\n",
              "              style=\"display:none;\">\n",
              "        \n",
              "  <svg xmlns=\"http://www.w3.org/2000/svg\" height=\"24px\"viewBox=\"0 0 24 24\"\n",
              "       width=\"24px\">\n",
              "    <path d=\"M0 0h24v24H0V0z\" fill=\"none\"/>\n",
              "    <path d=\"M18.56 5.44l.94 2.06.94-2.06 2.06-.94-2.06-.94-.94-2.06-.94 2.06-2.06.94zm-11 1L8.5 8.5l.94-2.06 2.06-.94-2.06-.94L8.5 2.5l-.94 2.06-2.06.94zm10 10l.94 2.06.94-2.06 2.06-.94-2.06-.94-.94-2.06-.94 2.06-2.06.94z\"/><path d=\"M17.41 7.96l-1.37-1.37c-.4-.4-.92-.59-1.43-.59-.52 0-1.04.2-1.43.59L10.3 9.45l-7.72 7.72c-.78.78-.78 2.05 0 2.83L4 21.41c.39.39.9.59 1.41.59.51 0 1.02-.2 1.41-.59l7.78-7.78 2.81-2.81c.8-.78.8-2.07 0-2.86zM5.41 20L4 18.59l7.72-7.72 1.47 1.35L5.41 20z\"/>\n",
              "  </svg>\n",
              "      </button>\n",
              "      \n",
              "  <style>\n",
              "    .colab-df-container {\n",
              "      display:flex;\n",
              "      flex-wrap:wrap;\n",
              "      gap: 12px;\n",
              "    }\n",
              "\n",
              "    .colab-df-convert {\n",
              "      background-color: #E8F0FE;\n",
              "      border: none;\n",
              "      border-radius: 50%;\n",
              "      cursor: pointer;\n",
              "      display: none;\n",
              "      fill: #1967D2;\n",
              "      height: 32px;\n",
              "      padding: 0 0 0 0;\n",
              "      width: 32px;\n",
              "    }\n",
              "\n",
              "    .colab-df-convert:hover {\n",
              "      background-color: #E2EBFA;\n",
              "      box-shadow: 0px 1px 2px rgba(60, 64, 67, 0.3), 0px 1px 3px 1px rgba(60, 64, 67, 0.15);\n",
              "      fill: #174EA6;\n",
              "    }\n",
              "\n",
              "    [theme=dark] .colab-df-convert {\n",
              "      background-color: #3B4455;\n",
              "      fill: #D2E3FC;\n",
              "    }\n",
              "\n",
              "    [theme=dark] .colab-df-convert:hover {\n",
              "      background-color: #434B5C;\n",
              "      box-shadow: 0px 1px 3px 1px rgba(0, 0, 0, 0.15);\n",
              "      filter: drop-shadow(0px 1px 2px rgba(0, 0, 0, 0.3));\n",
              "      fill: #FFFFFF;\n",
              "    }\n",
              "  </style>\n",
              "\n",
              "      <script>\n",
              "        const buttonEl =\n",
              "          document.querySelector('#df-68a47826-bca4-4fb5-86d1-5ee1a15320d1 button.colab-df-convert');\n",
              "        buttonEl.style.display =\n",
              "          google.colab.kernel.accessAllowed ? 'block' : 'none';\n",
              "\n",
              "        async function convertToInteractive(key) {\n",
              "          const element = document.querySelector('#df-68a47826-bca4-4fb5-86d1-5ee1a15320d1');\n",
              "          const dataTable =\n",
              "            await google.colab.kernel.invokeFunction('convertToInteractive',\n",
              "                                                     [key], {});\n",
              "          if (!dataTable) return;\n",
              "\n",
              "          const docLinkHtml = 'Like what you see? Visit the ' +\n",
              "            '<a target=\"_blank\" href=https://colab.research.google.com/notebooks/data_table.ipynb>data table notebook</a>'\n",
              "            + ' to learn more about interactive tables.';\n",
              "          element.innerHTML = '';\n",
              "          dataTable['output_type'] = 'display_data';\n",
              "          await google.colab.output.renderOutput(dataTable, element);\n",
              "          const docLink = document.createElement('div');\n",
              "          docLink.innerHTML = docLinkHtml;\n",
              "          element.appendChild(docLink);\n",
              "        }\n",
              "      </script>\n",
              "    </div>\n",
              "  </div>\n",
              "  "
            ],
            "text/plain": [
              "      iso_code      continent  ... life_expectancy human_development_index\n",
              "20644      BRA  South America  ...           75.88                   0.765\n",
              "\n",
              "[1 rows x 53 columns]"
            ]
          },
          "metadata": {},
          "execution_count": 28
        }
      ]
    },
    {
      "cell_type": "markdown",
      "source": [
        "### **1ª Morte no Brasil**\n"
      ],
      "metadata": {
        "id": "AqV_aaKOsb0D"
      }
    },
    {
      "cell_type": "code",
      "source": [
        "df_br.loc[df_br.new_deaths == 1][:1]"
      ],
      "metadata": {
        "colab": {
          "base_uri": "https://localhost:8080/",
          "height": 162
        },
        "id": "8joLlX_dsio6",
        "outputId": "6120859e-5127-465d-d554-e2510bd1dee4"
      },
      "execution_count": 51,
      "outputs": [
        {
          "output_type": "execute_result",
          "data": {
            "text/html": [
              "\n",
              "  <div id=\"df-27d1a2ac-180f-471e-8d79-e59208644d2a\">\n",
              "    <div class=\"colab-df-container\">\n",
              "      <div>\n",
              "<style scoped>\n",
              "    .dataframe tbody tr th:only-of-type {\n",
              "        vertical-align: middle;\n",
              "    }\n",
              "\n",
              "    .dataframe tbody tr th {\n",
              "        vertical-align: top;\n",
              "    }\n",
              "\n",
              "    .dataframe thead th {\n",
              "        text-align: right;\n",
              "    }\n",
              "</style>\n",
              "<table border=\"1\" class=\"dataframe\">\n",
              "  <thead>\n",
              "    <tr style=\"text-align: right;\">\n",
              "      <th></th>\n",
              "      <th>iso_code</th>\n",
              "      <th>continent</th>\n",
              "      <th>location</th>\n",
              "      <th>date</th>\n",
              "      <th>total_cases</th>\n",
              "      <th>new_cases</th>\n",
              "      <th>new_cases_smoothed</th>\n",
              "      <th>total_deaths</th>\n",
              "      <th>new_deaths</th>\n",
              "      <th>new_deaths_smoothed</th>\n",
              "      <th>total_cases_per_million</th>\n",
              "      <th>new_cases_per_million</th>\n",
              "      <th>new_cases_smoothed_per_million</th>\n",
              "      <th>total_deaths_per_million</th>\n",
              "      <th>new_deaths_per_million</th>\n",
              "      <th>new_deaths_smoothed_per_million</th>\n",
              "      <th>reproduction_rate</th>\n",
              "      <th>new_tests</th>\n",
              "      <th>total_tests</th>\n",
              "      <th>total_tests_per_thousand</th>\n",
              "      <th>new_tests_per_thousand</th>\n",
              "      <th>new_tests_smoothed</th>\n",
              "      <th>new_tests_smoothed_per_thousand</th>\n",
              "      <th>positive_rate</th>\n",
              "      <th>tests_per_case</th>\n",
              "      <th>tests_units</th>\n",
              "      <th>total_vaccinations</th>\n",
              "      <th>people_vaccinated</th>\n",
              "      <th>people_fully_vaccinated</th>\n",
              "      <th>new_vaccinations</th>\n",
              "      <th>new_vaccinations_smoothed</th>\n",
              "      <th>total_vaccinations_per_hundred</th>\n",
              "      <th>people_vaccinated_per_hundred</th>\n",
              "      <th>people_fully_vaccinated_per_hundred</th>\n",
              "      <th>new_vaccinations_smoothed_per_million</th>\n",
              "      <th>new_people_vaccinated_smoothed</th>\n",
              "      <th>new_people_vaccinated_smoothed_per_hundred</th>\n",
              "      <th>stringency_index</th>\n",
              "      <th>population</th>\n",
              "      <th>population_density</th>\n",
              "      <th>median_age</th>\n",
              "      <th>aged_65_older</th>\n",
              "      <th>aged_70_older</th>\n",
              "      <th>gdp_per_capita</th>\n",
              "      <th>extreme_poverty</th>\n",
              "      <th>cardiovasc_death_rate</th>\n",
              "      <th>diabetes_prevalence</th>\n",
              "      <th>female_smokers</th>\n",
              "      <th>male_smokers</th>\n",
              "      <th>handwashing_facilities</th>\n",
              "      <th>hospital_beds_per_thousand</th>\n",
              "      <th>life_expectancy</th>\n",
              "      <th>human_development_index</th>\n",
              "    </tr>\n",
              "  </thead>\n",
              "  <tbody>\n",
              "    <tr>\n",
              "      <th>20664</th>\n",
              "      <td>BRA</td>\n",
              "      <td>South America</td>\n",
              "      <td>Brazil</td>\n",
              "      <td>2020-03-17</td>\n",
              "      <td>321.0</td>\n",
              "      <td>121.0</td>\n",
              "      <td>41.429</td>\n",
              "      <td>1.0</td>\n",
              "      <td>1.0</td>\n",
              "      <td>0.143</td>\n",
              "      <td>1.5</td>\n",
              "      <td>0.565</td>\n",
              "      <td>0.194</td>\n",
              "      <td>0.005</td>\n",
              "      <td>0.005</td>\n",
              "      <td>0.001</td>\n",
              "      <td>2.84</td>\n",
              "      <td>NaN</td>\n",
              "      <td>NaN</td>\n",
              "      <td>NaN</td>\n",
              "      <td>NaN</td>\n",
              "      <td>NaN</td>\n",
              "      <td>NaN</td>\n",
              "      <td>NaN</td>\n",
              "      <td>NaN</td>\n",
              "      <td>NaN</td>\n",
              "      <td>NaN</td>\n",
              "      <td>NaN</td>\n",
              "      <td>NaN</td>\n",
              "      <td>NaN</td>\n",
              "      <td>NaN</td>\n",
              "      <td>NaN</td>\n",
              "      <td>NaN</td>\n",
              "      <td>NaN</td>\n",
              "      <td>NaN</td>\n",
              "      <td>NaN</td>\n",
              "      <td>NaN</td>\n",
              "      <td>57.87</td>\n",
              "      <td>213993441.0</td>\n",
              "      <td>25.04</td>\n",
              "      <td>33.5</td>\n",
              "      <td>8.552</td>\n",
              "      <td>5.06</td>\n",
              "      <td>14103.452</td>\n",
              "      <td>3.4</td>\n",
              "      <td>177.961</td>\n",
              "      <td>8.11</td>\n",
              "      <td>10.1</td>\n",
              "      <td>17.9</td>\n",
              "      <td>NaN</td>\n",
              "      <td>2.2</td>\n",
              "      <td>75.88</td>\n",
              "      <td>0.765</td>\n",
              "    </tr>\n",
              "  </tbody>\n",
              "</table>\n",
              "</div>\n",
              "      <button class=\"colab-df-convert\" onclick=\"convertToInteractive('df-27d1a2ac-180f-471e-8d79-e59208644d2a')\"\n",
              "              title=\"Convert this dataframe to an interactive table.\"\n",
              "              style=\"display:none;\">\n",
              "        \n",
              "  <svg xmlns=\"http://www.w3.org/2000/svg\" height=\"24px\"viewBox=\"0 0 24 24\"\n",
              "       width=\"24px\">\n",
              "    <path d=\"M0 0h24v24H0V0z\" fill=\"none\"/>\n",
              "    <path d=\"M18.56 5.44l.94 2.06.94-2.06 2.06-.94-2.06-.94-.94-2.06-.94 2.06-2.06.94zm-11 1L8.5 8.5l.94-2.06 2.06-.94-2.06-.94L8.5 2.5l-.94 2.06-2.06.94zm10 10l.94 2.06.94-2.06 2.06-.94-2.06-.94-.94-2.06-.94 2.06-2.06.94z\"/><path d=\"M17.41 7.96l-1.37-1.37c-.4-.4-.92-.59-1.43-.59-.52 0-1.04.2-1.43.59L10.3 9.45l-7.72 7.72c-.78.78-.78 2.05 0 2.83L4 21.41c.39.39.9.59 1.41.59.51 0 1.02-.2 1.41-.59l7.78-7.78 2.81-2.81c.8-.78.8-2.07 0-2.86zM5.41 20L4 18.59l7.72-7.72 1.47 1.35L5.41 20z\"/>\n",
              "  </svg>\n",
              "      </button>\n",
              "      \n",
              "  <style>\n",
              "    .colab-df-container {\n",
              "      display:flex;\n",
              "      flex-wrap:wrap;\n",
              "      gap: 12px;\n",
              "    }\n",
              "\n",
              "    .colab-df-convert {\n",
              "      background-color: #E8F0FE;\n",
              "      border: none;\n",
              "      border-radius: 50%;\n",
              "      cursor: pointer;\n",
              "      display: none;\n",
              "      fill: #1967D2;\n",
              "      height: 32px;\n",
              "      padding: 0 0 0 0;\n",
              "      width: 32px;\n",
              "    }\n",
              "\n",
              "    .colab-df-convert:hover {\n",
              "      background-color: #E2EBFA;\n",
              "      box-shadow: 0px 1px 2px rgba(60, 64, 67, 0.3), 0px 1px 3px 1px rgba(60, 64, 67, 0.15);\n",
              "      fill: #174EA6;\n",
              "    }\n",
              "\n",
              "    [theme=dark] .colab-df-convert {\n",
              "      background-color: #3B4455;\n",
              "      fill: #D2E3FC;\n",
              "    }\n",
              "\n",
              "    [theme=dark] .colab-df-convert:hover {\n",
              "      background-color: #434B5C;\n",
              "      box-shadow: 0px 1px 3px 1px rgba(0, 0, 0, 0.15);\n",
              "      filter: drop-shadow(0px 1px 2px rgba(0, 0, 0, 0.3));\n",
              "      fill: #FFFFFF;\n",
              "    }\n",
              "  </style>\n",
              "\n",
              "      <script>\n",
              "        const buttonEl =\n",
              "          document.querySelector('#df-27d1a2ac-180f-471e-8d79-e59208644d2a button.colab-df-convert');\n",
              "        buttonEl.style.display =\n",
              "          google.colab.kernel.accessAllowed ? 'block' : 'none';\n",
              "\n",
              "        async function convertToInteractive(key) {\n",
              "          const element = document.querySelector('#df-27d1a2ac-180f-471e-8d79-e59208644d2a');\n",
              "          const dataTable =\n",
              "            await google.colab.kernel.invokeFunction('convertToInteractive',\n",
              "                                                     [key], {});\n",
              "          if (!dataTable) return;\n",
              "\n",
              "          const docLinkHtml = 'Like what you see? Visit the ' +\n",
              "            '<a target=\"_blank\" href=https://colab.research.google.com/notebooks/data_table.ipynb>data table notebook</a>'\n",
              "            + ' to learn more about interactive tables.';\n",
              "          element.innerHTML = '';\n",
              "          dataTable['output_type'] = 'display_data';\n",
              "          await google.colab.output.renderOutput(dataTable, element);\n",
              "          const docLink = document.createElement('div');\n",
              "          docLink.innerHTML = docLinkHtml;\n",
              "          element.appendChild(docLink);\n",
              "        }\n",
              "      </script>\n",
              "    </div>\n",
              "  </div>\n",
              "  "
            ],
            "text/plain": [
              "      iso_code      continent  ... life_expectancy human_development_index\n",
              "20664      BRA  South America  ...           75.88                   0.765\n",
              "\n",
              "[1 rows x 53 columns]"
            ]
          },
          "metadata": {},
          "execution_count": 51
        }
      ]
    },
    {
      "cell_type": "markdown",
      "source": [
        "### **Primeira Dose**"
      ],
      "metadata": {
        "id": "F8VAGIFL7JSF"
      }
    },
    {
      "cell_type": "code",
      "source": [
        "df_br.loc[df_br.date == '2022-02-09',['location','people_vaccinated','population']]"
      ],
      "metadata": {
        "colab": {
          "base_uri": "https://localhost:8080/",
          "height": 81
        },
        "id": "dU2G_iLFtE2h",
        "outputId": "99b09a2a-828f-466b-83ba-ce628d9a3fac"
      },
      "execution_count": 52,
      "outputs": [
        {
          "output_type": "execute_result",
          "data": {
            "text/html": [
              "\n",
              "  <div id=\"df-821810da-fdb3-446c-93e6-9b3c5a4690b8\">\n",
              "    <div class=\"colab-df-container\">\n",
              "      <div>\n",
              "<style scoped>\n",
              "    .dataframe tbody tr th:only-of-type {\n",
              "        vertical-align: middle;\n",
              "    }\n",
              "\n",
              "    .dataframe tbody tr th {\n",
              "        vertical-align: top;\n",
              "    }\n",
              "\n",
              "    .dataframe thead th {\n",
              "        text-align: right;\n",
              "    }\n",
              "</style>\n",
              "<table border=\"1\" class=\"dataframe\">\n",
              "  <thead>\n",
              "    <tr style=\"text-align: right;\">\n",
              "      <th></th>\n",
              "      <th>location</th>\n",
              "      <th>people_vaccinated</th>\n",
              "      <th>population</th>\n",
              "    </tr>\n",
              "  </thead>\n",
              "  <tbody>\n",
              "    <tr>\n",
              "      <th>21358</th>\n",
              "      <td>Brazil</td>\n",
              "      <td>172995877.0</td>\n",
              "      <td>213993441.0</td>\n",
              "    </tr>\n",
              "  </tbody>\n",
              "</table>\n",
              "</div>\n",
              "      <button class=\"colab-df-convert\" onclick=\"convertToInteractive('df-821810da-fdb3-446c-93e6-9b3c5a4690b8')\"\n",
              "              title=\"Convert this dataframe to an interactive table.\"\n",
              "              style=\"display:none;\">\n",
              "        \n",
              "  <svg xmlns=\"http://www.w3.org/2000/svg\" height=\"24px\"viewBox=\"0 0 24 24\"\n",
              "       width=\"24px\">\n",
              "    <path d=\"M0 0h24v24H0V0z\" fill=\"none\"/>\n",
              "    <path d=\"M18.56 5.44l.94 2.06.94-2.06 2.06-.94-2.06-.94-.94-2.06-.94 2.06-2.06.94zm-11 1L8.5 8.5l.94-2.06 2.06-.94-2.06-.94L8.5 2.5l-.94 2.06-2.06.94zm10 10l.94 2.06.94-2.06 2.06-.94-2.06-.94-.94-2.06-.94 2.06-2.06.94z\"/><path d=\"M17.41 7.96l-1.37-1.37c-.4-.4-.92-.59-1.43-.59-.52 0-1.04.2-1.43.59L10.3 9.45l-7.72 7.72c-.78.78-.78 2.05 0 2.83L4 21.41c.39.39.9.59 1.41.59.51 0 1.02-.2 1.41-.59l7.78-7.78 2.81-2.81c.8-.78.8-2.07 0-2.86zM5.41 20L4 18.59l7.72-7.72 1.47 1.35L5.41 20z\"/>\n",
              "  </svg>\n",
              "      </button>\n",
              "      \n",
              "  <style>\n",
              "    .colab-df-container {\n",
              "      display:flex;\n",
              "      flex-wrap:wrap;\n",
              "      gap: 12px;\n",
              "    }\n",
              "\n",
              "    .colab-df-convert {\n",
              "      background-color: #E8F0FE;\n",
              "      border: none;\n",
              "      border-radius: 50%;\n",
              "      cursor: pointer;\n",
              "      display: none;\n",
              "      fill: #1967D2;\n",
              "      height: 32px;\n",
              "      padding: 0 0 0 0;\n",
              "      width: 32px;\n",
              "    }\n",
              "\n",
              "    .colab-df-convert:hover {\n",
              "      background-color: #E2EBFA;\n",
              "      box-shadow: 0px 1px 2px rgba(60, 64, 67, 0.3), 0px 1px 3px 1px rgba(60, 64, 67, 0.15);\n",
              "      fill: #174EA6;\n",
              "    }\n",
              "\n",
              "    [theme=dark] .colab-df-convert {\n",
              "      background-color: #3B4455;\n",
              "      fill: #D2E3FC;\n",
              "    }\n",
              "\n",
              "    [theme=dark] .colab-df-convert:hover {\n",
              "      background-color: #434B5C;\n",
              "      box-shadow: 0px 1px 3px 1px rgba(0, 0, 0, 0.15);\n",
              "      filter: drop-shadow(0px 1px 2px rgba(0, 0, 0, 0.3));\n",
              "      fill: #FFFFFF;\n",
              "    }\n",
              "  </style>\n",
              "\n",
              "      <script>\n",
              "        const buttonEl =\n",
              "          document.querySelector('#df-821810da-fdb3-446c-93e6-9b3c5a4690b8 button.colab-df-convert');\n",
              "        buttonEl.style.display =\n",
              "          google.colab.kernel.accessAllowed ? 'block' : 'none';\n",
              "\n",
              "        async function convertToInteractive(key) {\n",
              "          const element = document.querySelector('#df-821810da-fdb3-446c-93e6-9b3c5a4690b8');\n",
              "          const dataTable =\n",
              "            await google.colab.kernel.invokeFunction('convertToInteractive',\n",
              "                                                     [key], {});\n",
              "          if (!dataTable) return;\n",
              "\n",
              "          const docLinkHtml = 'Like what you see? Visit the ' +\n",
              "            '<a target=\"_blank\" href=https://colab.research.google.com/notebooks/data_table.ipynb>data table notebook</a>'\n",
              "            + ' to learn more about interactive tables.';\n",
              "          element.innerHTML = '';\n",
              "          dataTable['output_type'] = 'display_data';\n",
              "          await google.colab.output.renderOutput(dataTable, element);\n",
              "          const docLink = document.createElement('div');\n",
              "          docLink.innerHTML = docLinkHtml;\n",
              "          element.appendChild(docLink);\n",
              "        }\n",
              "      </script>\n",
              "    </div>\n",
              "  </div>\n",
              "  "
            ],
            "text/plain": [
              "      location  people_vaccinated   population\n",
              "21358   Brazil        172995877.0  213993441.0"
            ]
          },
          "metadata": {},
          "execution_count": 52
        }
      ]
    },
    {
      "cell_type": "code",
      "source": [
        "print('Porcentagem de Vacinados - Primeira Dose')\t\n",
        "print('Brasil - {:.2f}%'.format(172995877.0 /213993441.0* 100))\t"
      ],
      "metadata": {
        "colab": {
          "base_uri": "https://localhost:8080/"
        },
        "id": "zWGfEdeh1-mD",
        "outputId": "23e4ea93-7dc7-4087-f88e-794093f40ff1"
      },
      "execution_count": 55,
      "outputs": [
        {
          "output_type": "stream",
          "name": "stdout",
          "text": [
            "Porcentagem de Vacinados - Primeira Dose\n",
            "Brasil - 80.84%\n"
          ]
        }
      ]
    },
    {
      "cell_type": "markdown",
      "source": [
        "### **Completamente Vacinados**"
      ],
      "metadata": {
        "id": "RTh8HSbs7FiZ"
      }
    },
    {
      "cell_type": "code",
      "source": [
        "df_br.loc[df_br.date == '2022-02-09',['location','people_fully_vaccinated','population']]"
      ],
      "metadata": {
        "colab": {
          "base_uri": "https://localhost:8080/",
          "height": 81
        },
        "id": "q7eLf5_8tpWM",
        "outputId": "20c0a112-a8fa-446e-b3fc-c8943c273793"
      },
      "execution_count": 53,
      "outputs": [
        {
          "output_type": "execute_result",
          "data": {
            "text/html": [
              "\n",
              "  <div id=\"df-c4ddc364-bc48-4294-8ddd-72f5a8948665\">\n",
              "    <div class=\"colab-df-container\">\n",
              "      <div>\n",
              "<style scoped>\n",
              "    .dataframe tbody tr th:only-of-type {\n",
              "        vertical-align: middle;\n",
              "    }\n",
              "\n",
              "    .dataframe tbody tr th {\n",
              "        vertical-align: top;\n",
              "    }\n",
              "\n",
              "    .dataframe thead th {\n",
              "        text-align: right;\n",
              "    }\n",
              "</style>\n",
              "<table border=\"1\" class=\"dataframe\">\n",
              "  <thead>\n",
              "    <tr style=\"text-align: right;\">\n",
              "      <th></th>\n",
              "      <th>location</th>\n",
              "      <th>people_fully_vaccinated</th>\n",
              "      <th>population</th>\n",
              "    </tr>\n",
              "  </thead>\n",
              "  <tbody>\n",
              "    <tr>\n",
              "      <th>21358</th>\n",
              "      <td>Brazil</td>\n",
              "      <td>151496825.0</td>\n",
              "      <td>213993441.0</td>\n",
              "    </tr>\n",
              "  </tbody>\n",
              "</table>\n",
              "</div>\n",
              "      <button class=\"colab-df-convert\" onclick=\"convertToInteractive('df-c4ddc364-bc48-4294-8ddd-72f5a8948665')\"\n",
              "              title=\"Convert this dataframe to an interactive table.\"\n",
              "              style=\"display:none;\">\n",
              "        \n",
              "  <svg xmlns=\"http://www.w3.org/2000/svg\" height=\"24px\"viewBox=\"0 0 24 24\"\n",
              "       width=\"24px\">\n",
              "    <path d=\"M0 0h24v24H0V0z\" fill=\"none\"/>\n",
              "    <path d=\"M18.56 5.44l.94 2.06.94-2.06 2.06-.94-2.06-.94-.94-2.06-.94 2.06-2.06.94zm-11 1L8.5 8.5l.94-2.06 2.06-.94-2.06-.94L8.5 2.5l-.94 2.06-2.06.94zm10 10l.94 2.06.94-2.06 2.06-.94-2.06-.94-.94-2.06-.94 2.06-2.06.94z\"/><path d=\"M17.41 7.96l-1.37-1.37c-.4-.4-.92-.59-1.43-.59-.52 0-1.04.2-1.43.59L10.3 9.45l-7.72 7.72c-.78.78-.78 2.05 0 2.83L4 21.41c.39.39.9.59 1.41.59.51 0 1.02-.2 1.41-.59l7.78-7.78 2.81-2.81c.8-.78.8-2.07 0-2.86zM5.41 20L4 18.59l7.72-7.72 1.47 1.35L5.41 20z\"/>\n",
              "  </svg>\n",
              "      </button>\n",
              "      \n",
              "  <style>\n",
              "    .colab-df-container {\n",
              "      display:flex;\n",
              "      flex-wrap:wrap;\n",
              "      gap: 12px;\n",
              "    }\n",
              "\n",
              "    .colab-df-convert {\n",
              "      background-color: #E8F0FE;\n",
              "      border: none;\n",
              "      border-radius: 50%;\n",
              "      cursor: pointer;\n",
              "      display: none;\n",
              "      fill: #1967D2;\n",
              "      height: 32px;\n",
              "      padding: 0 0 0 0;\n",
              "      width: 32px;\n",
              "    }\n",
              "\n",
              "    .colab-df-convert:hover {\n",
              "      background-color: #E2EBFA;\n",
              "      box-shadow: 0px 1px 2px rgba(60, 64, 67, 0.3), 0px 1px 3px 1px rgba(60, 64, 67, 0.15);\n",
              "      fill: #174EA6;\n",
              "    }\n",
              "\n",
              "    [theme=dark] .colab-df-convert {\n",
              "      background-color: #3B4455;\n",
              "      fill: #D2E3FC;\n",
              "    }\n",
              "\n",
              "    [theme=dark] .colab-df-convert:hover {\n",
              "      background-color: #434B5C;\n",
              "      box-shadow: 0px 1px 3px 1px rgba(0, 0, 0, 0.15);\n",
              "      filter: drop-shadow(0px 1px 2px rgba(0, 0, 0, 0.3));\n",
              "      fill: #FFFFFF;\n",
              "    }\n",
              "  </style>\n",
              "\n",
              "      <script>\n",
              "        const buttonEl =\n",
              "          document.querySelector('#df-c4ddc364-bc48-4294-8ddd-72f5a8948665 button.colab-df-convert');\n",
              "        buttonEl.style.display =\n",
              "          google.colab.kernel.accessAllowed ? 'block' : 'none';\n",
              "\n",
              "        async function convertToInteractive(key) {\n",
              "          const element = document.querySelector('#df-c4ddc364-bc48-4294-8ddd-72f5a8948665');\n",
              "          const dataTable =\n",
              "            await google.colab.kernel.invokeFunction('convertToInteractive',\n",
              "                                                     [key], {});\n",
              "          if (!dataTable) return;\n",
              "\n",
              "          const docLinkHtml = 'Like what you see? Visit the ' +\n",
              "            '<a target=\"_blank\" href=https://colab.research.google.com/notebooks/data_table.ipynb>data table notebook</a>'\n",
              "            + ' to learn more about interactive tables.';\n",
              "          element.innerHTML = '';\n",
              "          dataTable['output_type'] = 'display_data';\n",
              "          await google.colab.output.renderOutput(dataTable, element);\n",
              "          const docLink = document.createElement('div');\n",
              "          docLink.innerHTML = docLinkHtml;\n",
              "          element.appendChild(docLink);\n",
              "        }\n",
              "      </script>\n",
              "    </div>\n",
              "  </div>\n",
              "  "
            ],
            "text/plain": [
              "      location  people_fully_vaccinated   population\n",
              "21358   Brazil              151496825.0  213993441.0"
            ]
          },
          "metadata": {},
          "execution_count": 53
        }
      ]
    },
    {
      "cell_type": "code",
      "source": [
        "print('Porcentagem de Vacinados - Completamente Vacinados')\t\n",
        "print('Brazil - {:.2f}%'.format(151496825.0 /\t213993441.0* 100))\t"
      ],
      "metadata": {
        "id": "Izcrr_NJQcbU",
        "colab": {
          "base_uri": "https://localhost:8080/"
        },
        "outputId": "4fced9de-7c58-4b85-a61d-eef7ef5b1b0d"
      },
      "execution_count": 56,
      "outputs": [
        {
          "output_type": "stream",
          "name": "stdout",
          "text": [
            "Porcentagem de Vacinados - Completamente Vacinados\n",
            "Brazil - 70.80%\n"
          ]
        }
      ]
    },
    {
      "cell_type": "markdown",
      "source": [
        "### **Vacinação em Relação ao Mundo**\n",
        "\n"
      ],
      "metadata": {
        "id": "hzqgoUj07Oto"
      }
    },
    {
      "cell_type": "code",
      "metadata": {
        "id": "UDQA502_hAwI",
        "colab": {
          "base_uri": "https://localhost:8080/",
          "height": 206
        },
        "outputId": "09f696c2-496b-41cd-b644-58512165f695"
      },
      "source": [
        "dfp.loc[dfp.date == '2022-02-09',['location','total_vaccinations']].sort_values('total_vaccinations', ascending=False)[1:6]"
      ],
      "execution_count": 33,
      "outputs": [
        {
          "output_type": "execute_result",
          "data": {
            "text/html": [
              "\n",
              "  <div id=\"df-a34a2184-d4f9-47d5-836c-f26dea3de569\">\n",
              "    <div class=\"colab-df-container\">\n",
              "      <div>\n",
              "<style scoped>\n",
              "    .dataframe tbody tr th:only-of-type {\n",
              "        vertical-align: middle;\n",
              "    }\n",
              "\n",
              "    .dataframe tbody tr th {\n",
              "        vertical-align: top;\n",
              "    }\n",
              "\n",
              "    .dataframe thead th {\n",
              "        text-align: right;\n",
              "    }\n",
              "</style>\n",
              "<table border=\"1\" class=\"dataframe\">\n",
              "  <thead>\n",
              "    <tr style=\"text-align: right;\">\n",
              "      <th></th>\n",
              "      <th>location</th>\n",
              "      <th>total_vaccinations</th>\n",
              "    </tr>\n",
              "  </thead>\n",
              "  <tbody>\n",
              "    <tr>\n",
              "      <th>31306</th>\n",
              "      <td>China</td>\n",
              "      <td>3.022646e+09</td>\n",
              "    </tr>\n",
              "    <tr>\n",
              "      <th>68279</th>\n",
              "      <td>India</td>\n",
              "      <td>1.710024e+09</td>\n",
              "    </tr>\n",
              "    <tr>\n",
              "      <th>153093</th>\n",
              "      <td>United States</td>\n",
              "      <td>5.459371e+08</td>\n",
              "    </tr>\n",
              "    <tr>\n",
              "      <th>21358</th>\n",
              "      <td>Brazil</td>\n",
              "      <td>3.733317e+08</td>\n",
              "    </tr>\n",
              "    <tr>\n",
              "      <th>75499</th>\n",
              "      <td>Japan</td>\n",
              "      <td>2.114019e+08</td>\n",
              "    </tr>\n",
              "  </tbody>\n",
              "</table>\n",
              "</div>\n",
              "      <button class=\"colab-df-convert\" onclick=\"convertToInteractive('df-a34a2184-d4f9-47d5-836c-f26dea3de569')\"\n",
              "              title=\"Convert this dataframe to an interactive table.\"\n",
              "              style=\"display:none;\">\n",
              "        \n",
              "  <svg xmlns=\"http://www.w3.org/2000/svg\" height=\"24px\"viewBox=\"0 0 24 24\"\n",
              "       width=\"24px\">\n",
              "    <path d=\"M0 0h24v24H0V0z\" fill=\"none\"/>\n",
              "    <path d=\"M18.56 5.44l.94 2.06.94-2.06 2.06-.94-2.06-.94-.94-2.06-.94 2.06-2.06.94zm-11 1L8.5 8.5l.94-2.06 2.06-.94-2.06-.94L8.5 2.5l-.94 2.06-2.06.94zm10 10l.94 2.06.94-2.06 2.06-.94-2.06-.94-.94-2.06-.94 2.06-2.06.94z\"/><path d=\"M17.41 7.96l-1.37-1.37c-.4-.4-.92-.59-1.43-.59-.52 0-1.04.2-1.43.59L10.3 9.45l-7.72 7.72c-.78.78-.78 2.05 0 2.83L4 21.41c.39.39.9.59 1.41.59.51 0 1.02-.2 1.41-.59l7.78-7.78 2.81-2.81c.8-.78.8-2.07 0-2.86zM5.41 20L4 18.59l7.72-7.72 1.47 1.35L5.41 20z\"/>\n",
              "  </svg>\n",
              "      </button>\n",
              "      \n",
              "  <style>\n",
              "    .colab-df-container {\n",
              "      display:flex;\n",
              "      flex-wrap:wrap;\n",
              "      gap: 12px;\n",
              "    }\n",
              "\n",
              "    .colab-df-convert {\n",
              "      background-color: #E8F0FE;\n",
              "      border: none;\n",
              "      border-radius: 50%;\n",
              "      cursor: pointer;\n",
              "      display: none;\n",
              "      fill: #1967D2;\n",
              "      height: 32px;\n",
              "      padding: 0 0 0 0;\n",
              "      width: 32px;\n",
              "    }\n",
              "\n",
              "    .colab-df-convert:hover {\n",
              "      background-color: #E2EBFA;\n",
              "      box-shadow: 0px 1px 2px rgba(60, 64, 67, 0.3), 0px 1px 3px 1px rgba(60, 64, 67, 0.15);\n",
              "      fill: #174EA6;\n",
              "    }\n",
              "\n",
              "    [theme=dark] .colab-df-convert {\n",
              "      background-color: #3B4455;\n",
              "      fill: #D2E3FC;\n",
              "    }\n",
              "\n",
              "    [theme=dark] .colab-df-convert:hover {\n",
              "      background-color: #434B5C;\n",
              "      box-shadow: 0px 1px 3px 1px rgba(0, 0, 0, 0.15);\n",
              "      filter: drop-shadow(0px 1px 2px rgba(0, 0, 0, 0.3));\n",
              "      fill: #FFFFFF;\n",
              "    }\n",
              "  </style>\n",
              "\n",
              "      <script>\n",
              "        const buttonEl =\n",
              "          document.querySelector('#df-a34a2184-d4f9-47d5-836c-f26dea3de569 button.colab-df-convert');\n",
              "        buttonEl.style.display =\n",
              "          google.colab.kernel.accessAllowed ? 'block' : 'none';\n",
              "\n",
              "        async function convertToInteractive(key) {\n",
              "          const element = document.querySelector('#df-a34a2184-d4f9-47d5-836c-f26dea3de569');\n",
              "          const dataTable =\n",
              "            await google.colab.kernel.invokeFunction('convertToInteractive',\n",
              "                                                     [key], {});\n",
              "          if (!dataTable) return;\n",
              "\n",
              "          const docLinkHtml = 'Like what you see? Visit the ' +\n",
              "            '<a target=\"_blank\" href=https://colab.research.google.com/notebooks/data_table.ipynb>data table notebook</a>'\n",
              "            + ' to learn more about interactive tables.';\n",
              "          element.innerHTML = '';\n",
              "          dataTable['output_type'] = 'display_data';\n",
              "          await google.colab.output.renderOutput(dataTable, element);\n",
              "          const docLink = document.createElement('div');\n",
              "          docLink.innerHTML = docLinkHtml;\n",
              "          element.appendChild(docLink);\n",
              "        }\n",
              "      </script>\n",
              "    </div>\n",
              "  </div>\n",
              "  "
            ],
            "text/plain": [
              "             location  total_vaccinations\n",
              "31306           China        3.022646e+09\n",
              "68279           India        1.710024e+09\n",
              "153093  United States        5.459371e+08\n",
              "21358          Brazil        3.733317e+08\n",
              "75499           Japan        2.114019e+08"
            ]
          },
          "metadata": {},
          "execution_count": 33
        }
      ]
    },
    {
      "cell_type": "markdown",
      "metadata": {
        "id": "LCsiXvM3BcsO"
      },
      "source": [
        "## **Conclusão**\n",
        "\n",
        "Após a **Análise Exploratória**, cheguei a coclusão que essa pesquisa tem uma enorme importancia para o entendimento de uma doença tão severa como a COVID-19. Nela, foi possível identificar dados como: \n",
        "\n",
        "*   **Quantidade de Casos**\n",
        "*  **Quantidade de Mortos**\n",
        "*  **Andamento da Vacinação**\n",
        "*   **Brasil em Relação ao Mundo**\n",
        "\n",
        "Nessas etapas, foi possível observar que os Estados Unidos lidera o Ranking de casos e mortes, com **77 Milhões** e **912 Mil**, respectivamente. Além disso, a India é o páis que mais vacinou... juntando a 1ª, 2ª e 3ª dose, o país conta com mais de **954 Milhões** de aplicações. Para finalizar, descobri também que o Brasil já conta com pouco mais de **70%** de sua população vacinada.\n",
        "\n",
        "Por fim, espero que tenha gostado e se vacine e siga as recomendações acima para que possamos voltar a vida normal o mais rápido possivel.\n"
      ]
    }
  ]
}