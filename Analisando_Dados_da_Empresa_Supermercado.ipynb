{
  "nbformat": 4,
  "nbformat_minor": 0,
  "metadata": {
    "colab": {
      "name": "Analisando Dados da Empresa - Supermercado.ipynb",
      "provenance": [],
      "collapsed_sections": [],
      "include_colab_link": true
    },
    "kernelspec": {
      "name": "python3",
      "display_name": "Python 3"
    }
  },
  "cells": [
    {
      "cell_type": "markdown",
      "metadata": {
        "id": "view-in-github",
        "colab_type": "text"
      },
      "source": [
        "<a href=\"https://colab.research.google.com/github/antoniomlo/Arquivos-Nuvem/blob/main/Analisando_Dados_da_Empresa_Supermercado.ipynb\" target=\"_parent\"><img src=\"https://colab.research.google.com/assets/colab-badge.svg\" alt=\"Open In Colab\"/></a>"
      ]
    },
    {
      "cell_type": "markdown",
      "metadata": {
        "id": "8cv0NXjOpqHw"
      },
      "source": [
        "<img alt=\"Brand logo\" width=\"10%\" src=\"https://github.com/PAlab0/PAlab0/blob/main/logo.png?raw=true\">\n",
        "\n",
        "\n",
        "*by [Antonio Melo](https://www.linkedin.com/in/antoniomlo/)*\n",
        "\n",
        "---\n",
        "\n",
        "# Analisando Dados da Empresa - Supermercado\n",
        "\n",
        "Para melhorar o desempenho operacional em todos os canais, a análise de dados de varejo pode ajudar varejistas e fornecedores a monitorar a demanda no nível da loja em tempo real, assim, você garante que os itens mais vendidos permaneçam em estoque. \n",
        "\n",
        "Para esse projeto, irei utilizar Python, mais especificamente a biblioteca Pandas, para obter todos os dados necessários para fazer uma Análise Exploratória.\n",
        "\n",
        "<center><img width=\"90%\" src=\"https://github.com/antoniomlo/Data_Science/blob/main/img/An%C3%A1lise%20de%20dados%20da%20Empresa%20-%20Mercado.png?raw=true\n",
        "\"></center>\n",
        "\n",
        "Neste notebook, irei analisar os dados referentes à empresas de supermercados, e ver quais insights podem ser extraídos a partir de dados brutos.\n"
      ]
    },
    {
      "cell_type": "markdown",
      "source": [
        "# Extração dos dados"
      ],
      "metadata": {
        "id": "634t55VMYrbA"
      }
    },
    {
      "cell_type": "markdown",
      "source": [
        "Para iniciar esse projeto, irei começar importando as bibliotecas que usarei e definindo algumas variáveis de cor como padrão."
      ],
      "metadata": {
        "id": "OZGtjM2j22N6"
      }
    },
    {
      "cell_type": "code",
      "metadata": {
        "id": "OZqimCFSnSfE"
      },
      "source": [
        "# importar os pacotes necessários\n",
        "import pandas as pd \n",
        "import matplotlib.pyplot as plt\n",
        "\n",
        "# definir cores como padrão\n",
        "p ='#FA6559'\n",
        "cor1 = ['#e8e4f3','#e8e4f3','#e8e4f3','#e8e4f3','#e8e4f3', p]\n",
        "cor = [p, '#e8e4f3','#e8e4f3','#e8e4f3','#e8e4f3','#e8e4f3']"
      ],
      "execution_count": 68,
      "outputs": []
    },
    {
      "cell_type": "code",
      "metadata": {
        "id": "6nALiw1AoHPw"
      },
      "source": [
        "# importar planilha do github\n",
        "df = pd.read_csv('https://github.com/antoniomlo/Arquivos-Nuvem/raw/main/supermacket.csv')"
      ],
      "execution_count": 69,
      "outputs": []
    },
    {
      "cell_type": "code",
      "metadata": {
        "id": "7McdMsOhoYJI",
        "colab": {
          "base_uri": "https://localhost:8080/",
          "height": 191
        },
        "outputId": "0a67e35d-aad7-4df5-cd5b-3c5bededfbf2"
      },
      "source": [
        "# executando a variável planilha\n",
        "df.columns = ['id', 'mercado', 'cidade', 'cliente', 'genero', 'linha_produto', 'preco_unid', 'quantidade', 'tax', 'preco_total', 'data', 'hora', 'pagamento', 'cpv', 'margem_bruta', 'renda_bruta', 'avaliacao']\n",
        "df.head(2)"
      ],
      "execution_count": 70,
      "outputs": [
        {
          "output_type": "execute_result",
          "data": {
            "text/html": [
              "\n",
              "  <div id=\"df-a9ed1d09-1f7d-40e6-b1d9-815ca14097dc\">\n",
              "    <div class=\"colab-df-container\">\n",
              "      <div>\n",
              "<style scoped>\n",
              "    .dataframe tbody tr th:only-of-type {\n",
              "        vertical-align: middle;\n",
              "    }\n",
              "\n",
              "    .dataframe tbody tr th {\n",
              "        vertical-align: top;\n",
              "    }\n",
              "\n",
              "    .dataframe thead th {\n",
              "        text-align: right;\n",
              "    }\n",
              "</style>\n",
              "<table border=\"1\" class=\"dataframe\">\n",
              "  <thead>\n",
              "    <tr style=\"text-align: right;\">\n",
              "      <th></th>\n",
              "      <th>id</th>\n",
              "      <th>mercado</th>\n",
              "      <th>cidade</th>\n",
              "      <th>cliente</th>\n",
              "      <th>genero</th>\n",
              "      <th>linha_produto</th>\n",
              "      <th>preco_unid</th>\n",
              "      <th>quantidade</th>\n",
              "      <th>tax</th>\n",
              "      <th>preco_total</th>\n",
              "      <th>data</th>\n",
              "      <th>hora</th>\n",
              "      <th>pagamento</th>\n",
              "      <th>cpv</th>\n",
              "      <th>margem_bruta</th>\n",
              "      <th>renda_bruta</th>\n",
              "      <th>avaliacao</th>\n",
              "    </tr>\n",
              "  </thead>\n",
              "  <tbody>\n",
              "    <tr>\n",
              "      <th>0</th>\n",
              "      <td>750-67-8428</td>\n",
              "      <td>A</td>\n",
              "      <td>Yangon</td>\n",
              "      <td>Member</td>\n",
              "      <td>Female</td>\n",
              "      <td>Health and beauty</td>\n",
              "      <td>74.69</td>\n",
              "      <td>7</td>\n",
              "      <td>26.1415</td>\n",
              "      <td>548.9715</td>\n",
              "      <td>1/5/2019</td>\n",
              "      <td>13:08</td>\n",
              "      <td>Ewallet</td>\n",
              "      <td>522.83</td>\n",
              "      <td>4.761905</td>\n",
              "      <td>26.1415</td>\n",
              "      <td>9.1</td>\n",
              "    </tr>\n",
              "    <tr>\n",
              "      <th>1</th>\n",
              "      <td>226-31-3081</td>\n",
              "      <td>C</td>\n",
              "      <td>Naypyitaw</td>\n",
              "      <td>Normal</td>\n",
              "      <td>Female</td>\n",
              "      <td>Electronic accessories</td>\n",
              "      <td>15.28</td>\n",
              "      <td>5</td>\n",
              "      <td>3.8200</td>\n",
              "      <td>80.2200</td>\n",
              "      <td>3/8/2019</td>\n",
              "      <td>10:29</td>\n",
              "      <td>Cash</td>\n",
              "      <td>76.40</td>\n",
              "      <td>4.761905</td>\n",
              "      <td>3.8200</td>\n",
              "      <td>9.6</td>\n",
              "    </tr>\n",
              "  </tbody>\n",
              "</table>\n",
              "</div>\n",
              "      <button class=\"colab-df-convert\" onclick=\"convertToInteractive('df-a9ed1d09-1f7d-40e6-b1d9-815ca14097dc')\"\n",
              "              title=\"Convert this dataframe to an interactive table.\"\n",
              "              style=\"display:none;\">\n",
              "        \n",
              "  <svg xmlns=\"http://www.w3.org/2000/svg\" height=\"24px\"viewBox=\"0 0 24 24\"\n",
              "       width=\"24px\">\n",
              "    <path d=\"M0 0h24v24H0V0z\" fill=\"none\"/>\n",
              "    <path d=\"M18.56 5.44l.94 2.06.94-2.06 2.06-.94-2.06-.94-.94-2.06-.94 2.06-2.06.94zm-11 1L8.5 8.5l.94-2.06 2.06-.94-2.06-.94L8.5 2.5l-.94 2.06-2.06.94zm10 10l.94 2.06.94-2.06 2.06-.94-2.06-.94-.94-2.06-.94 2.06-2.06.94z\"/><path d=\"M17.41 7.96l-1.37-1.37c-.4-.4-.92-.59-1.43-.59-.52 0-1.04.2-1.43.59L10.3 9.45l-7.72 7.72c-.78.78-.78 2.05 0 2.83L4 21.41c.39.39.9.59 1.41.59.51 0 1.02-.2 1.41-.59l7.78-7.78 2.81-2.81c.8-.78.8-2.07 0-2.86zM5.41 20L4 18.59l7.72-7.72 1.47 1.35L5.41 20z\"/>\n",
              "  </svg>\n",
              "      </button>\n",
              "      \n",
              "  <style>\n",
              "    .colab-df-container {\n",
              "      display:flex;\n",
              "      flex-wrap:wrap;\n",
              "      gap: 12px;\n",
              "    }\n",
              "\n",
              "    .colab-df-convert {\n",
              "      background-color: #E8F0FE;\n",
              "      border: none;\n",
              "      border-radius: 50%;\n",
              "      cursor: pointer;\n",
              "      display: none;\n",
              "      fill: #1967D2;\n",
              "      height: 32px;\n",
              "      padding: 0 0 0 0;\n",
              "      width: 32px;\n",
              "    }\n",
              "\n",
              "    .colab-df-convert:hover {\n",
              "      background-color: #E2EBFA;\n",
              "      box-shadow: 0px 1px 2px rgba(60, 64, 67, 0.3), 0px 1px 3px 1px rgba(60, 64, 67, 0.15);\n",
              "      fill: #174EA6;\n",
              "    }\n",
              "\n",
              "    [theme=dark] .colab-df-convert {\n",
              "      background-color: #3B4455;\n",
              "      fill: #D2E3FC;\n",
              "    }\n",
              "\n",
              "    [theme=dark] .colab-df-convert:hover {\n",
              "      background-color: #434B5C;\n",
              "      box-shadow: 0px 1px 3px 1px rgba(0, 0, 0, 0.15);\n",
              "      filter: drop-shadow(0px 1px 2px rgba(0, 0, 0, 0.3));\n",
              "      fill: #FFFFFF;\n",
              "    }\n",
              "  </style>\n",
              "\n",
              "      <script>\n",
              "        const buttonEl =\n",
              "          document.querySelector('#df-a9ed1d09-1f7d-40e6-b1d9-815ca14097dc button.colab-df-convert');\n",
              "        buttonEl.style.display =\n",
              "          google.colab.kernel.accessAllowed ? 'block' : 'none';\n",
              "\n",
              "        async function convertToInteractive(key) {\n",
              "          const element = document.querySelector('#df-a9ed1d09-1f7d-40e6-b1d9-815ca14097dc');\n",
              "          const dataTable =\n",
              "            await google.colab.kernel.invokeFunction('convertToInteractive',\n",
              "                                                     [key], {});\n",
              "          if (!dataTable) return;\n",
              "\n",
              "          const docLinkHtml = 'Like what you see? Visit the ' +\n",
              "            '<a target=\"_blank\" href=https://colab.research.google.com/notebooks/data_table.ipynb>data table notebook</a>'\n",
              "            + ' to learn more about interactive tables.';\n",
              "          element.innerHTML = '';\n",
              "          dataTable['output_type'] = 'display_data';\n",
              "          await google.colab.output.renderOutput(dataTable, element);\n",
              "          const docLink = document.createElement('div');\n",
              "          docLink.innerHTML = docLinkHtml;\n",
              "          element.appendChild(docLink);\n",
              "        }\n",
              "      </script>\n",
              "    </div>\n",
              "  </div>\n",
              "  "
            ],
            "text/plain": [
              "            id mercado     cidade  ... margem_bruta renda_bruta avaliacao\n",
              "0  750-67-8428       A     Yangon  ...     4.761905     26.1415       9.1\n",
              "1  226-31-3081       C  Naypyitaw  ...     4.761905      3.8200       9.6\n",
              "\n",
              "[2 rows x 17 columns]"
            ]
          },
          "metadata": {},
          "execution_count": 70
        }
      ]
    },
    {
      "cell_type": "markdown",
      "source": [
        "# Dicionário das variáveis\n",
        "\n",
        "* `id`: Número de identificação da fatura do recibo de venda gerado por computador\n",
        "* `mercado`: Filial do supercentro (estão disponíveis 3 filiais identificadas por A, B e C).\n",
        "* `cidade`: Localização dos supercentros\n",
        "* `cliente`: Tipo de cliente, registado pelos Membros para clientes com cartão de sócio e Normal para sem cartão de sócio.\n",
        "* `genero`: Tipo de gênero do cliente\n",
        "* `linha_produto`: Grupos de categorização geral de itens - Acessórios eletrônicos, Acessórios de moda, Alimentos e bebidas, Saúde e beleza, Casa e estilo de vida, Esportes e viagens\n",
        "* `preco_unid`: Preço de cada produto em $\n",
        "* `quantidade`: Número de produtos adquiridos por\n",
        "* `tax`: taxa de imposto de 5% para compra do cliente\n",
        "* `preco_total`: Preço total incluindo imposto\n",
        "* `data`: Data da compra (Registro disponível de janeiro de 2019 a março de 2019)\n",
        "* `hora`: Horário da compra (10h às 21h\n",
        "*  `pagamento`: Pagamento usado pelo cliente para a compra (3 métodos disponíveis - Dinheiro, Cartão de crédito e Ewallet)\n",
        "*  `cpv`:Custo dos produtos vendido\n",
        "*`margem_bruta`: Porcentagem da margem\n",
        "bruta \n",
        "* `renda_bruta`: Renda bruta\n",
        "* `avaliacao`: Classificação de estratificação do cliente em sua experiência geral de compra (em uma escala de 1 a 10)"
      ],
      "metadata": {
        "id": "M7-QwDYvJqsC"
      }
    },
    {
      "cell_type": "markdown",
      "source": [
        "#Análise geral"
      ],
      "metadata": {
        "id": "NTheY66HY7ew"
      }
    },
    {
      "cell_type": "markdown",
      "source": [
        "Aqui irei observar quais os tipos de variáveis presentes nesse dataset."
      ],
      "metadata": {
        "id": "EcG4qCS04Qrj"
      }
    },
    {
      "cell_type": "code",
      "metadata": {
        "id": "0eUK2UuYqbDX",
        "colab": {
          "base_uri": "https://localhost:8080/"
        },
        "outputId": "a17a62e1-2c8d-4b89-913d-4771fc540ed1"
      },
      "source": [
        "# ver como ta o dataset e os tipos de variaveis \n",
        "df.dtypes"
      ],
      "execution_count": 71,
      "outputs": [
        {
          "output_type": "execute_result",
          "data": {
            "text/plain": [
              "id                object\n",
              "mercado           object\n",
              "cidade            object\n",
              "cliente           object\n",
              "genero            object\n",
              "linha_produto     object\n",
              "preco_unid       float64\n",
              "quantidade         int64\n",
              "tax              float64\n",
              "preco_total      float64\n",
              "data              object\n",
              "hora              object\n",
              "pagamento         object\n",
              "cpv              float64\n",
              "margem_bruta     float64\n",
              "renda_bruta      float64\n",
              "avaliacao        float64\n",
              "dtype: object"
            ]
          },
          "metadata": {},
          "execution_count": 71
        }
      ]
    },
    {
      "cell_type": "code",
      "metadata": {
        "id": "jGPfps20qo2J",
        "colab": {
          "base_uri": "https://localhost:8080/",
          "height": 318
        },
        "outputId": "5b03ce91-acb8-4f08-a921-c3fd7a668b62"
      },
      "source": [
        "# Identificando o volume de dados do DataFrame\n",
        "print(df.shape)\n",
        "\n",
        "# quantidade de negocio vazio \n",
        "df.describe()"
      ],
      "execution_count": 102,
      "outputs": [
        {
          "output_type": "stream",
          "name": "stdout",
          "text": [
            "(989, 15)\n"
          ]
        },
        {
          "output_type": "execute_result",
          "data": {
            "text/html": [
              "\n",
              "  <div id=\"df-15d2a707-91b1-4b3d-8cab-c2366e228bce\">\n",
              "    <div class=\"colab-df-container\">\n",
              "      <div>\n",
              "<style scoped>\n",
              "    .dataframe tbody tr th:only-of-type {\n",
              "        vertical-align: middle;\n",
              "    }\n",
              "\n",
              "    .dataframe tbody tr th {\n",
              "        vertical-align: top;\n",
              "    }\n",
              "\n",
              "    .dataframe thead th {\n",
              "        text-align: right;\n",
              "    }\n",
              "</style>\n",
              "<table border=\"1\" class=\"dataframe\">\n",
              "  <thead>\n",
              "    <tr style=\"text-align: right;\">\n",
              "      <th></th>\n",
              "      <th>preco_unid</th>\n",
              "      <th>quantidade</th>\n",
              "      <th>tax</th>\n",
              "      <th>preco_total</th>\n",
              "      <th>hora</th>\n",
              "      <th>cpv</th>\n",
              "      <th>renda_bruta</th>\n",
              "      <th>avaliacao</th>\n",
              "    </tr>\n",
              "  </thead>\n",
              "  <tbody>\n",
              "    <tr>\n",
              "      <th>count</th>\n",
              "      <td>989.000000</td>\n",
              "      <td>989.000000</td>\n",
              "      <td>989.000000</td>\n",
              "      <td>989.000000</td>\n",
              "      <td>989.000000</td>\n",
              "      <td>989.000000</td>\n",
              "      <td>989.000000</td>\n",
              "      <td>989.000000</td>\n",
              "    </tr>\n",
              "    <tr>\n",
              "      <th>mean</th>\n",
              "      <td>55.221132</td>\n",
              "      <td>5.460061</td>\n",
              "      <td>15.015323</td>\n",
              "      <td>315.321774</td>\n",
              "      <td>14.916077</td>\n",
              "      <td>300.306451</td>\n",
              "      <td>15.015323</td>\n",
              "      <td>6.978261</td>\n",
              "    </tr>\n",
              "    <tr>\n",
              "      <th>std</th>\n",
              "      <td>26.290258</td>\n",
              "      <td>2.900801</td>\n",
              "      <td>11.248965</td>\n",
              "      <td>236.228273</td>\n",
              "      <td>3.192545</td>\n",
              "      <td>224.979308</td>\n",
              "      <td>11.248965</td>\n",
              "      <td>1.718294</td>\n",
              "    </tr>\n",
              "    <tr>\n",
              "      <th>min</th>\n",
              "      <td>10.080000</td>\n",
              "      <td>1.000000</td>\n",
              "      <td>0.508500</td>\n",
              "      <td>10.678500</td>\n",
              "      <td>10.000000</td>\n",
              "      <td>10.170000</td>\n",
              "      <td>0.508500</td>\n",
              "      <td>4.000000</td>\n",
              "    </tr>\n",
              "    <tr>\n",
              "      <th>25%</th>\n",
              "      <td>32.620000</td>\n",
              "      <td>3.000000</td>\n",
              "      <td>5.803000</td>\n",
              "      <td>121.863000</td>\n",
              "      <td>12.000000</td>\n",
              "      <td>116.060000</td>\n",
              "      <td>5.803000</td>\n",
              "      <td>5.500000</td>\n",
              "    </tr>\n",
              "    <tr>\n",
              "      <th>50%</th>\n",
              "      <td>54.730000</td>\n",
              "      <td>5.000000</td>\n",
              "      <td>12.012000</td>\n",
              "      <td>252.252000</td>\n",
              "      <td>15.000000</td>\n",
              "      <td>240.240000</td>\n",
              "      <td>12.012000</td>\n",
              "      <td>7.000000</td>\n",
              "    </tr>\n",
              "    <tr>\n",
              "      <th>75%</th>\n",
              "      <td>77.400000</td>\n",
              "      <td>8.000000</td>\n",
              "      <td>22.068000</td>\n",
              "      <td>463.428000</td>\n",
              "      <td>18.000000</td>\n",
              "      <td>441.360000</td>\n",
              "      <td>22.068000</td>\n",
              "      <td>8.500000</td>\n",
              "    </tr>\n",
              "    <tr>\n",
              "      <th>max</th>\n",
              "      <td>99.960000</td>\n",
              "      <td>10.000000</td>\n",
              "      <td>44.982000</td>\n",
              "      <td>944.622000</td>\n",
              "      <td>20.000000</td>\n",
              "      <td>899.640000</td>\n",
              "      <td>44.982000</td>\n",
              "      <td>10.000000</td>\n",
              "    </tr>\n",
              "  </tbody>\n",
              "</table>\n",
              "</div>\n",
              "      <button class=\"colab-df-convert\" onclick=\"convertToInteractive('df-15d2a707-91b1-4b3d-8cab-c2366e228bce')\"\n",
              "              title=\"Convert this dataframe to an interactive table.\"\n",
              "              style=\"display:none;\">\n",
              "        \n",
              "  <svg xmlns=\"http://www.w3.org/2000/svg\" height=\"24px\"viewBox=\"0 0 24 24\"\n",
              "       width=\"24px\">\n",
              "    <path d=\"M0 0h24v24H0V0z\" fill=\"none\"/>\n",
              "    <path d=\"M18.56 5.44l.94 2.06.94-2.06 2.06-.94-2.06-.94-.94-2.06-.94 2.06-2.06.94zm-11 1L8.5 8.5l.94-2.06 2.06-.94-2.06-.94L8.5 2.5l-.94 2.06-2.06.94zm10 10l.94 2.06.94-2.06 2.06-.94-2.06-.94-.94-2.06-.94 2.06-2.06.94z\"/><path d=\"M17.41 7.96l-1.37-1.37c-.4-.4-.92-.59-1.43-.59-.52 0-1.04.2-1.43.59L10.3 9.45l-7.72 7.72c-.78.78-.78 2.05 0 2.83L4 21.41c.39.39.9.59 1.41.59.51 0 1.02-.2 1.41-.59l7.78-7.78 2.81-2.81c.8-.78.8-2.07 0-2.86zM5.41 20L4 18.59l7.72-7.72 1.47 1.35L5.41 20z\"/>\n",
              "  </svg>\n",
              "      </button>\n",
              "      \n",
              "  <style>\n",
              "    .colab-df-container {\n",
              "      display:flex;\n",
              "      flex-wrap:wrap;\n",
              "      gap: 12px;\n",
              "    }\n",
              "\n",
              "    .colab-df-convert {\n",
              "      background-color: #E8F0FE;\n",
              "      border: none;\n",
              "      border-radius: 50%;\n",
              "      cursor: pointer;\n",
              "      display: none;\n",
              "      fill: #1967D2;\n",
              "      height: 32px;\n",
              "      padding: 0 0 0 0;\n",
              "      width: 32px;\n",
              "    }\n",
              "\n",
              "    .colab-df-convert:hover {\n",
              "      background-color: #E2EBFA;\n",
              "      box-shadow: 0px 1px 2px rgba(60, 64, 67, 0.3), 0px 1px 3px 1px rgba(60, 64, 67, 0.15);\n",
              "      fill: #174EA6;\n",
              "    }\n",
              "\n",
              "    [theme=dark] .colab-df-convert {\n",
              "      background-color: #3B4455;\n",
              "      fill: #D2E3FC;\n",
              "    }\n",
              "\n",
              "    [theme=dark] .colab-df-convert:hover {\n",
              "      background-color: #434B5C;\n",
              "      box-shadow: 0px 1px 3px 1px rgba(0, 0, 0, 0.15);\n",
              "      filter: drop-shadow(0px 1px 2px rgba(0, 0, 0, 0.3));\n",
              "      fill: #FFFFFF;\n",
              "    }\n",
              "  </style>\n",
              "\n",
              "      <script>\n",
              "        const buttonEl =\n",
              "          document.querySelector('#df-15d2a707-91b1-4b3d-8cab-c2366e228bce button.colab-df-convert');\n",
              "        buttonEl.style.display =\n",
              "          google.colab.kernel.accessAllowed ? 'block' : 'none';\n",
              "\n",
              "        async function convertToInteractive(key) {\n",
              "          const element = document.querySelector('#df-15d2a707-91b1-4b3d-8cab-c2366e228bce');\n",
              "          const dataTable =\n",
              "            await google.colab.kernel.invokeFunction('convertToInteractive',\n",
              "                                                     [key], {});\n",
              "          if (!dataTable) return;\n",
              "\n",
              "          const docLinkHtml = 'Like what you see? Visit the ' +\n",
              "            '<a target=\"_blank\" href=https://colab.research.google.com/notebooks/data_table.ipynb>data table notebook</a>'\n",
              "            + ' to learn more about interactive tables.';\n",
              "          element.innerHTML = '';\n",
              "          dataTable['output_type'] = 'display_data';\n",
              "          await google.colab.output.renderOutput(dataTable, element);\n",
              "          const docLink = document.createElement('div');\n",
              "          docLink.innerHTML = docLinkHtml;\n",
              "          element.appendChild(docLink);\n",
              "        }\n",
              "      </script>\n",
              "    </div>\n",
              "  </div>\n",
              "  "
            ],
            "text/plain": [
              "       preco_unid  quantidade         tax  ...         cpv  renda_bruta   avaliacao\n",
              "count  989.000000  989.000000  989.000000  ...  989.000000   989.000000  989.000000\n",
              "mean    55.221132    5.460061   15.015323  ...  300.306451    15.015323    6.978261\n",
              "std     26.290258    2.900801   11.248965  ...  224.979308    11.248965    1.718294\n",
              "min     10.080000    1.000000    0.508500  ...   10.170000     0.508500    4.000000\n",
              "25%     32.620000    3.000000    5.803000  ...  116.060000     5.803000    5.500000\n",
              "50%     54.730000    5.000000   12.012000  ...  240.240000    12.012000    7.000000\n",
              "75%     77.400000    8.000000   22.068000  ...  441.360000    22.068000    8.500000\n",
              "max     99.960000   10.000000   44.982000  ...  899.640000    44.982000   10.000000\n",
              "\n",
              "[8 rows x 8 columns]"
            ]
          },
          "metadata": {},
          "execution_count": 102
        }
      ]
    },
    {
      "cell_type": "markdown",
      "source": [
        "Após essa análise, podemos ver que esse Dataframe possui 989 linhas e 15 colunas. Além disso, as váriaveis estão classificadas da seguinte maneira: int, que são os valores inteiros, float, que são os valores decimais, e object, que são as palavras."
      ],
      "metadata": {
        "id": "D4X7MzrgMeLR"
      }
    },
    {
      "cell_type": "markdown",
      "source": [
        "## Tratamento dos dados"
      ],
      "metadata": {
        "id": "kC4d1ICQZBV6"
      }
    },
    {
      "cell_type": "markdown",
      "source": [
        "Nesta etapa irei realizar o tratamento de dados, ou seja, preparar o data set para deixá-lo da melhor maneira para começar quando começar a análise. "
      ],
      "metadata": {
        "id": "PrSMeTuK40BY"
      }
    },
    {
      "cell_type": "code",
      "source": [
        "#apagar coluna de city\n",
        "df = df.drop(columns=['cidade', 'margem_bruta'])"
      ],
      "metadata": {
        "id": "rZvcTJMvbuch"
      },
      "execution_count": 73,
      "outputs": []
    },
    {
      "cell_type": "markdown",
      "source": [
        "###Tratando outliers"
      ],
      "metadata": {
        "id": "seERw_NjZPto"
      }
    },
    {
      "cell_type": "code",
      "source": [
        "# Box plot com os outliers\n",
        "df.preco_total.plot(kind='box', vert=False, figsize=(15,2))\n",
        "plt.show()"
      ],
      "metadata": {
        "colab": {
          "base_uri": "https://localhost:8080/",
          "height": 156
        },
        "id": "l4GOqPDjkMJC",
        "outputId": "921723a0-ff84-4483-92be-e16103243f30"
      },
      "execution_count": 74,
      "outputs": [
        {
          "output_type": "display_data",
          "data": {
            "image/png": "[encoded data removed]",
            "text/plain": [
              "<Figure size 1080x144 with 1 Axes>"
            ]
          },
          "metadata": {
            "needs_background": "light"
          }
        }
      ]
    },
    {
      "cell_type": "code",
      "source": [
        "print('{} entradas'.format(len(df[df.preco_total > 950])))\n",
        "print('{:.2f}%'.format((len(df[df.preco_total > 950])/df.shape[0])*100))"
      ],
      "metadata": {
        "colab": {
          "base_uri": "https://localhost:8080/"
        },
        "id": "PehZOgZSk2gX",
        "outputId": "1f08c233-b235-472e-ae5a-7f1d8f4aa041"
      },
      "execution_count": 75,
      "outputs": [
        {
          "output_type": "stream",
          "name": "stdout",
          "text": [
            "11 entradas\n",
            "1.10%\n"
          ]
        }
      ]
    },
    {
      "cell_type": "code",
      "source": [
        "# removendo os valores acima de 950\n",
        "df.drop(df[df.preco_total > 950].index, axis=0, inplace=True)"
      ],
      "metadata": {
        "id": "kkIQ4u_Rkg8Q"
      },
      "execution_count": 76,
      "outputs": []
    },
    {
      "cell_type": "code",
      "source": [
        "# Box plot sem os outliers\n",
        "df.preco_total.plot(kind='box', vert=False, figsize=(15,2))\n",
        "plt.show()"
      ],
      "metadata": {
        "colab": {
          "base_uri": "https://localhost:8080/",
          "height": 156
        },
        "id": "DPh1wNe-lA-4",
        "outputId": "8ee1f303-9f2d-4429-9a21-d4df8ab13e92"
      },
      "execution_count": 77,
      "outputs": [
        {
          "output_type": "display_data",
          "data": {
            "image/png": "[encoded data removed]",
            "text/plain": [
              "<Figure size 1080x144 with 1 Axes>"
            ]
          },
          "metadata": {
            "needs_background": "light"
          }
        }
      ]
    },
    {
      "cell_type": "markdown",
      "source": [
        "###Transformação de variaveis "
      ],
      "metadata": {
        "id": "x8bjQ5xxZKgZ"
      }
    },
    {
      "cell_type": "code",
      "source": [
        "# mudando o tipo da variável data\n",
        "df.data = pd.to_datetime(df.data, format='%m/%d/%Y')"
      ],
      "metadata": {
        "id": "NUl2qG9SeBTS"
      },
      "execution_count": 78,
      "outputs": []
    },
    {
      "cell_type": "code",
      "source": [
        "# mudando o tipo da variável hora\n",
        "df.hora = pd.to_datetime(df.hora, format='%H:%M')"
      ],
      "metadata": {
        "id": "LYUDrJslheqB"
      },
      "execution_count": 79,
      "outputs": []
    },
    {
      "cell_type": "code",
      "source": [
        "# novos tipos das variáveis\n",
        "df.dtypes"
      ],
      "metadata": {
        "colab": {
          "base_uri": "https://localhost:8080/"
        },
        "id": "zL6f_2xBeuXh",
        "outputId": "d8340b91-a043-4c4b-cdff-65e85b95b3bf"
      },
      "execution_count": 80,
      "outputs": [
        {
          "output_type": "execute_result",
          "data": {
            "text/plain": [
              "id                       object\n",
              "mercado                  object\n",
              "cliente                  object\n",
              "genero                   object\n",
              "linha_produto            object\n",
              "preco_unid              float64\n",
              "quantidade                int64\n",
              "tax                     float64\n",
              "preco_total             float64\n",
              "data             datetime64[ns]\n",
              "hora             datetime64[ns]\n",
              "pagamento                object\n",
              "cpv                     float64\n",
              "renda_bruta             float64\n",
              "avaliacao               float64\n",
              "dtype: object"
            ]
          },
          "metadata": {},
          "execution_count": 80
        }
      ]
    },
    {
      "cell_type": "code",
      "metadata": {
        "id": "jbQka45bqz6i",
        "colab": {
          "base_uri": "https://localhost:8080/",
          "height": 728
        },
        "outputId": "139dc343-e4f2-4736-e4cb-113acdc63626"
      },
      "source": [
        "# histogramas \n",
        "df.hist(bins=12, figsize=(18,10), grid=False, ec = 'k', color = p)\n",
        "\n",
        "plt.tight_layout()"
      ],
      "execution_count": 81,
      "outputs": [
        {
          "output_type": "display_data",
          "data": {
            "image/png": "[encoded data removed]",
            "text/plain": [
              "<Figure size 1296x720 with 9 Axes>"
            ]
          },
          "metadata": {
            "needs_background": "light"
          }
        }
      ]
    },
    {
      "cell_type": "markdown",
      "source": [
        "### Valores nulos"
      ],
      "metadata": {
        "id": "2Jx5xcaiZFqw"
      }
    },
    {
      "cell_type": "markdown",
      "source": [
        "Aqui irei verificar se há a presença de valores nulos no dataset"
      ],
      "metadata": {
        "id": "TRzeY3_NU_AA"
      }
    },
    {
      "cell_type": "code",
      "source": [
        "# valores vazios\n",
        "(df.isnull().sum() / df.shape[0]).sort_values(ascending=False) * 100"
      ],
      "metadata": {
        "colab": {
          "base_uri": "https://localhost:8080/"
        },
        "id": "fleG6J6titQ3",
        "outputId": "52ea501e-f064-4e63-dc80-1f3d36fe4075"
      },
      "execution_count": 82,
      "outputs": [
        {
          "output_type": "execute_result",
          "data": {
            "text/plain": [
              "avaliacao        0.0\n",
              "renda_bruta      0.0\n",
              "cpv              0.0\n",
              "pagamento        0.0\n",
              "hora             0.0\n",
              "data             0.0\n",
              "preco_total      0.0\n",
              "tax              0.0\n",
              "quantidade       0.0\n",
              "preco_unid       0.0\n",
              "linha_produto    0.0\n",
              "genero           0.0\n",
              "cliente          0.0\n",
              "mercado          0.0\n",
              "id               0.0\n",
              "dtype: float64"
            ]
          },
          "metadata": {},
          "execution_count": 82
        }
      ]
    },
    {
      "cell_type": "markdown",
      "source": [
        "#Análise Exploratoria"
      ],
      "metadata": {
        "id": "PD4PCa0kZaWQ"
      }
    },
    {
      "cell_type": "markdown",
      "source": [
        "Após o tratamento dos dados no dataset irei iniciar a análise explortória. Aqui irei mostrar as estatísticas detalhadas de alguns dados desse dataset, como por exemplo qual a maior receita entre os mercados, dentre outros... Vamos começar?"
      ],
      "metadata": {
        "id": "vebSOtnXVWd0"
      }
    },
    {
      "cell_type": "markdown",
      "source": [
        "## Total, Média e Desvio padrão de vendas"
      ],
      "metadata": {
        "id": "4itzekQnZdhg"
      }
    },
    {
      "cell_type": "markdown",
      "source": [
        "Nessa etapa irei análisar os dados no geral e depois irei fazer a anáise por mercado."
      ],
      "metadata": {
        "id": "y5euyTmGWUIK"
      }
    },
    {
      "cell_type": "code",
      "source": [
        "# quantidade total, media e desvio padrao\n",
        "print('Soma da receita dos mercados A, B e C: R${:.2f}'.format(df.preco_total.sum()))\n",
        "print('Média da receita dos mercados A, B e C: R${:.2f}'.format(df.preco_total.mean()))\n",
        "print('Desvio Padrão da receita dos mercados A, B e C: R${:.2f}'.format(df.preco_total.std()))"
      ],
      "metadata": {
        "id": "b8cqp-BbaCM6",
        "colab": {
          "base_uri": "https://localhost:8080/"
        },
        "outputId": "9f0826d6-0bdf-4d90-ea4b-c34eb72c3c06"
      },
      "execution_count": 83,
      "outputs": [
        {
          "output_type": "stream",
          "name": "stdout",
          "text": [
            "Soma da receita dos mercados A, B e C: R$311853.23\n",
            "Média da receita dos mercados A, B e C: R$315.32\n",
            "Desvio Padrão da receita dos mercados A, B e C: R$236.23\n"
          ]
        }
      ]
    },
    {
      "cell_type": "markdown",
      "source": [
        "##Qual gênero mais compra?"
      ],
      "metadata": {
        "id": "Vb7qdVj2ZpCm"
      }
    },
    {
      "cell_type": "code",
      "source": [
        "#genero que mais compra\n",
        "print(df['genero'].value_counts() / df.shape[0] * 100)\n",
        "# ticket médio\n",
        "df.groupby('genero').preco_total.mean().sort_values(ascending=False)[:]"
      ],
      "metadata": {
        "colab": {
          "base_uri": "https://localhost:8080/"
        },
        "id": "3GnyEFD-HWoQ",
        "outputId": "abbc42c8-1ec4-4d09-d949-9d592a343e3f"
      },
      "execution_count": 84,
      "outputs": [
        {
          "output_type": "stream",
          "name": "stdout",
          "text": [
            "Male      50.050556\n",
            "Female    49.949444\n",
            "Name: genero, dtype: float64\n"
          ]
        },
        {
          "output_type": "execute_result",
          "data": {
            "text/plain": [
              "genero\n",
              "Female    325.478320\n",
              "Male      305.185745\n",
              "Name: preco_total, dtype: float64"
            ]
          },
          "metadata": {},
          "execution_count": 84
        }
      ]
    },
    {
      "cell_type": "markdown",
      "source": [
        "##Qual tipo de cliente mais compra?"
      ],
      "metadata": {
        "id": "LLukp7GKZuBP"
      }
    },
    {
      "cell_type": "code",
      "source": [
        "#tipo de cliente\n",
        "print(df['cliente'].value_counts() / df.shape[0] * 100)\n",
        "df.groupby('cliente').preco_total.mean().sort_values(ascending=False)[:]"
      ],
      "metadata": {
        "colab": {
          "base_uri": "https://localhost:8080/"
        },
        "id": "PdrBQBtPIZRp",
        "outputId": "7bee20b1-6db5-4e53-9286-7d99ae9fd74a"
      },
      "execution_count": 85,
      "outputs": [
        {
          "output_type": "stream",
          "name": "stdout",
          "text": [
            "Member    50.151668\n",
            "Normal    49.848332\n",
            "Name: cliente, dtype: float64\n"
          ]
        },
        {
          "output_type": "execute_result",
          "data": {
            "text/plain": [
              "cliente\n",
              "Member    321.015230\n",
              "Normal    309.593671\n",
              "Name: preco_total, dtype: float64"
            ]
          },
          "metadata": {},
          "execution_count": 85
        }
      ]
    },
    {
      "cell_type": "markdown",
      "source": [
        "## Quais as Linhas de Produtos mais vendidas?"
      ],
      "metadata": {
        "id": "T-ly1SA6ZzGX"
      }
    },
    {
      "cell_type": "code",
      "source": [
        "df.linha_produto.value_counts()"
      ],
      "metadata": {
        "colab": {
          "base_uri": "https://localhost:8080/"
        },
        "id": "-Gg0O4BQHF6W",
        "outputId": "47a4d89f-ad9b-49cd-e5e7-c894618777c5"
      },
      "execution_count": 86,
      "outputs": [
        {
          "output_type": "execute_result",
          "data": {
            "text/plain": [
              "Fashion accessories       175\n",
              "Food and beverages        173\n",
              "Electronic accessories    170\n",
              "Sports and travel         165\n",
              "Home and lifestyle        155\n",
              "Health and beauty         151\n",
              "Name: linha_produto, dtype: int64"
            ]
          },
          "metadata": {},
          "execution_count": 86
        }
      ]
    },
    {
      "cell_type": "markdown",
      "source": [
        "### Geral"
      ],
      "metadata": {
        "id": "QqmKeL9BLu8m"
      }
    },
    {
      "cell_type": "code",
      "source": [
        "df.groupby('linha_produto').preco_total.sum().round(2).sort_values(ascending=False)"
      ],
      "metadata": {
        "colab": {
          "base_uri": "https://localhost:8080/"
        },
        "id": "51PSJOcnvHn8",
        "outputId": "cc4a37b5-a389-46ac-e40e-349a9d87af40"
      },
      "execution_count": 87,
      "outputs": [
        {
          "output_type": "execute_result",
          "data": {
            "text/plain": [
              "linha_produto\n",
              "Food and beverages        55110.38\n",
              "Electronic accessories    54337.53\n",
              "Sports and travel         54120.71\n",
              "Fashion accessories       51203.25\n",
              "Home and lifestyle        48837.87\n",
              "Health and beauty         48243.49\n",
              "Name: preco_total, dtype: float64"
            ]
          },
          "metadata": {},
          "execution_count": 87
        }
      ]
    },
    {
      "cell_type": "code",
      "source": [
        "fig, ax = plt.subplots(figsize=(8, 4))\n",
        "\n",
        "df.groupby('linha_produto').preco_total.sum().sort_values(ascending=False).plot(kind='barh', ax=ax, color = cor,width=0.8);\n",
        "\n",
        "ax.text(-0.2, 1.3,'VENDAS', transform=ax.transAxes,fontsize=24, fontweight='bold',color=p)\n",
        "ax.text(-0.2, 1.1,'A LINHA DE PRODUTO MAIS VENDIDA \\nEM TODOS OS MERCADOS', transform=ax.transAxes,fontsize=16, color='#A1A5A6')\n",
        "\n",
        "ax.invert_yaxis()\n",
        "ax.spines['right'].set_visible(False)\n",
        "ax.spines['top'].set_visible(False)\n",
        "ax.spines['left'].set_visible(False)\n",
        "ax.spines['bottom'].set_visible(False)\n",
        "ax.set_xticklabels(labels=[], set_visible=False)\n",
        "ax.set_xticks(ticks=[])\n",
        "ax.set_ylabel('')\n",
        "ax.tick_params(axis=\"y\", labelsize=12, colors=\"w\")\n",
        "ax.set_facecolor('#383838')\n",
        "fig.patch.set_facecolor('#383838')\n",
        "\n",
        "ax.text(0.35, 0.87,'R$55.110.38', transform=ax.transAxes,fontweight='bold',fontsize=15, color='w')\n",
        "\n",
        "plt.tight_layout()\n",
        "plt.show()"
      ],
      "metadata": {
        "colab": {
          "base_uri": "https://localhost:8080/",
          "height": 286
        },
        "id": "xvXNqXG8L3Tp",
        "outputId": "10e9fc05-ce5d-4598-85bd-8c3a7088f81a"
      },
      "execution_count": 88,
      "outputs": [
        {
          "output_type": "display_data",
          "data": {
            "image/png": "[encoded data removed]",
            "text/plain": [
              "<Figure size 576x288 with 1 Axes>"
            ]
          },
          "metadata": {}
        }
      ]
    },
    {
      "cell_type": "markdown",
      "source": [
        "### Individual"
      ],
      "metadata": {
        "id": "cZPcxcfkqaKb"
      }
    },
    {
      "cell_type": "markdown",
      "source": [
        "Por Receita"
      ],
      "metadata": {
        "id": "NzbBiHOdw75j"
      }
    },
    {
      "cell_type": "code",
      "source": [
        "print('Mercado A','\\n',df.loc[df.mercado == 'A'].linha_produto.value_counts(),'\\n')\n",
        "print('Mercado B','\\n',df.loc[df.mercado == 'B'].linha_produto.value_counts(),'\\n')\n",
        "print('Mercado C','\\n',df.loc[df.mercado == 'C'].linha_produto.value_counts())\n",
        "\n",
        "df_A = df.loc[df.mercado == 'A']\n",
        "df_B = df.loc[df.mercado == 'B']\n",
        "df_C = df.loc[df.mercado == 'C']"
      ],
      "metadata": {
        "colab": {
          "base_uri": "https://localhost:8080/"
        },
        "id": "DrN-cfutqqmH",
        "outputId": "f1f9300a-ff0e-46f2-ab76-47dfdcf81aad"
      },
      "execution_count": 89,
      "outputs": [
        {
          "output_type": "stream",
          "name": "stdout",
          "text": [
            "Mercado A \n",
            " Home and lifestyle        64\n",
            "Electronic accessories    60\n",
            "Sports and travel         59\n",
            "Food and beverages        58\n",
            "Fashion accessories       50\n",
            "Health and beauty         47\n",
            "Name: linha_produto, dtype: int64 \n",
            "\n",
            "Mercado B \n",
            " Fashion accessories       62\n",
            "Sports and travel         62\n",
            "Electronic accessories    55\n",
            "Health and beauty         53\n",
            "Food and beverages        50\n",
            "Home and lifestyle        48\n",
            "Name: linha_produto, dtype: int64 \n",
            "\n",
            "Mercado C \n",
            " Food and beverages        65\n",
            "Fashion accessories       63\n",
            "Electronic accessories    55\n",
            "Health and beauty         51\n",
            "Sports and travel         44\n",
            "Home and lifestyle        43\n",
            "Name: linha_produto, dtype: int64\n"
          ]
        }
      ]
    },
    {
      "cell_type": "code",
      "source": [
        "print(df_A.groupby('linha_produto').preco_total.sum().round(2).sort_values(ascending=False), '\\n')\n",
        "print(df_B.groupby('linha_produto').preco_total.sum().round(2).sort_values(ascending=False), '\\n')\n",
        "print(df_C.groupby('linha_produto').preco_total.sum().round(2).sort_values(ascending=False))"
      ],
      "metadata": {
        "colab": {
          "base_uri": "https://localhost:8080/"
        },
        "id": "APe22PKt9GeI",
        "outputId": "cc1ba7e7-592e-40c9-d205-0e3b938d9b06"
      },
      "execution_count": 90,
      "outputs": [
        {
          "output_type": "stream",
          "name": "stdout",
          "text": [
            "linha_produto\n",
            "Home and lifestyle        21465.37\n",
            "Sports and travel         19372.70\n",
            "Electronic accessories    18317.11\n",
            "Food and beverages        17163.10\n",
            "Fashion accessories       15293.22\n",
            "Health and beauty         12597.75\n",
            "Name: preco_total, dtype: float64 \n",
            "\n",
            "linha_produto\n",
            "Sports and travel         19988.20\n",
            "Health and beauty         19980.66\n",
            "Electronic accessories    17051.44\n",
            "Fashion accessories       16413.32\n",
            "Home and lifestyle        15504.29\n",
            "Food and beverages        15214.89\n",
            "Name: preco_total, dtype: float64 \n",
            "\n",
            "linha_produto\n",
            "Food and beverages        22732.39\n",
            "Fashion accessories       19496.72\n",
            "Electronic accessories    18968.97\n",
            "Health and beauty         15665.08\n",
            "Sports and travel         14759.81\n",
            "Home and lifestyle        11868.21\n",
            "Name: preco_total, dtype: float64\n"
          ]
        }
      ]
    },
    {
      "cell_type": "code",
      "source": [
        "fig, (ax1, ax2, ax3) = plt.subplots(ncols = 3, nrows = 1, figsize=(18, 5))\n",
        "\n",
        "df_A.groupby('linha_produto').preco_total.sum().round(2).sort_values(ascending=False).plot(kind='barh', ax=ax1, color = cor,width=0.8);\n",
        "df_B.groupby('linha_produto').preco_total.sum().round(2).sort_values(ascending=False).plot(kind='barh', ax=ax2, color = cor,width=0.8);\n",
        "df_C.groupby('linha_produto').preco_total.sum().round(2).sort_values(ascending=False).plot(kind='barh', ax=ax3, color = cor,width=0.8);\n",
        "\n",
        "\n",
        "ax1.text(-0.5, 1.3,'VENDAS', transform=ax1.transAxes,fontsize=24, fontweight='bold',color=p)\n",
        "ax1.text(-0.5, 1.1,'A LINHA DE PRODUTO MAIS VENDIDA \\nEM CADA MERCADO', transform=ax1.transAxes,fontsize=16, color='#A1A5A6')\n",
        "ax1.text(0, 1,'Mercado A', transform=ax1.transAxes,fontsize=16, color='#A1A5A6')\n",
        "ax2.text(0, 1,'Mercado B', transform=ax2.transAxes,fontsize=16, color='#A1A5A6')\n",
        "ax3.text(0, 1,'Mercado C', transform=ax3.transAxes,fontsize=16, color='#A1A5A6')\n",
        "\n",
        "ax1.text(0.33, 0.87,'R$21.465.37', transform=ax1.transAxes,fontweight='bold',fontsize=15, color='w')\n",
        "ax2.text(0.33, 0.87,'R$19.988.20', transform=ax2.transAxes,fontweight='bold',fontsize=15, color='w')\n",
        "ax3.text(0.33, 0.87,'R$22.732.39', transform=ax3.transAxes,fontweight='bold',fontsize=15, color='w')\n",
        "\n",
        "for ax in (ax1, ax2, ax3):\n",
        "  ax.invert_yaxis()\n",
        "  ax.spines['right'].set_visible(False)\n",
        "  ax.spines['top'].set_visible(False)\n",
        "  ax.spines['left'].set_visible(False)\n",
        "  ax.spines['bottom'].set_visible(False)\n",
        "  ax.set_xticklabels(labels=[], set_visible=False)\n",
        "  ax.set_xticks(ticks=[])\n",
        "  ax.set_facecolor('#383838')\n",
        "  fig.patch.set_facecolor('#383838')\n",
        "  ax.tick_params(axis=\"y\", labelsize=12, colors='w')\n",
        "  ax.set_ylabel('')\n",
        "  plt.tight_layout()"
      ],
      "metadata": {
        "colab": {
          "base_uri": "https://localhost:8080/",
          "height": 373
        },
        "id": "YgE5gxzWpDkt",
        "outputId": "88576688-7cac-4082-80d9-64412107220a"
      },
      "execution_count": 91,
      "outputs": [
        {
          "output_type": "display_data",
          "data": {
            "image/png": "[encoded data removed]",
            "text/plain": [
              "<Figure size 1296x360 with 3 Axes>"
            ]
          },
          "metadata": {}
        }
      ]
    },
    {
      "cell_type": "markdown",
      "source": [
        "## Vendas Totais"
      ],
      "metadata": {
        "id": "lNoixqO_aDjw"
      }
    },
    {
      "cell_type": "code",
      "source": [
        "df.groupby('mercado').preco_total.sum().round(2).sort_values(ascending=False)[:3]"
      ],
      "metadata": {
        "colab": {
          "base_uri": "https://localhost:8080/"
        },
        "id": "0cBV2B2Gm8f7",
        "outputId": "c6aca8a9-54f5-4576-f4e5-8fe5d9101a1e"
      },
      "execution_count": 92,
      "outputs": [
        {
          "output_type": "execute_result",
          "data": {
            "text/plain": [
              "mercado\n",
              "A    104209.26\n",
              "B    104152.80\n",
              "C    103491.18\n",
              "Name: preco_total, dtype: float64"
            ]
          },
          "metadata": {},
          "execution_count": 92
        }
      ]
    },
    {
      "cell_type": "code",
      "source": [
        "fig, ax = plt.subplots(figsize=(8, 6), dpi=72)\n",
        "\n",
        "df.groupby('mercado').preco_total.sum().round(2).sort_values(ascending=False)[:3].plot(kind='bar', ax=ax, color = cor,width=0.8);\n",
        "\n",
        "ax.text(0.07, 1.2,'RECEITA POR MERCADO', transform=ax.transAxes,fontsize=24, fontweight='bold',color=p)\n",
        "ax.text(0.07, 1.15,'FATURAMENTO DE CADA MERCADO', transform=ax.transAxes,fontsize=16, color='#A1A5A6')\n",
        "\n",
        "ax.spines['right'].set_visible(False)\n",
        "ax.spines['top'].set_visible(False)\n",
        "ax.spines['left'].set_visible(False)\n",
        "ax.spines['bottom'].set_visible(False)\n",
        "\n",
        "ax.tick_params(axis=\"x\", labelsize=13, colors='w')\n",
        "ax.set_yticklabels([])\n",
        "ax.set_yticks([])\n",
        "\n",
        "ax.set_xlabel('') \n",
        "ax.text(-0.38, 1.35,'R$104.209.26', transform=ax1.transAxes,fontweight='bold',fontsize=15, color='#A1A5A6')\n",
        "\n",
        "\n",
        "ax.set_facecolor('#383838')\n",
        "fig.patch.set_facecolor('#383838')\n",
        "plt.xticks(rotation='horizontal') \n",
        "plt.tight_layout()\n",
        "plt.show()"
      ],
      "metadata": {
        "colab": {
          "base_uri": "https://localhost:8080/",
          "height": 436
        },
        "id": "XkvNS_EOcs9X",
        "outputId": "f55ed9ac-421c-4282-d9f1-99eb0bb2336d"
      },
      "execution_count": 93,
      "outputs": [
        {
          "output_type": "display_data",
          "data": {
            "image/png": "[encoded data removed]",
            "text/plain": [
              "<Figure size 576x432 with 1 Axes>"
            ]
          },
          "metadata": {}
        }
      ]
    },
    {
      "cell_type": "markdown",
      "source": [
        "## Avaliações dos Clientes"
      ],
      "metadata": {
        "id": "pY3pMGEWaM6I"
      }
    },
    {
      "cell_type": "code",
      "metadata": {
        "id": "XPSJO4r2rXkC",
        "colab": {
          "base_uri": "https://localhost:8080/"
        },
        "outputId": "f00c51a6-4eea-4549-9e63-00c20e083666"
      },
      "source": [
        "# quais mercados tem menos e mais classificação \n",
        "df.groupby('mercado').avaliacao.mean().round(2).sort_values(ascending=False)[:]"
      ],
      "execution_count": 94,
      "outputs": [
        {
          "output_type": "execute_result",
          "data": {
            "text/plain": [
              "mercado\n",
              "C    7.08\n",
              "A    7.02\n",
              "B    6.83\n",
              "Name: avaliacao, dtype: float64"
            ]
          },
          "metadata": {},
          "execution_count": 94
        }
      ]
    },
    {
      "cell_type": "markdown",
      "source": [
        "## Forma de pagamento mais usada"
      ],
      "metadata": {
        "id": "5y7WK68taTj6"
      }
    },
    {
      "cell_type": "code",
      "metadata": {
        "id": "sSkd1HL9rm2z",
        "colab": {
          "base_uri": "https://localhost:8080/"
        },
        "outputId": "91ceb92f-8511-422e-fbb2-68dbc77ce4b5"
      },
      "source": [
        "# qual tipo de pagamento menos e mais usado \n",
        "df.pagamento.value_counts() / df.shape[0] * 100"
      ],
      "execution_count": 95,
      "outputs": [
        {
          "output_type": "execute_result",
          "data": {
            "text/plain": [
              "Cash           34.479272\n",
              "Ewallet        34.479272\n",
              "Credit card    31.041456\n",
              "Name: pagamento, dtype: float64"
            ]
          },
          "metadata": {},
          "execution_count": 95
        }
      ]
    },
    {
      "cell_type": "markdown",
      "source": [
        "## Qual dia da semana mais vende?\n",
        "\n",
        "Seg = 0, Ter = 1, ... "
      ],
      "metadata": {
        "id": "uOCG9ZMcabrg"
      }
    },
    {
      "cell_type": "code",
      "source": [
        "df['data'].apply(lambda x: x.weekday()). value_counts()"
      ],
      "metadata": {
        "colab": {
          "base_uri": "https://localhost:8080/"
        },
        "id": "fkICWJtUsj0M",
        "outputId": "cbae1675-c91a-4686-e7de-17b7e618b8af"
      },
      "execution_count": 96,
      "outputs": [
        {
          "output_type": "execute_result",
          "data": {
            "text/plain": [
              "5    162\n",
              "1    157\n",
              "2    140\n",
              "3    138\n",
              "4    134\n",
              "6    133\n",
              "0    125\n",
              "Name: data, dtype: int64"
            ]
          },
          "metadata": {},
          "execution_count": 96
        }
      ]
    },
    {
      "cell_type": "code",
      "source": [
        "fig, ax = plt.subplots()\n",
        "df['data'].apply(lambda x: x.weekday()).hist(bins=7, ax=ax, grid=False, ec = 'k', color = p);\n",
        "\n",
        "ax.text(0, 1.25,'COMPRAS POR DIA DA SEMANA', transform=ax.transAxes,fontsize=24, fontweight='bold',color=p)\n",
        "ax.text(0, 1.05,'QUANTIDADE DE COMPRAS \\nPOR DIA DA SEMANA', transform=ax.transAxes,fontsize=16, color='#A1A5A6')\n",
        "\n",
        "ax.spines['right'].set_visible(False)\n",
        "ax.spines['top'].set_visible(False)\n",
        "ax.spines['left'].set_visible(False)\n",
        "ax.spines['bottom'].set_visible(False)\n",
        "\n",
        "ax.set_yticklabels(labels=[], set_visible=False)\n",
        "ax.set_yticks(ticks=[])\n",
        "ax.set_facecolor('#383838')\n",
        "fig.patch.set_facecolor('#383838')\n",
        "ax.tick_params(axis=\"x\", labelsize=12, colors='w')\n",
        "\n",
        "plt.tight_layout()\n",
        "plt.show()"
      ],
      "metadata": {
        "id": "TzheRtG-f4xV",
        "colab": {
          "base_uri": "https://localhost:8080/",
          "height": 285
        },
        "outputId": "88011e36-4b51-45c3-c4dd-42a27e9e6fa2"
      },
      "execution_count": 101,
      "outputs": [
        {
          "output_type": "display_data",
          "data": {
            "image/png": "[encoded data removed]",
            "text/plain": [
              "<Figure size 432x288 with 1 Axes>"
            ]
          },
          "metadata": {}
        }
      ]
    },
    {
      "cell_type": "markdown",
      "source": [
        "## Qual hora do dia mais vende?"
      ],
      "metadata": {
        "id": "dwgY0SCvahcp"
      }
    },
    {
      "cell_type": "code",
      "source": [
        "#horas com mais compras\n",
        "df['hora'] = df['hora'].dt.hour\n",
        "df.hora.value_counts()"
      ],
      "metadata": {
        "id": "ZcwF7tbiF9JX",
        "colab": {
          "base_uri": "https://localhost:8080/"
        },
        "outputId": "f8803469-8b35-4347-b42a-e61c63b939d3"
      },
      "execution_count": 98,
      "outputs": [
        {
          "output_type": "execute_result",
          "data": {
            "text/plain": [
              "19    113\n",
              "15    102\n",
              "10    100\n",
              "13     98\n",
              "18     93\n",
              "11     90\n",
              "12     89\n",
              "14     82\n",
              "16     75\n",
              "20     74\n",
              "17     73\n",
              "Name: hora, dtype: int64"
            ]
          },
          "metadata": {},
          "execution_count": 98
        }
      ]
    },
    {
      "cell_type": "code",
      "source": [
        "fig, ax = plt.subplots()\n",
        "df['hora'].hist(ax=ax, grid=False, ec = 'k', color = p);\n",
        "\n",
        "ax.text(0, 1.15,'COMPRAS POR HORÁRIO', transform=ax.transAxes,fontsize=24, fontweight='bold',color=p)\n",
        "ax.text(0, 0.95,'QUANTIDADE DE COMPRAS \\nPOR COMPRA EM HORA DO DIA', transform=ax.transAxes,fontsize=16, color='#A1A5A6')\n",
        "\n",
        "ax.spines['right'].set_visible(False)\n",
        "ax.spines['top'].set_visible(False)\n",
        "ax.spines['left'].set_visible(False)\n",
        "ax.spines['bottom'].set_visible(False)\n",
        "\n",
        "ax.set_yticklabels(labels=[], set_visible=False)\n",
        "ax.set_yticks(ticks=[])\n",
        "ax.set_facecolor('#383838')\n",
        "fig.patch.set_facecolor('#383838')\n",
        "ax.tick_params(axis=\"x\", labelsize=12, colors='w')\n",
        "\n",
        "plt.tight_layout()"
      ],
      "metadata": {
        "id": "VkDOrqrVAz5w",
        "colab": {
          "base_uri": "https://localhost:8080/",
          "height": 294
        },
        "outputId": "7affc20c-e17c-4741-fc9f-dd4a4d313573"
      },
      "execution_count": 99,
      "outputs": [
        {
          "output_type": "display_data",
          "data": {
            "image/png": "[encoded data removed]",
            "text/plain": [
              "<Figure size 432x288 with 1 Axes>"
            ]
          },
          "metadata": {}
        }
      ]
    },
    {
      "cell_type": "markdown",
      "source": [
        "# Conclusões"
      ],
      "metadata": {
        "id": "eZ0L628CxEk4"
      }
    },
    {
      "cell_type": "markdown",
      "source": [
        "Após analisar esse dataset, é possível chegar à algumas conclusões, sendo essas:\n",
        "* O Ticket médio dos Membros é maior que o dos CLientes;\n",
        "* Sábado é o dia em que mais ocorrem vendas;\n",
        "* A Linha de Produtos de Alimentos e Bebidas é a máis rentável no geral;\n",
        "* O supermercado A é o mais rentável dos 3;\n",
        "\n",
        "Dentre outras conclusões. Vale ressaltar que esse projeto foi feito para fins de estudo sobre o assunto. Logo, em caso de trabalhos sérios para empresas reais este seria feito de forma mais aprofundada, focado em apresentar mais insights que ajudassem na tomada de decisão da empresa. \n",
        "\n",
        "Desde já, agradeço por ter lido.\n"
      ],
      "metadata": {
        "id": "SBogiYjJM3nZ"
      }
    }
  ]
}